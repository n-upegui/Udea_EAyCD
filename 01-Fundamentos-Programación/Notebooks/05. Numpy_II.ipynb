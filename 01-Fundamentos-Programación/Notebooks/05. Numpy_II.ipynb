{
 "cells": [
  {
   "cell_type": "markdown",
   "metadata": {
    "id": "TL2iIrOSr-vS"
   },
   "source": [
    "# **Concatenación de arreglos**\n",
    "\n",
    "\n",
    "La concatenación, o unión de dos arreglos en NumPy, se realiza principalmente a través de la función `concatenate`:"
   ]
  },
  {
   "cell_type": "code",
   "execution_count": 4,
   "metadata": {},
   "outputs": [],
   "source": [
    "import numpy as np"
   ]
  },
  {
   "cell_type": "code",
   "execution_count": 1,
   "metadata": {
    "colab": {
     "base_uri": "https://localhost:8080/"
    },
    "executionInfo": {
     "elapsed": 1151,
     "status": "ok",
     "timestamp": 1613432644916,
     "user": {
      "displayName": "TOMAS ATEHORTUA GARCES",
      "photoUrl": "https://lh3.googleusercontent.com/a-/AOh14GirRCNcB5b8d4b9XScppMxMItAIFiob8mTFaMMdZN6MXrBcOaLg4_hYXiQ02S6_15FkILlwHkvMCQGkke9uuxmJqolSCSsRYRql5D1jq3mPQLRunqqLX0mqJD30-e8HowzS3QXK7Js0keFfrIrEXleCX6fzcnzpi04yQEE9i-9EuY1ub2mlMKEiA49N8pHj13B1offvWkFYNeo_GHwBsDk0g-60zm97O0C5A5nmQdXkHjCngNP2muze1HfMfPiTAdRknOGX8O-GyVUKliPgj2HVEF6HwDFqiJmnvdB1ZCu_K-5DDEKGEcrewYlqA3rKPWFZi-E8HJPI82Hr6ZVhiU4SAGse5aNEsixY8yQtNehUZeVGqRI0tU2aIDbp4rytWaPM32bJ2MTckrih0ead_gdh7Zk7CfKSzaqf0qdrMzZpeikSP9v1B-Jfk1rGc1jzA4J8-7Lf_kmKdJJXRn3gclxcPtkydJPco1YUwGhTKp4r8cjJN6QO5SiFXaUpq6sYJrixdvTyqIhcuxhM80rJb6kVuTiRzGJCBLSpAqjuxybLh5O42yGiDhg189veP9jd2tQTYwYkNTTaqVgKrfkZmLLvDZlegqCxQNYWHgOPrDNbSDCgHxq0XnfngmUgpuX-qCtfdwpIqtE6ojlbwq1oeM3gdadZwkT0fKSm6Ph05fB80zRk-ItD4f9v8QOJLVsCjXw6MgUmzmXabOS9ZiR-qIwktIr7US5E4yBmV4oufIrvdAZ49MrZBqcuLAWsq00S121Ae0c=s64",
      "userId": "03427284999883076130"
     },
     "user_tz": 300
    },
    "id": "30pTH355WHzt",
    "outputId": "a33058f0-a646-4bd5-c989-ed47f7705d0c"
   },
   "outputs": [
    {
     "data": {
      "text/plain": [
       "[1, 2, 3, 4, 5, 6]"
      ]
     },
     "execution_count": 1,
     "metadata": {},
     "output_type": "execute_result"
    }
   ],
   "source": [
    "#Concatenación de listas\n",
    "x = [1, 2, 3]\n",
    "y = [4, 5, 6]\n",
    "\n",
    "x + y"
   ]
  },
  {
   "cell_type": "code",
   "execution_count": 5,
   "metadata": {
    "colab": {
     "base_uri": "https://localhost:8080/"
    },
    "executionInfo": {
     "elapsed": 1990,
     "status": "ok",
     "timestamp": 1613432645790,
     "user": {
      "displayName": "TOMAS ATEHORTUA GARCES",
      "photoUrl": "https://lh3.googleusercontent.com/a-/AOh14GirRCNcB5b8d4b9XScppMxMItAIFiob8mTFaMMdZN6MXrBcOaLg4_hYXiQ02S6_15FkILlwHkvMCQGkke9uuxmJqolSCSsRYRql5D1jq3mPQLRunqqLX0mqJD30-e8HowzS3QXK7Js0keFfrIrEXleCX6fzcnzpi04yQEE9i-9EuY1ub2mlMKEiA49N8pHj13B1offvWkFYNeo_GHwBsDk0g-60zm97O0C5A5nmQdXkHjCngNP2muze1HfMfPiTAdRknOGX8O-GyVUKliPgj2HVEF6HwDFqiJmnvdB1ZCu_K-5DDEKGEcrewYlqA3rKPWFZi-E8HJPI82Hr6ZVhiU4SAGse5aNEsixY8yQtNehUZeVGqRI0tU2aIDbp4rytWaPM32bJ2MTckrih0ead_gdh7Zk7CfKSzaqf0qdrMzZpeikSP9v1B-Jfk1rGc1jzA4J8-7Lf_kmKdJJXRn3gclxcPtkydJPco1YUwGhTKp4r8cjJN6QO5SiFXaUpq6sYJrixdvTyqIhcuxhM80rJb6kVuTiRzGJCBLSpAqjuxybLh5O42yGiDhg189veP9jd2tQTYwYkNTTaqVgKrfkZmLLvDZlegqCxQNYWHgOPrDNbSDCgHxq0XnfngmUgpuX-qCtfdwpIqtE6ojlbwq1oeM3gdadZwkT0fKSm6Ph05fB80zRk-ItD4f9v8QOJLVsCjXw6MgUmzmXabOS9ZiR-qIwktIr7US5E4yBmV4oufIrvdAZ49MrZBqcuLAWsq00S121Ae0c=s64",
      "userId": "03427284999883076130"
     },
     "user_tz": 300
    },
    "id": "Uz_G-Xb4sBYh",
    "outputId": "30ee86f6-02c9-415e-9c73-77b06f07ec35"
   },
   "outputs": [
    {
     "data": {
      "text/plain": [
       "array([1, 2, 3, 4, 5, 6])"
      ]
     },
     "execution_count": 5,
     "metadata": {},
     "output_type": "execute_result"
    }
   ],
   "source": [
    "#Concatenación en numpy\n",
    "\n",
    "xa = np.array(x)\n",
    "ya = np.array(y)\n",
    "\n",
    "np.concatenate((xa, ya))"
   ]
  },
  {
   "cell_type": "markdown",
   "metadata": {
    "id": "zcNOU4kSsC1b"
   },
   "source": [
    "Podemos concatenar más de dos arreglos al tiempo:"
   ]
  },
  {
   "cell_type": "code",
   "execution_count": 6,
   "metadata": {
    "colab": {
     "base_uri": "https://localhost:8080/"
    },
    "executionInfo": {
     "elapsed": 1974,
     "status": "ok",
     "timestamp": 1613432645791,
     "user": {
      "displayName": "TOMAS ATEHORTUA GARCES",
      "photoUrl": "https://lh3.googleusercontent.com/a-/AOh14GirRCNcB5b8d4b9XScppMxMItAIFiob8mTFaMMdZN6MXrBcOaLg4_hYXiQ02S6_15FkILlwHkvMCQGkke9uuxmJqolSCSsRYRql5D1jq3mPQLRunqqLX0mqJD30-e8HowzS3QXK7Js0keFfrIrEXleCX6fzcnzpi04yQEE9i-9EuY1ub2mlMKEiA49N8pHj13B1offvWkFYNeo_GHwBsDk0g-60zm97O0C5A5nmQdXkHjCngNP2muze1HfMfPiTAdRknOGX8O-GyVUKliPgj2HVEF6HwDFqiJmnvdB1ZCu_K-5DDEKGEcrewYlqA3rKPWFZi-E8HJPI82Hr6ZVhiU4SAGse5aNEsixY8yQtNehUZeVGqRI0tU2aIDbp4rytWaPM32bJ2MTckrih0ead_gdh7Zk7CfKSzaqf0qdrMzZpeikSP9v1B-Jfk1rGc1jzA4J8-7Lf_kmKdJJXRn3gclxcPtkydJPco1YUwGhTKp4r8cjJN6QO5SiFXaUpq6sYJrixdvTyqIhcuxhM80rJb6kVuTiRzGJCBLSpAqjuxybLh5O42yGiDhg189veP9jd2tQTYwYkNTTaqVgKrfkZmLLvDZlegqCxQNYWHgOPrDNbSDCgHxq0XnfngmUgpuX-qCtfdwpIqtE6ojlbwq1oeM3gdadZwkT0fKSm6Ph05fB80zRk-ItD4f9v8QOJLVsCjXw6MgUmzmXabOS9ZiR-qIwktIr7US5E4yBmV4oufIrvdAZ49MrZBqcuLAWsq00S121Ae0c=s64",
      "userId": "03427284999883076130"
     },
     "user_tz": 300
    },
    "id": "K7f86U0GsEIW",
    "outputId": "32b33c93-9f9e-429f-ffa9-4df18b166178"
   },
   "outputs": [
    {
     "data": {
      "text/plain": [
       "array([1, 2, 3, 4, 5, 6, 7, 8, 9])"
      ]
     },
     "execution_count": 6,
     "metadata": {},
     "output_type": "execute_result"
    }
   ],
   "source": [
    "za = np.array([7, 8, 9])\n",
    "\n",
    "np.concatenate((xa, ya, za))"
   ]
  },
  {
   "cell_type": "markdown",
   "metadata": {
    "id": "VPqoXckzsGa-"
   },
   "source": [
    "`concatenate` también se puede usar para arreglos bidimensionales. Recuerde que las filas corresponden al eje 1 (axis = 1) y las columnas al eje 0 (axis = 0)\n",
    "\n",
    "\n",
    "<p><img alt=\"Colaboratory logo\" height=\"300px\" src=\"https://i.imgur.com/KYPgvhf.png\" align=\"left\" hspace=\"10px\" vspace=\"0px\"></p>"
   ]
  },
  {
   "cell_type": "code",
   "execution_count": 8,
   "metadata": {
    "colab": {
     "base_uri": "https://localhost:8080/"
    },
    "executionInfo": {
     "elapsed": 1961,
     "status": "ok",
     "timestamp": 1613432645792,
     "user": {
      "displayName": "TOMAS ATEHORTUA GARCES",
      "photoUrl": "https://lh3.googleusercontent.com/a-/AOh14GirRCNcB5b8d4b9XScppMxMItAIFiob8mTFaMMdZN6MXrBcOaLg4_hYXiQ02S6_15FkILlwHkvMCQGkke9uuxmJqolSCSsRYRql5D1jq3mPQLRunqqLX0mqJD30-e8HowzS3QXK7Js0keFfrIrEXleCX6fzcnzpi04yQEE9i-9EuY1ub2mlMKEiA49N8pHj13B1offvWkFYNeo_GHwBsDk0g-60zm97O0C5A5nmQdXkHjCngNP2muze1HfMfPiTAdRknOGX8O-GyVUKliPgj2HVEF6HwDFqiJmnvdB1ZCu_K-5DDEKGEcrewYlqA3rKPWFZi-E8HJPI82Hr6ZVhiU4SAGse5aNEsixY8yQtNehUZeVGqRI0tU2aIDbp4rytWaPM32bJ2MTckrih0ead_gdh7Zk7CfKSzaqf0qdrMzZpeikSP9v1B-Jfk1rGc1jzA4J8-7Lf_kmKdJJXRn3gclxcPtkydJPco1YUwGhTKp4r8cjJN6QO5SiFXaUpq6sYJrixdvTyqIhcuxhM80rJb6kVuTiRzGJCBLSpAqjuxybLh5O42yGiDhg189veP9jd2tQTYwYkNTTaqVgKrfkZmLLvDZlegqCxQNYWHgOPrDNbSDCgHxq0XnfngmUgpuX-qCtfdwpIqtE6ojlbwq1oeM3gdadZwkT0fKSm6Ph05fB80zRk-ItD4f9v8QOJLVsCjXw6MgUmzmXabOS9ZiR-qIwktIr7US5E4yBmV4oufIrvdAZ49MrZBqcuLAWsq00S121Ae0c=s64",
      "userId": "03427284999883076130"
     },
     "user_tz": 300
    },
    "id": "rAFfAXkIsG96",
    "outputId": "df3bf212-b0e1-4154-f1c7-f4be60e2e82d"
   },
   "outputs": [
    {
     "data": {
      "text/plain": [
       "array([[ 8,  9],\n",
       "       [10, 11],\n",
       "       [12, 13]])"
      ]
     },
     "execution_count": 8,
     "metadata": {},
     "output_type": "execute_result"
    }
   ],
   "source": [
    "a = np.arange(8, 14).reshape(3, 2)\n",
    "a"
   ]
  },
  {
   "cell_type": "code",
   "execution_count": 9,
   "metadata": {},
   "outputs": [
    {
     "data": {
      "text/plain": [
       "array([[ 8,  9],\n",
       "       [10, 11],\n",
       "       [12, 13],\n",
       "       [ 8,  9],\n",
       "       [10, 11],\n",
       "       [12, 13]])"
      ]
     },
     "execution_count": 9,
     "metadata": {},
     "output_type": "execute_result"
    }
   ],
   "source": [
    "np.concatenate((a,a), axis = 0)"
   ]
  },
  {
   "cell_type": "markdown",
   "metadata": {
    "id": "RzHXLfyOsUvW"
   },
   "source": [
    "Si queremos realizar la concatenación a lo largo del eje 1, debemos especificar el eje por medio de un argumento por palabra clave:"
   ]
  },
  {
   "cell_type": "code",
   "execution_count": 10,
   "metadata": {
    "colab": {
     "base_uri": "https://localhost:8080/"
    },
    "executionInfo": {
     "elapsed": 1948,
     "status": "ok",
     "timestamp": 1613432645793,
     "user": {
      "displayName": "TOMAS ATEHORTUA GARCES",
      "photoUrl": "https://lh3.googleusercontent.com/a-/AOh14GirRCNcB5b8d4b9XScppMxMItAIFiob8mTFaMMdZN6MXrBcOaLg4_hYXiQ02S6_15FkILlwHkvMCQGkke9uuxmJqolSCSsRYRql5D1jq3mPQLRunqqLX0mqJD30-e8HowzS3QXK7Js0keFfrIrEXleCX6fzcnzpi04yQEE9i-9EuY1ub2mlMKEiA49N8pHj13B1offvWkFYNeo_GHwBsDk0g-60zm97O0C5A5nmQdXkHjCngNP2muze1HfMfPiTAdRknOGX8O-GyVUKliPgj2HVEF6HwDFqiJmnvdB1ZCu_K-5DDEKGEcrewYlqA3rKPWFZi-E8HJPI82Hr6ZVhiU4SAGse5aNEsixY8yQtNehUZeVGqRI0tU2aIDbp4rytWaPM32bJ2MTckrih0ead_gdh7Zk7CfKSzaqf0qdrMzZpeikSP9v1B-Jfk1rGc1jzA4J8-7Lf_kmKdJJXRn3gclxcPtkydJPco1YUwGhTKp4r8cjJN6QO5SiFXaUpq6sYJrixdvTyqIhcuxhM80rJb6kVuTiRzGJCBLSpAqjuxybLh5O42yGiDhg189veP9jd2tQTYwYkNTTaqVgKrfkZmLLvDZlegqCxQNYWHgOPrDNbSDCgHxq0XnfngmUgpuX-qCtfdwpIqtE6ojlbwq1oeM3gdadZwkT0fKSm6Ph05fB80zRk-ItD4f9v8QOJLVsCjXw6MgUmzmXabOS9ZiR-qIwktIr7US5E4yBmV4oufIrvdAZ49MrZBqcuLAWsq00S121Ae0c=s64",
      "userId": "03427284999883076130"
     },
     "user_tz": 300
    },
    "id": "Q25jz3A3sSwA",
    "outputId": "61a8d537-8aff-42b3-9c7e-922b55dad090"
   },
   "outputs": [
    {
     "data": {
      "text/plain": [
       "array([[ 8,  9,  8,  9],\n",
       "       [10, 11, 10, 11],\n",
       "       [12, 13, 12, 13]])"
      ]
     },
     "execution_count": 10,
     "metadata": {},
     "output_type": "execute_result"
    }
   ],
   "source": [
    "np.concatenate((a,a), axis = 1)"
   ]
  },
  {
   "cell_type": "markdown",
   "metadata": {
    "id": "MZE1_jAJsYle"
   },
   "source": [
    "La función `vstack()` es equivalente a la concatenación a lo largo del primer eje (axis=0). Al igual que `concatenate()`, recibe como argumento una secuencia de arreglos que, en este caso, deben tener la misma forma a lo largo de todos los ejes, excepto el primero. Los arreglos unidimensionales deben tener la misma longitud:"
   ]
  },
  {
   "cell_type": "code",
   "execution_count": 11,
   "metadata": {
    "colab": {
     "base_uri": "https://localhost:8080/"
    },
    "executionInfo": {
     "elapsed": 1930,
     "status": "ok",
     "timestamp": 1613432645795,
     "user": {
      "displayName": "TOMAS ATEHORTUA GARCES",
      "photoUrl": "https://lh3.googleusercontent.com/a-/AOh14GirRCNcB5b8d4b9XScppMxMItAIFiob8mTFaMMdZN6MXrBcOaLg4_hYXiQ02S6_15FkILlwHkvMCQGkke9uuxmJqolSCSsRYRql5D1jq3mPQLRunqqLX0mqJD30-e8HowzS3QXK7Js0keFfrIrEXleCX6fzcnzpi04yQEE9i-9EuY1ub2mlMKEiA49N8pHj13B1offvWkFYNeo_GHwBsDk0g-60zm97O0C5A5nmQdXkHjCngNP2muze1HfMfPiTAdRknOGX8O-GyVUKliPgj2HVEF6HwDFqiJmnvdB1ZCu_K-5DDEKGEcrewYlqA3rKPWFZi-E8HJPI82Hr6ZVhiU4SAGse5aNEsixY8yQtNehUZeVGqRI0tU2aIDbp4rytWaPM32bJ2MTckrih0ead_gdh7Zk7CfKSzaqf0qdrMzZpeikSP9v1B-Jfk1rGc1jzA4J8-7Lf_kmKdJJXRn3gclxcPtkydJPco1YUwGhTKp4r8cjJN6QO5SiFXaUpq6sYJrixdvTyqIhcuxhM80rJb6kVuTiRzGJCBLSpAqjuxybLh5O42yGiDhg189veP9jd2tQTYwYkNTTaqVgKrfkZmLLvDZlegqCxQNYWHgOPrDNbSDCgHxq0XnfngmUgpuX-qCtfdwpIqtE6ojlbwq1oeM3gdadZwkT0fKSm6Ph05fB80zRk-ItD4f9v8QOJLVsCjXw6MgUmzmXabOS9ZiR-qIwktIr7US5E4yBmV4oufIrvdAZ49MrZBqcuLAWsq00S121Ae0c=s64",
      "userId": "03427284999883076130"
     },
     "user_tz": 300
    },
    "id": "ksN9Gjr3sZM_",
    "outputId": "ae66691c-89ad-482c-d315-641a2209294c"
   },
   "outputs": [
    {
     "name": "stdout",
     "output_type": "stream",
     "text": [
      "[1 2 3]\n",
      "[[4 5 6]\n",
      " [7 8 9]]\n"
     ]
    }
   ],
   "source": [
    "# dimensiones mixtas\n",
    "a = np.array([1, 2, 3])\n",
    "b = np.arange(4, 10).reshape(2, 3)\n",
    "\n",
    "print(a)\n",
    "print(b)"
   ]
  },
  {
   "cell_type": "code",
   "execution_count": 12,
   "metadata": {
    "colab": {
     "base_uri": "https://localhost:8080/"
    },
    "executionInfo": {
     "elapsed": 1920,
     "status": "ok",
     "timestamp": 1613432645795,
     "user": {
      "displayName": "TOMAS ATEHORTUA GARCES",
      "photoUrl": "https://lh3.googleusercontent.com/a-/AOh14GirRCNcB5b8d4b9XScppMxMItAIFiob8mTFaMMdZN6MXrBcOaLg4_hYXiQ02S6_15FkILlwHkvMCQGkke9uuxmJqolSCSsRYRql5D1jq3mPQLRunqqLX0mqJD30-e8HowzS3QXK7Js0keFfrIrEXleCX6fzcnzpi04yQEE9i-9EuY1ub2mlMKEiA49N8pHj13B1offvWkFYNeo_GHwBsDk0g-60zm97O0C5A5nmQdXkHjCngNP2muze1HfMfPiTAdRknOGX8O-GyVUKliPgj2HVEF6HwDFqiJmnvdB1ZCu_K-5DDEKGEcrewYlqA3rKPWFZi-E8HJPI82Hr6ZVhiU4SAGse5aNEsixY8yQtNehUZeVGqRI0tU2aIDbp4rytWaPM32bJ2MTckrih0ead_gdh7Zk7CfKSzaqf0qdrMzZpeikSP9v1B-Jfk1rGc1jzA4J8-7Lf_kmKdJJXRn3gclxcPtkydJPco1YUwGhTKp4r8cjJN6QO5SiFXaUpq6sYJrixdvTyqIhcuxhM80rJb6kVuTiRzGJCBLSpAqjuxybLh5O42yGiDhg189veP9jd2tQTYwYkNTTaqVgKrfkZmLLvDZlegqCxQNYWHgOPrDNbSDCgHxq0XnfngmUgpuX-qCtfdwpIqtE6ojlbwq1oeM3gdadZwkT0fKSm6Ph05fB80zRk-ItD4f9v8QOJLVsCjXw6MgUmzmXabOS9ZiR-qIwktIr7US5E4yBmV4oufIrvdAZ49MrZBqcuLAWsq00S121Ae0c=s64",
      "userId": "03427284999883076130"
     },
     "user_tz": 300
    },
    "id": "x3_6Q_2FscYp",
    "outputId": "51fd6a29-c21e-425a-9b8f-a606e55af9c4"
   },
   "outputs": [
    {
     "data": {
      "text/plain": [
       "array([[1, 2, 3],\n",
       "       [4, 5, 6],\n",
       "       [7, 8, 9]])"
      ]
     },
     "execution_count": 12,
     "metadata": {},
     "output_type": "execute_result"
    }
   ],
   "source": [
    "np.vstack((a, b))"
   ]
  },
  {
   "cell_type": "code",
   "execution_count": 15,
   "metadata": {
    "colab": {
     "base_uri": "https://localhost:8080/"
    },
    "executionInfo": {
     "elapsed": 1912,
     "status": "ok",
     "timestamp": 1613432645796,
     "user": {
      "displayName": "TOMAS ATEHORTUA GARCES",
      "photoUrl": "https://lh3.googleusercontent.com/a-/AOh14GirRCNcB5b8d4b9XScppMxMItAIFiob8mTFaMMdZN6MXrBcOaLg4_hYXiQ02S6_15FkILlwHkvMCQGkke9uuxmJqolSCSsRYRql5D1jq3mPQLRunqqLX0mqJD30-e8HowzS3QXK7Js0keFfrIrEXleCX6fzcnzpi04yQEE9i-9EuY1ub2mlMKEiA49N8pHj13B1offvWkFYNeo_GHwBsDk0g-60zm97O0C5A5nmQdXkHjCngNP2muze1HfMfPiTAdRknOGX8O-GyVUKliPgj2HVEF6HwDFqiJmnvdB1ZCu_K-5DDEKGEcrewYlqA3rKPWFZi-E8HJPI82Hr6ZVhiU4SAGse5aNEsixY8yQtNehUZeVGqRI0tU2aIDbp4rytWaPM32bJ2MTckrih0ead_gdh7Zk7CfKSzaqf0qdrMzZpeikSP9v1B-Jfk1rGc1jzA4J8-7Lf_kmKdJJXRn3gclxcPtkydJPco1YUwGhTKp4r8cjJN6QO5SiFXaUpq6sYJrixdvTyqIhcuxhM80rJb6kVuTiRzGJCBLSpAqjuxybLh5O42yGiDhg189veP9jd2tQTYwYkNTTaqVgKrfkZmLLvDZlegqCxQNYWHgOPrDNbSDCgHxq0XnfngmUgpuX-qCtfdwpIqtE6ojlbwq1oeM3gdadZwkT0fKSm6Ph05fB80zRk-ItD4f9v8QOJLVsCjXw6MgUmzmXabOS9ZiR-qIwktIr7US5E4yBmV4oufIrvdAZ49MrZBqcuLAWsq00S121Ae0c=s64",
      "userId": "03427284999883076130"
     },
     "user_tz": 300
    },
    "id": "Nt3cnr7Sseuw",
    "outputId": "3654eb57-ccbf-47d7-dc7a-549ffcf91f08"
   },
   "outputs": [
    {
     "name": "stdout",
     "output_type": "stream",
     "text": [
      "all the input arrays must have same number of dimensions, but the array at index 0 has 1 dimension(s) and the array at index 1 has 2 dimension(s)\n"
     ]
    }
   ],
   "source": [
    "#No se puede hacer si presentan dimensionalidad diferente\n",
    "try:\n",
    "    np.hstack((a, b))\n",
    "except Exception as e:\n",
    "    print(e)"
   ]
  },
  {
   "cell_type": "markdown",
   "metadata": {
    "id": "rNg0TU0asy7E"
   },
   "source": [
    "Similarmente, la función `hstack()` realiza una concatenación a lo largo del segundo eje (axis=1), y los arreglos que toma como argumento deben coincidir en la forma a lo largo de este eje. Los arreglos unidimensionales pueden ser de cualquier longitud"
   ]
  },
  {
   "cell_type": "code",
   "execution_count": 16,
   "metadata": {
    "colab": {
     "base_uri": "https://localhost:8080/"
    },
    "executionInfo": {
     "elapsed": 1902,
     "status": "ok",
     "timestamp": 1613432645797,
     "user": {
      "displayName": "TOMAS ATEHORTUA GARCES",
      "photoUrl": "https://lh3.googleusercontent.com/a-/AOh14GirRCNcB5b8d4b9XScppMxMItAIFiob8mTFaMMdZN6MXrBcOaLg4_hYXiQ02S6_15FkILlwHkvMCQGkke9uuxmJqolSCSsRYRql5D1jq3mPQLRunqqLX0mqJD30-e8HowzS3QXK7Js0keFfrIrEXleCX6fzcnzpi04yQEE9i-9EuY1ub2mlMKEiA49N8pHj13B1offvWkFYNeo_GHwBsDk0g-60zm97O0C5A5nmQdXkHjCngNP2muze1HfMfPiTAdRknOGX8O-GyVUKliPgj2HVEF6HwDFqiJmnvdB1ZCu_K-5DDEKGEcrewYlqA3rKPWFZi-E8HJPI82Hr6ZVhiU4SAGse5aNEsixY8yQtNehUZeVGqRI0tU2aIDbp4rytWaPM32bJ2MTckrih0ead_gdh7Zk7CfKSzaqf0qdrMzZpeikSP9v1B-Jfk1rGc1jzA4J8-7Lf_kmKdJJXRn3gclxcPtkydJPco1YUwGhTKp4r8cjJN6QO5SiFXaUpq6sYJrixdvTyqIhcuxhM80rJb6kVuTiRzGJCBLSpAqjuxybLh5O42yGiDhg189veP9jd2tQTYwYkNTTaqVgKrfkZmLLvDZlegqCxQNYWHgOPrDNbSDCgHxq0XnfngmUgpuX-qCtfdwpIqtE6ojlbwq1oeM3gdadZwkT0fKSm6Ph05fB80zRk-ItD4f9v8QOJLVsCjXw6MgUmzmXabOS9ZiR-qIwktIr7US5E4yBmV4oufIrvdAZ49MrZBqcuLAWsq00S121Ae0c=s64",
      "userId": "03427284999883076130"
     },
     "user_tz": 300
    },
    "id": "KF_CvPe0s0n7",
    "outputId": "385b43c6-d8b5-4362-b415-144df133d25a"
   },
   "outputs": [],
   "source": [
    "#dimensiones mixtas\n",
    "a = np.array([[1, 2], [3, 4]])\n"
   ]
  },
  {
   "cell_type": "code",
   "execution_count": 17,
   "metadata": {
    "colab": {
     "base_uri": "https://localhost:8080/"
    },
    "executionInfo": {
     "elapsed": 1893,
     "status": "ok",
     "timestamp": 1613432645798,
     "user": {
      "displayName": "TOMAS ATEHORTUA GARCES",
      "photoUrl": "https://lh3.googleusercontent.com/a-/AOh14GirRCNcB5b8d4b9XScppMxMItAIFiob8mTFaMMdZN6MXrBcOaLg4_hYXiQ02S6_15FkILlwHkvMCQGkke9uuxmJqolSCSsRYRql5D1jq3mPQLRunqqLX0mqJD30-e8HowzS3QXK7Js0keFfrIrEXleCX6fzcnzpi04yQEE9i-9EuY1ub2mlMKEiA49N8pHj13B1offvWkFYNeo_GHwBsDk0g-60zm97O0C5A5nmQdXkHjCngNP2muze1HfMfPiTAdRknOGX8O-GyVUKliPgj2HVEF6HwDFqiJmnvdB1ZCu_K-5DDEKGEcrewYlqA3rKPWFZi-E8HJPI82Hr6ZVhiU4SAGse5aNEsixY8yQtNehUZeVGqRI0tU2aIDbp4rytWaPM32bJ2MTckrih0ead_gdh7Zk7CfKSzaqf0qdrMzZpeikSP9v1B-Jfk1rGc1jzA4J8-7Lf_kmKdJJXRn3gclxcPtkydJPco1YUwGhTKp4r8cjJN6QO5SiFXaUpq6sYJrixdvTyqIhcuxhM80rJb6kVuTiRzGJCBLSpAqjuxybLh5O42yGiDhg189veP9jd2tQTYwYkNTTaqVgKrfkZmLLvDZlegqCxQNYWHgOPrDNbSDCgHxq0XnfngmUgpuX-qCtfdwpIqtE6ojlbwq1oeM3gdadZwkT0fKSm6Ph05fB80zRk-ItD4f9v8QOJLVsCjXw6MgUmzmXabOS9ZiR-qIwktIr7US5E4yBmV4oufIrvdAZ49MrZBqcuLAWsq00S121Ae0c=s64",
      "userId": "03427284999883076130"
     },
     "user_tz": 300
    },
    "id": "rX6Xkep0s26E",
    "outputId": "20516064-068d-448b-fa98-9d3286dba20c"
   },
   "outputs": [
    {
     "data": {
      "text/plain": [
       "array([[1, 2, 4, 5, 6],\n",
       "       [3, 4, 7, 8, 9]])"
      ]
     },
     "execution_count": 17,
     "metadata": {},
     "output_type": "execute_result"
    }
   ],
   "source": [
    "#arreglos unidimensionales\n",
    "np.hstack((a, b))"
   ]
  },
  {
   "cell_type": "markdown",
   "metadata": {},
   "source": [
    "### **Slicing o segmentación en Python**\n",
    "\n",
    "```\n",
    "l[inicio: final(no incluyente): paso]\n",
    "```"
   ]
  },
  {
   "cell_type": "code",
   "execution_count": 44,
   "metadata": {},
   "outputs": [
    {
     "data": {
      "text/plain": [
       "[10, 20, 30, 40, 50, 60, 70, 80, 90, 100, 110, 120, 130, 140, 150]"
      ]
     },
     "execution_count": 44,
     "metadata": {},
     "output_type": "execute_result"
    }
   ],
   "source": [
    "l = list(range(10, 160, 10))\n",
    "l"
   ]
  },
  {
   "cell_type": "code",
   "execution_count": 45,
   "metadata": {},
   "outputs": [
    {
     "data": {
      "text/plain": [
       "[10, 20, 30, 40, 50]"
      ]
     },
     "execution_count": 45,
     "metadata": {},
     "output_type": "execute_result"
    }
   ],
   "source": [
    "l[0 : 5]"
   ]
  },
  {
   "cell_type": "code",
   "execution_count": 46,
   "metadata": {},
   "outputs": [
    {
     "data": {
      "text/plain": [
       "[10, 20, 30, 40, 50]"
      ]
     },
     "execution_count": 46,
     "metadata": {},
     "output_type": "execute_result"
    }
   ],
   "source": [
    "l[ : 5]"
   ]
  },
  {
   "cell_type": "code",
   "execution_count": 47,
   "metadata": {},
   "outputs": [
    {
     "data": {
      "text/plain": [
       "[90, 100, 110, 120, 130, 140, 150]"
      ]
     },
     "execution_count": 47,
     "metadata": {},
     "output_type": "execute_result"
    }
   ],
   "source": [
    "l[8: 16]"
   ]
  },
  {
   "cell_type": "code",
   "execution_count": 48,
   "metadata": {},
   "outputs": [
    {
     "data": {
      "text/plain": [
       "[90, 100, 110, 120, 130, 140, 150]"
      ]
     },
     "execution_count": 48,
     "metadata": {},
     "output_type": "execute_result"
    }
   ],
   "source": [
    "l[8: ]"
   ]
  },
  {
   "cell_type": "code",
   "execution_count": 49,
   "metadata": {},
   "outputs": [
    {
     "data": {
      "text/plain": [
       "[90, 100, 110, 120]"
      ]
     },
     "execution_count": 49,
     "metadata": {},
     "output_type": "execute_result"
    }
   ],
   "source": [
    "l[8:12]"
   ]
  },
  {
   "cell_type": "code",
   "execution_count": 50,
   "metadata": {},
   "outputs": [
    {
     "data": {
      "text/plain": [
       "[50, 70, 90, 110, 130, 150]"
      ]
     },
     "execution_count": 50,
     "metadata": {},
     "output_type": "execute_result"
    }
   ],
   "source": [
    "l[4: 16: 2]"
   ]
  },
  {
   "cell_type": "code",
   "execution_count": 57,
   "metadata": {},
   "outputs": [
    {
     "data": {
      "text/plain": [
       "[130, 140, 150]"
      ]
     },
     "execution_count": 57,
     "metadata": {},
     "output_type": "execute_result"
    }
   ],
   "source": [
    "l[-3 : ]"
   ]
  },
  {
   "cell_type": "markdown",
   "metadata": {
    "id": "5OoDp82DSLz7"
   },
   "source": [
    "<p><a name=\"ind\"></a></p>\n",
    "\n",
    "# **Indexación y segmentación**\n",
    "\n",
    "Los arreglos de NumPy tienen la misma semántica de indexación y segmentación que las listas de Python cuando se trata de acceder a elementos o subarreglos.\n",
    "\n",
    "\n"
   ]
  },
  {
   "cell_type": "code",
   "execution_count": 19,
   "metadata": {
    "colab": {
     "base_uri": "https://localhost:8080/"
    },
    "executionInfo": {
     "elapsed": 1883,
     "status": "ok",
     "timestamp": 1613432645798,
     "user": {
      "displayName": "TOMAS ATEHORTUA GARCES",
      "photoUrl": "https://lh3.googleusercontent.com/a-/AOh14GirRCNcB5b8d4b9XScppMxMItAIFiob8mTFaMMdZN6MXrBcOaLg4_hYXiQ02S6_15FkILlwHkvMCQGkke9uuxmJqolSCSsRYRql5D1jq3mPQLRunqqLX0mqJD30-e8HowzS3QXK7Js0keFfrIrEXleCX6fzcnzpi04yQEE9i-9EuY1ub2mlMKEiA49N8pHj13B1offvWkFYNeo_GHwBsDk0g-60zm97O0C5A5nmQdXkHjCngNP2muze1HfMfPiTAdRknOGX8O-GyVUKliPgj2HVEF6HwDFqiJmnvdB1ZCu_K-5DDEKGEcrewYlqA3rKPWFZi-E8HJPI82Hr6ZVhiU4SAGse5aNEsixY8yQtNehUZeVGqRI0tU2aIDbp4rytWaPM32bJ2MTckrih0ead_gdh7Zk7CfKSzaqf0qdrMzZpeikSP9v1B-Jfk1rGc1jzA4J8-7Lf_kmKdJJXRn3gclxcPtkydJPco1YUwGhTKp4r8cjJN6QO5SiFXaUpq6sYJrixdvTyqIhcuxhM80rJb6kVuTiRzGJCBLSpAqjuxybLh5O42yGiDhg189veP9jd2tQTYwYkNTTaqVgKrfkZmLLvDZlegqCxQNYWHgOPrDNbSDCgHxq0XnfngmUgpuX-qCtfdwpIqtE6ojlbwq1oeM3gdadZwkT0fKSm6Ph05fB80zRk-ItD4f9v8QOJLVsCjXw6MgUmzmXabOS9ZiR-qIwktIr7US5E4yBmV4oufIrvdAZ49MrZBqcuLAWsq00S121Ae0c=s64",
      "userId": "03427284999883076130"
     },
     "user_tz": 300
    },
    "id": "_2_lSiHvR999",
    "outputId": "2c6d026d-fd36-4bf8-b52c-2c1be10ce8b8"
   },
   "outputs": [
    {
     "name": "stdout",
     "output_type": "stream",
     "text": [
      "a: [0 1 2 3 4 5 6 7]\n",
      "a[2]: 2\n",
      "a[2:5]: [2 3 4]\n"
     ]
    }
   ],
   "source": [
    "a = np.arange(8)\n",
    "\n",
    "print(f\"a: {a}\")\n",
    "print(f\"a[2]: {a[2]}\") #Indexación\n",
    "print(f\"a[2:5]: {a[2:5]}\") #Segmentación"
   ]
  },
  {
   "cell_type": "markdown",
   "metadata": {
    "id": "-3pHD5tKTCLn"
   },
   "source": [
    "Debido a que los arreglos de NumPy son n-dimensionales, podemos segmentar a lo largo de todos y cada uno de los ejes. Consideremos la siguiente lista de listas en Python"
   ]
  },
  {
   "cell_type": "code",
   "execution_count": 23,
   "metadata": {
    "id": "1ytHY5PwTD4f"
   },
   "outputs": [
    {
     "data": {
      "text/plain": [
       "[[1, 2, 3], [4, 5, 6], [7, 8, 9]]"
      ]
     },
     "execution_count": 23,
     "metadata": {},
     "output_type": "execute_result"
    }
   ],
   "source": [
    "# definiendo una lista de listas de forma (3,3)\n",
    "l = [[1, 2, 3], [4, 5, 6], [7, 8, 9]]\n",
    "l"
   ]
  },
  {
   "cell_type": "markdown",
   "metadata": {
    "id": "8z8_19cnTGlH"
   },
   "source": [
    "Por ejemplo, si queremos crear una lista de Python que contenga todas las filas y las primeras dos columnas de la lista L podríamos escribir"
   ]
  },
  {
   "cell_type": "code",
   "execution_count": 24,
   "metadata": {
    "colab": {
     "base_uri": "https://localhost:8080/"
    },
    "executionInfo": {
     "elapsed": 1868,
     "status": "ok",
     "timestamp": 1613432645799,
     "user": {
      "displayName": "TOMAS ATEHORTUA GARCES",
      "photoUrl": "https://lh3.googleusercontent.com/a-/AOh14GirRCNcB5b8d4b9XScppMxMItAIFiob8mTFaMMdZN6MXrBcOaLg4_hYXiQ02S6_15FkILlwHkvMCQGkke9uuxmJqolSCSsRYRql5D1jq3mPQLRunqqLX0mqJD30-e8HowzS3QXK7Js0keFfrIrEXleCX6fzcnzpi04yQEE9i-9EuY1ub2mlMKEiA49N8pHj13B1offvWkFYNeo_GHwBsDk0g-60zm97O0C5A5nmQdXkHjCngNP2muze1HfMfPiTAdRknOGX8O-GyVUKliPgj2HVEF6HwDFqiJmnvdB1ZCu_K-5DDEKGEcrewYlqA3rKPWFZi-E8HJPI82Hr6ZVhiU4SAGse5aNEsixY8yQtNehUZeVGqRI0tU2aIDbp4rytWaPM32bJ2MTckrih0ead_gdh7Zk7CfKSzaqf0qdrMzZpeikSP9v1B-Jfk1rGc1jzA4J8-7Lf_kmKdJJXRn3gclxcPtkydJPco1YUwGhTKp4r8cjJN6QO5SiFXaUpq6sYJrixdvTyqIhcuxhM80rJb6kVuTiRzGJCBLSpAqjuxybLh5O42yGiDhg189veP9jd2tQTYwYkNTTaqVgKrfkZmLLvDZlegqCxQNYWHgOPrDNbSDCgHxq0XnfngmUgpuX-qCtfdwpIqtE6ojlbwq1oeM3gdadZwkT0fKSm6Ph05fB80zRk-ItD4f9v8QOJLVsCjXw6MgUmzmXabOS9ZiR-qIwktIr7US5E4yBmV4oufIrvdAZ49MrZBqcuLAWsq00S121Ae0c=s64",
      "userId": "03427284999883076130"
     },
     "user_tz": 300
    },
    "id": "Qjkk0-MdTI6U",
    "outputId": "66746fc7-1824-4b56-8c60-dfcbaa373001"
   },
   "outputs": [
    {
     "data": {
      "text/plain": [
       "[[1, 2], [4, 5], [7, 8]]"
      ]
     },
     "execution_count": 24,
     "metadata": {},
     "output_type": "execute_result"
    }
   ],
   "source": [
    "[sub_l[ : 2] for sub_l in l]"
   ]
  },
  {
   "cell_type": "markdown",
   "metadata": {
    "id": "8_atGVc5TM__"
   },
   "source": [
    "El número de ciclos `for` anidados que se necesita para segmentar listas de listas es igual al número de dimensiones menos uno (en este caso $2-1=1$).\n",
    "\n",
    "En NumPy, en lugar de indexar por un segmento, podemos indexar por una tupla de segmentos, cada uno de los cuales actúa en sus propias dimensiones. Definamos el arreglo `L` con NumPy y realicemos la segmentación anterior:\n"
   ]
  },
  {
   "cell_type": "code",
   "execution_count": 25,
   "metadata": {
    "colab": {
     "base_uri": "https://localhost:8080/"
    },
    "executionInfo": {
     "elapsed": 1858,
     "status": "ok",
     "timestamp": 1613432645800,
     "user": {
      "displayName": "TOMAS ATEHORTUA GARCES",
      "photoUrl": "https://lh3.googleusercontent.com/a-/AOh14GirRCNcB5b8d4b9XScppMxMItAIFiob8mTFaMMdZN6MXrBcOaLg4_hYXiQ02S6_15FkILlwHkvMCQGkke9uuxmJqolSCSsRYRql5D1jq3mPQLRunqqLX0mqJD30-e8HowzS3QXK7Js0keFfrIrEXleCX6fzcnzpi04yQEE9i-9EuY1ub2mlMKEiA49N8pHj13B1offvWkFYNeo_GHwBsDk0g-60zm97O0C5A5nmQdXkHjCngNP2muze1HfMfPiTAdRknOGX8O-GyVUKliPgj2HVEF6HwDFqiJmnvdB1ZCu_K-5DDEKGEcrewYlqA3rKPWFZi-E8HJPI82Hr6ZVhiU4SAGse5aNEsixY8yQtNehUZeVGqRI0tU2aIDbp4rytWaPM32bJ2MTckrih0ead_gdh7Zk7CfKSzaqf0qdrMzZpeikSP9v1B-Jfk1rGc1jzA4J8-7Lf_kmKdJJXRn3gclxcPtkydJPco1YUwGhTKp4r8cjJN6QO5SiFXaUpq6sYJrixdvTyqIhcuxhM80rJb6kVuTiRzGJCBLSpAqjuxybLh5O42yGiDhg189veP9jd2tQTYwYkNTTaqVgKrfkZmLLvDZlegqCxQNYWHgOPrDNbSDCgHxq0XnfngmUgpuX-qCtfdwpIqtE6ojlbwq1oeM3gdadZwkT0fKSm6Ph05fB80zRk-ItD4f9v8QOJLVsCjXw6MgUmzmXabOS9ZiR-qIwktIr7US5E4yBmV4oufIrvdAZ49MrZBqcuLAWsq00S121Ae0c=s64",
      "userId": "03427284999883076130"
     },
     "user_tz": 300
    },
    "id": "kqTeXNAuTNjD",
    "outputId": "5d9646bc-3276-487e-fe81-624c6ad079c4"
   },
   "outputs": [
    {
     "data": {
      "text/plain": [
       "array([[1, 2, 3],\n",
       "       [4, 5, 6],\n",
       "       [7, 8, 9]])"
      ]
     },
     "execution_count": 25,
     "metadata": {},
     "output_type": "execute_result"
    }
   ],
   "source": [
    "arr = np.arange(1, 10).reshape(3, 3)\n",
    "arr"
   ]
  },
  {
   "cell_type": "code",
   "execution_count": 26,
   "metadata": {
    "colab": {
     "base_uri": "https://localhost:8080/"
    },
    "executionInfo": {
     "elapsed": 1849,
     "status": "ok",
     "timestamp": 1613432645801,
     "user": {
      "displayName": "TOMAS ATEHORTUA GARCES",
      "photoUrl": "https://lh3.googleusercontent.com/a-/AOh14GirRCNcB5b8d4b9XScppMxMItAIFiob8mTFaMMdZN6MXrBcOaLg4_hYXiQ02S6_15FkILlwHkvMCQGkke9uuxmJqolSCSsRYRql5D1jq3mPQLRunqqLX0mqJD30-e8HowzS3QXK7Js0keFfrIrEXleCX6fzcnzpi04yQEE9i-9EuY1ub2mlMKEiA49N8pHj13B1offvWkFYNeo_GHwBsDk0g-60zm97O0C5A5nmQdXkHjCngNP2muze1HfMfPiTAdRknOGX8O-GyVUKliPgj2HVEF6HwDFqiJmnvdB1ZCu_K-5DDEKGEcrewYlqA3rKPWFZi-E8HJPI82Hr6ZVhiU4SAGse5aNEsixY8yQtNehUZeVGqRI0tU2aIDbp4rytWaPM32bJ2MTckrih0ead_gdh7Zk7CfKSzaqf0qdrMzZpeikSP9v1B-Jfk1rGc1jzA4J8-7Lf_kmKdJJXRn3gclxcPtkydJPco1YUwGhTKp4r8cjJN6QO5SiFXaUpq6sYJrixdvTyqIhcuxhM80rJb6kVuTiRzGJCBLSpAqjuxybLh5O42yGiDhg189veP9jd2tQTYwYkNTTaqVgKrfkZmLLvDZlegqCxQNYWHgOPrDNbSDCgHxq0XnfngmUgpuX-qCtfdwpIqtE6ojlbwq1oeM3gdadZwkT0fKSm6Ph05fB80zRk-ItD4f9v8QOJLVsCjXw6MgUmzmXabOS9ZiR-qIwktIr7US5E4yBmV4oufIrvdAZ49MrZBqcuLAWsq00S121Ae0c=s64",
      "userId": "03427284999883076130"
     },
     "user_tz": 300
    },
    "id": "i2A0j-1GTO7t",
    "outputId": "fde7df0a-1497-4789-9860-3145e5d8def9"
   },
   "outputs": [
    {
     "data": {
      "text/plain": [
       "array([[1, 2],\n",
       "       [4, 5],\n",
       "       [7, 8]])"
      ]
     },
     "execution_count": 26,
     "metadata": {},
     "output_type": "execute_result"
    }
   ],
   "source": [
    "arr[:, :2]"
   ]
  },
  {
   "cell_type": "markdown",
   "metadata": {
    "id": "1Yn9MMLfTkv2"
   },
   "source": [
    "Los ciclos `for` para la segmentación multidimensional son manejados implícitamente por NumPy. Esto hace que realizar segmentaciones complejas sea mucho más rápido que escribir los ciclos `for` explícitamente en Python. Veamos algunos ejemplos:"
   ]
  },
  {
   "cell_type": "code",
   "execution_count": 28,
   "metadata": {
    "colab": {
     "base_uri": "https://localhost:8080/"
    },
    "executionInfo": {
     "elapsed": 1840,
     "status": "ok",
     "timestamp": 1613432645801,
     "user": {
      "displayName": "TOMAS ATEHORTUA GARCES",
      "photoUrl": "https://lh3.googleusercontent.com/a-/AOh14GirRCNcB5b8d4b9XScppMxMItAIFiob8mTFaMMdZN6MXrBcOaLg4_hYXiQ02S6_15FkILlwHkvMCQGkke9uuxmJqolSCSsRYRql5D1jq3mPQLRunqqLX0mqJD30-e8HowzS3QXK7Js0keFfrIrEXleCX6fzcnzpi04yQEE9i-9EuY1ub2mlMKEiA49N8pHj13B1offvWkFYNeo_GHwBsDk0g-60zm97O0C5A5nmQdXkHjCngNP2muze1HfMfPiTAdRknOGX8O-GyVUKliPgj2HVEF6HwDFqiJmnvdB1ZCu_K-5DDEKGEcrewYlqA3rKPWFZi-E8HJPI82Hr6ZVhiU4SAGse5aNEsixY8yQtNehUZeVGqRI0tU2aIDbp4rytWaPM32bJ2MTckrih0ead_gdh7Zk7CfKSzaqf0qdrMzZpeikSP9v1B-Jfk1rGc1jzA4J8-7Lf_kmKdJJXRn3gclxcPtkydJPco1YUwGhTKp4r8cjJN6QO5SiFXaUpq6sYJrixdvTyqIhcuxhM80rJb6kVuTiRzGJCBLSpAqjuxybLh5O42yGiDhg189veP9jd2tQTYwYkNTTaqVgKrfkZmLLvDZlegqCxQNYWHgOPrDNbSDCgHxq0XnfngmUgpuX-qCtfdwpIqtE6ojlbwq1oeM3gdadZwkT0fKSm6Ph05fB80zRk-ItD4f9v8QOJLVsCjXw6MgUmzmXabOS9ZiR-qIwktIr7US5E4yBmV4oufIrvdAZ49MrZBqcuLAWsq00S121Ae0c=s64",
      "userId": "03427284999883076130"
     },
     "user_tz": 300
    },
    "id": "_FI0H0UrTRUm",
    "outputId": "6339bfed-f58e-4f0c-afb3-3d1120b600a8"
   },
   "outputs": [
    {
     "data": {
      "text/plain": [
       "array([[ 1,  2,  3,  4],\n",
       "       [ 5,  6,  7,  8],\n",
       "       [ 9, 10, 11, 12],\n",
       "       [13, 14, 15, 16]])"
      ]
     },
     "execution_count": 28,
     "metadata": {},
     "output_type": "execute_result"
    }
   ],
   "source": [
    "#creamos un arreglo de dimensiones 4x4\n",
    "a = np.arange(1, 17).reshape(4, 4)\n",
    "\n",
    "a"
   ]
  },
  {
   "cell_type": "code",
   "execution_count": 41,
   "metadata": {},
   "outputs": [
    {
     "data": {
      "text/plain": [
       "array([[1],\n",
       "       [2],\n",
       "       [3],\n",
       "       [4]])"
      ]
     },
     "execution_count": 41,
     "metadata": {},
     "output_type": "execute_result"
    }
   ],
   "source": [
    "np.arange(1, 5).reshape(4,1)#.ndim"
   ]
  },
  {
   "cell_type": "code",
   "execution_count": 31,
   "metadata": {
    "colab": {
     "base_uri": "https://localhost:8080/"
    },
    "executionInfo": {
     "elapsed": 1834,
     "status": "ok",
     "timestamp": 1613432645803,
     "user": {
      "displayName": "TOMAS ATEHORTUA GARCES",
      "photoUrl": "https://lh3.googleusercontent.com/a-/AOh14GirRCNcB5b8d4b9XScppMxMItAIFiob8mTFaMMdZN6MXrBcOaLg4_hYXiQ02S6_15FkILlwHkvMCQGkke9uuxmJqolSCSsRYRql5D1jq3mPQLRunqqLX0mqJD30-e8HowzS3QXK7Js0keFfrIrEXleCX6fzcnzpi04yQEE9i-9EuY1ub2mlMKEiA49N8pHj13B1offvWkFYNeo_GHwBsDk0g-60zm97O0C5A5nmQdXkHjCngNP2muze1HfMfPiTAdRknOGX8O-GyVUKliPgj2HVEF6HwDFqiJmnvdB1ZCu_K-5DDEKGEcrewYlqA3rKPWFZi-E8HJPI82Hr6ZVhiU4SAGse5aNEsixY8yQtNehUZeVGqRI0tU2aIDbp4rytWaPM32bJ2MTckrih0ead_gdh7Zk7CfKSzaqf0qdrMzZpeikSP9v1B-Jfk1rGc1jzA4J8-7Lf_kmKdJJXRn3gclxcPtkydJPco1YUwGhTKp4r8cjJN6QO5SiFXaUpq6sYJrixdvTyqIhcuxhM80rJb6kVuTiRzGJCBLSpAqjuxybLh5O42yGiDhg189veP9jd2tQTYwYkNTTaqVgKrfkZmLLvDZlegqCxQNYWHgOPrDNbSDCgHxq0XnfngmUgpuX-qCtfdwpIqtE6ojlbwq1oeM3gdadZwkT0fKSm6Ph05fB80zRk-ItD4f9v8QOJLVsCjXw6MgUmzmXabOS9ZiR-qIwktIr7US5E4yBmV4oufIrvdAZ49MrZBqcuLAWsq00S121Ae0c=s64",
      "userId": "03427284999883076130"
     },
     "user_tz": 300
    },
    "id": "CpT39DIrTpYJ",
    "outputId": "8753daae-08c4-43c4-cbdd-cbcb163c5aff"
   },
   "outputs": [
    {
     "data": {
      "text/plain": [
       "array([1, 2, 3, 4])"
      ]
     },
     "execution_count": 31,
     "metadata": {},
     "output_type": "execute_result"
    }
   ],
   "source": [
    "#seleccionar la primer fila (equivalente a a[0,:])\n",
    "a[0]"
   ]
  },
  {
   "cell_type": "code",
   "execution_count": 32,
   "metadata": {
    "colab": {
     "base_uri": "https://localhost:8080/"
    },
    "executionInfo": {
     "elapsed": 1820,
     "status": "ok",
     "timestamp": 1613432645804,
     "user": {
      "displayName": "TOMAS ATEHORTUA GARCES",
      "photoUrl": "https://lh3.googleusercontent.com/a-/AOh14GirRCNcB5b8d4b9XScppMxMItAIFiob8mTFaMMdZN6MXrBcOaLg4_hYXiQ02S6_15FkILlwHkvMCQGkke9uuxmJqolSCSsRYRql5D1jq3mPQLRunqqLX0mqJD30-e8HowzS3QXK7Js0keFfrIrEXleCX6fzcnzpi04yQEE9i-9EuY1ub2mlMKEiA49N8pHj13B1offvWkFYNeo_GHwBsDk0g-60zm97O0C5A5nmQdXkHjCngNP2muze1HfMfPiTAdRknOGX8O-GyVUKliPgj2HVEF6HwDFqiJmnvdB1ZCu_K-5DDEKGEcrewYlqA3rKPWFZi-E8HJPI82Hr6ZVhiU4SAGse5aNEsixY8yQtNehUZeVGqRI0tU2aIDbp4rytWaPM32bJ2MTckrih0ead_gdh7Zk7CfKSzaqf0qdrMzZpeikSP9v1B-Jfk1rGc1jzA4J8-7Lf_kmKdJJXRn3gclxcPtkydJPco1YUwGhTKp4r8cjJN6QO5SiFXaUpq6sYJrixdvTyqIhcuxhM80rJb6kVuTiRzGJCBLSpAqjuxybLh5O42yGiDhg189veP9jd2tQTYwYkNTTaqVgKrfkZmLLvDZlegqCxQNYWHgOPrDNbSDCgHxq0XnfngmUgpuX-qCtfdwpIqtE6ojlbwq1oeM3gdadZwkT0fKSm6Ph05fB80zRk-ItD4f9v8QOJLVsCjXw6MgUmzmXabOS9ZiR-qIwktIr7US5E4yBmV4oufIrvdAZ49MrZBqcuLAWsq00S121Ae0c=s64",
      "userId": "03427284999883076130"
     },
     "user_tz": 300
    },
    "id": "Th1ugrBuTqzE",
    "outputId": "f963ce3b-ec9a-412b-d65f-150771638b93"
   },
   "outputs": [
    {
     "data": {
      "text/plain": [
       "array([ 1,  5,  9, 13])"
      ]
     },
     "execution_count": 32,
     "metadata": {},
     "output_type": "execute_result"
    }
   ],
   "source": [
    "# seleccionar la primera columna\n",
    "a[:, 0]"
   ]
  },
  {
   "cell_type": "code",
   "execution_count": 58,
   "metadata": {
    "colab": {
     "base_uri": "https://localhost:8080/"
    },
    "executionInfo": {
     "elapsed": 1808,
     "status": "ok",
     "timestamp": 1613432645804,
     "user": {
      "displayName": "TOMAS ATEHORTUA GARCES",
      "photoUrl": "https://lh3.googleusercontent.com/a-/AOh14GirRCNcB5b8d4b9XScppMxMItAIFiob8mTFaMMdZN6MXrBcOaLg4_hYXiQ02S6_15FkILlwHkvMCQGkke9uuxmJqolSCSsRYRql5D1jq3mPQLRunqqLX0mqJD30-e8HowzS3QXK7Js0keFfrIrEXleCX6fzcnzpi04yQEE9i-9EuY1ub2mlMKEiA49N8pHj13B1offvWkFYNeo_GHwBsDk0g-60zm97O0C5A5nmQdXkHjCngNP2muze1HfMfPiTAdRknOGX8O-GyVUKliPgj2HVEF6HwDFqiJmnvdB1ZCu_K-5DDEKGEcrewYlqA3rKPWFZi-E8HJPI82Hr6ZVhiU4SAGse5aNEsixY8yQtNehUZeVGqRI0tU2aIDbp4rytWaPM32bJ2MTckrih0ead_gdh7Zk7CfKSzaqf0qdrMzZpeikSP9v1B-Jfk1rGc1jzA4J8-7Lf_kmKdJJXRn3gclxcPtkydJPco1YUwGhTKp4r8cjJN6QO5SiFXaUpq6sYJrixdvTyqIhcuxhM80rJb6kVuTiRzGJCBLSpAqjuxybLh5O42yGiDhg189veP9jd2tQTYwYkNTTaqVgKrfkZmLLvDZlegqCxQNYWHgOPrDNbSDCgHxq0XnfngmUgpuX-qCtfdwpIqtE6ojlbwq1oeM3gdadZwkT0fKSm6Ph05fB80zRk-ItD4f9v8QOJLVsCjXw6MgUmzmXabOS9ZiR-qIwktIr7US5E4yBmV4oufIrvdAZ49MrZBqcuLAWsq00S121Ae0c=s64",
      "userId": "03427284999883076130"
     },
     "user_tz": 300
    },
    "id": "2StElYzbTrzk",
    "outputId": "e7eb8b4e-c979-4771-a7bb-7fd6976fb0f7"
   },
   "outputs": [
    {
     "data": {
      "text/plain": [
       "array([[ 2,  4],\n",
       "       [10, 12]])"
      ]
     },
     "execution_count": 58,
     "metadata": {},
     "output_type": "execute_result"
    }
   ],
   "source": [
    "#segmentar las filas pares y las columnas impares.\n",
    "a[::2, 1::2]"
   ]
  },
  {
   "cell_type": "code",
   "execution_count": 59,
   "metadata": {
    "colab": {
     "base_uri": "https://localhost:8080/"
    },
    "executionInfo": {
     "elapsed": 1800,
     "status": "ok",
     "timestamp": 1613432645805,
     "user": {
      "displayName": "TOMAS ATEHORTUA GARCES",
      "photoUrl": "https://lh3.googleusercontent.com/a-/AOh14GirRCNcB5b8d4b9XScppMxMItAIFiob8mTFaMMdZN6MXrBcOaLg4_hYXiQ02S6_15FkILlwHkvMCQGkke9uuxmJqolSCSsRYRql5D1jq3mPQLRunqqLX0mqJD30-e8HowzS3QXK7Js0keFfrIrEXleCX6fzcnzpi04yQEE9i-9EuY1ub2mlMKEiA49N8pHj13B1offvWkFYNeo_GHwBsDk0g-60zm97O0C5A5nmQdXkHjCngNP2muze1HfMfPiTAdRknOGX8O-GyVUKliPgj2HVEF6HwDFqiJmnvdB1ZCu_K-5DDEKGEcrewYlqA3rKPWFZi-E8HJPI82Hr6ZVhiU4SAGse5aNEsixY8yQtNehUZeVGqRI0tU2aIDbp4rytWaPM32bJ2MTckrih0ead_gdh7Zk7CfKSzaqf0qdrMzZpeikSP9v1B-Jfk1rGc1jzA4J8-7Lf_kmKdJJXRn3gclxcPtkydJPco1YUwGhTKp4r8cjJN6QO5SiFXaUpq6sYJrixdvTyqIhcuxhM80rJb6kVuTiRzGJCBLSpAqjuxybLh5O42yGiDhg189veP9jd2tQTYwYkNTTaqVgKrfkZmLLvDZlegqCxQNYWHgOPrDNbSDCgHxq0XnfngmUgpuX-qCtfdwpIqtE6ojlbwq1oeM3gdadZwkT0fKSm6Ph05fB80zRk-ItD4f9v8QOJLVsCjXw6MgUmzmXabOS9ZiR-qIwktIr7US5E4yBmV4oufIrvdAZ49MrZBqcuLAWsq00S121Ae0c=s64",
      "userId": "03427284999883076130"
     },
     "user_tz": 300
    },
    "id": "eLuGgkGjTs8S",
    "outputId": "1e303435-5e30-41b6-a3ec-e47887893f2d"
   },
   "outputs": [
    {
     "data": {
      "text/plain": [
       "array([[ 6,  7],\n",
       "       [10, 11]])"
      ]
     },
     "execution_count": 59,
     "metadata": {},
     "output_type": "execute_result"
    }
   ],
   "source": [
    "#segmentar la matriz interna de 2x2.\n",
    "a[1:3,1:3]"
   ]
  },
  {
   "cell_type": "code",
   "execution_count": 61,
   "metadata": {
    "colab": {
     "base_uri": "https://localhost:8080/"
    },
    "executionInfo": {
     "elapsed": 1792,
     "status": "ok",
     "timestamp": 1613432645806,
     "user": {
      "displayName": "TOMAS ATEHORTUA GARCES",
      "photoUrl": "https://lh3.googleusercontent.com/a-/AOh14GirRCNcB5b8d4b9XScppMxMItAIFiob8mTFaMMdZN6MXrBcOaLg4_hYXiQ02S6_15FkILlwHkvMCQGkke9uuxmJqolSCSsRYRql5D1jq3mPQLRunqqLX0mqJD30-e8HowzS3QXK7Js0keFfrIrEXleCX6fzcnzpi04yQEE9i-9EuY1ub2mlMKEiA49N8pHj13B1offvWkFYNeo_GHwBsDk0g-60zm97O0C5A5nmQdXkHjCngNP2muze1HfMfPiTAdRknOGX8O-GyVUKliPgj2HVEF6HwDFqiJmnvdB1ZCu_K-5DDEKGEcrewYlqA3rKPWFZi-E8HJPI82Hr6ZVhiU4SAGse5aNEsixY8yQtNehUZeVGqRI0tU2aIDbp4rytWaPM32bJ2MTckrih0ead_gdh7Zk7CfKSzaqf0qdrMzZpeikSP9v1B-Jfk1rGc1jzA4J8-7Lf_kmKdJJXRn3gclxcPtkydJPco1YUwGhTKp4r8cjJN6QO5SiFXaUpq6sYJrixdvTyqIhcuxhM80rJb6kVuTiRzGJCBLSpAqjuxybLh5O42yGiDhg189veP9jd2tQTYwYkNTTaqVgKrfkZmLLvDZlegqCxQNYWHgOPrDNbSDCgHxq0XnfngmUgpuX-qCtfdwpIqtE6ojlbwq1oeM3gdadZwkT0fKSm6Ph05fB80zRk-ItD4f9v8QOJLVsCjXw6MgUmzmXabOS9ZiR-qIwktIr7US5E4yBmV4oufIrvdAZ49MrZBqcuLAWsq00S121Ae0c=s64",
      "userId": "03427284999883076130"
     },
     "user_tz": 300
    },
    "id": "2jad8UutTueC",
    "outputId": "b9dbb5c2-3227-475d-ffe8-d7854031e6ea"
   },
   "outputs": [
    {
     "data": {
      "text/plain": [
       "array([[ 9, 10, 11],\n",
       "       [ 5,  6,  7],\n",
       "       [ 1,  2,  3]])"
      ]
     },
     "execution_count": 61,
     "metadata": {},
     "output_type": "execute_result"
    }
   ],
   "source": [
    "#invertir las primeras 3 filas, tomando las primeras 3 columnas\n",
    "a[2 : : -1, :3]"
   ]
  },
  {
   "cell_type": "markdown",
   "metadata": {
    "id": "yEZpoKy_U9on"
   },
   "source": [
    "**Ejercicio 1**: Escriba un programa para crear un nuevo arreglo que sea el promedio de cada triplete consecutivo de elementos del siguiente arreglo\n",
    "\n",
    "<p><img alt=\"Colaboratory logo\" height=\"70px\" src=\"https://i.imgur.com/XoHovZd.png\" align=\"left\" hspace=\"10px\" vspace=\"0px\"></p>"
   ]
  },
  {
   "cell_type": "code",
   "execution_count": 63,
   "metadata": {
    "colab": {
     "base_uri": "https://localhost:8080/"
    },
    "executionInfo": {
     "elapsed": 1780,
     "status": "ok",
     "timestamp": 1613432645807,
     "user": {
      "displayName": "TOMAS ATEHORTUA GARCES",
      "photoUrl": "https://lh3.googleusercontent.com/a-/AOh14GirRCNcB5b8d4b9XScppMxMItAIFiob8mTFaMMdZN6MXrBcOaLg4_hYXiQ02S6_15FkILlwHkvMCQGkke9uuxmJqolSCSsRYRql5D1jq3mPQLRunqqLX0mqJD30-e8HowzS3QXK7Js0keFfrIrEXleCX6fzcnzpi04yQEE9i-9EuY1ub2mlMKEiA49N8pHj13B1offvWkFYNeo_GHwBsDk0g-60zm97O0C5A5nmQdXkHjCngNP2muze1HfMfPiTAdRknOGX8O-GyVUKliPgj2HVEF6HwDFqiJmnvdB1ZCu_K-5DDEKGEcrewYlqA3rKPWFZi-E8HJPI82Hr6ZVhiU4SAGse5aNEsixY8yQtNehUZeVGqRI0tU2aIDbp4rytWaPM32bJ2MTckrih0ead_gdh7Zk7CfKSzaqf0qdrMzZpeikSP9v1B-Jfk1rGc1jzA4J8-7Lf_kmKdJJXRn3gclxcPtkydJPco1YUwGhTKp4r8cjJN6QO5SiFXaUpq6sYJrixdvTyqIhcuxhM80rJb6kVuTiRzGJCBLSpAqjuxybLh5O42yGiDhg189veP9jd2tQTYwYkNTTaqVgKrfkZmLLvDZlegqCxQNYWHgOPrDNbSDCgHxq0XnfngmUgpuX-qCtfdwpIqtE6ojlbwq1oeM3gdadZwkT0fKSm6Ph05fB80zRk-ItD4f9v8QOJLVsCjXw6MgUmzmXabOS9ZiR-qIwktIr7US5E4yBmV4oufIrvdAZ49MrZBqcuLAWsq00S121Ae0c=s64",
      "userId": "03427284999883076130"
     },
     "user_tz": 300
    },
    "id": "QNCPB_Y-VAui",
    "outputId": "4e15f45c-4dfe-4633-e7f8-c7b893bc7f61"
   },
   "outputs": [
    {
     "name": "stdout",
     "output_type": "stream",
     "text": [
      "[[  1   2   3]\n",
      " [  2   4   6]\n",
      " [  1   2  12]\n",
      " [  0 -12   6]]\n"
     ]
    }
   ],
   "source": [
    "a = np.array([1,2,3,2,4,6,1,2,12,0,-12,6])\n",
    "a = a.reshape(4,3)\n",
    "print(a)\n",
    "#np.mean(a, axis = 1)"
   ]
  },
  {
   "cell_type": "code",
   "execution_count": 66,
   "metadata": {
    "colab": {
     "base_uri": "https://localhost:8080/"
    },
    "executionInfo": {
     "elapsed": 1773,
     "status": "ok",
     "timestamp": 1613432645808,
     "user": {
      "displayName": "TOMAS ATEHORTUA GARCES",
      "photoUrl": "https://lh3.googleusercontent.com/a-/AOh14GirRCNcB5b8d4b9XScppMxMItAIFiob8mTFaMMdZN6MXrBcOaLg4_hYXiQ02S6_15FkILlwHkvMCQGkke9uuxmJqolSCSsRYRql5D1jq3mPQLRunqqLX0mqJD30-e8HowzS3QXK7Js0keFfrIrEXleCX6fzcnzpi04yQEE9i-9EuY1ub2mlMKEiA49N8pHj13B1offvWkFYNeo_GHwBsDk0g-60zm97O0C5A5nmQdXkHjCngNP2muze1HfMfPiTAdRknOGX8O-GyVUKliPgj2HVEF6HwDFqiJmnvdB1ZCu_K-5DDEKGEcrewYlqA3rKPWFZi-E8HJPI82Hr6ZVhiU4SAGse5aNEsixY8yQtNehUZeVGqRI0tU2aIDbp4rytWaPM32bJ2MTckrih0ead_gdh7Zk7CfKSzaqf0qdrMzZpeikSP9v1B-Jfk1rGc1jzA4J8-7Lf_kmKdJJXRn3gclxcPtkydJPco1YUwGhTKp4r8cjJN6QO5SiFXaUpq6sYJrixdvTyqIhcuxhM80rJb6kVuTiRzGJCBLSpAqjuxybLh5O42yGiDhg189veP9jd2tQTYwYkNTTaqVgKrfkZmLLvDZlegqCxQNYWHgOPrDNbSDCgHxq0XnfngmUgpuX-qCtfdwpIqtE6ojlbwq1oeM3gdadZwkT0fKSm6Ph05fB80zRk-ItD4f9v8QOJLVsCjXw6MgUmzmXabOS9ZiR-qIwktIr7US5E4yBmV4oufIrvdAZ49MrZBqcuLAWsq00S121Ae0c=s64",
      "userId": "03427284999883076130"
     },
     "user_tz": 300
    },
    "id": "uAYPhMAITuB4",
    "outputId": "0727f459-ba38-4242-9b13-dcc9f41bb4db"
   },
   "outputs": [
    {
     "data": {
      "text/plain": [
       "array([ 2.,  4.,  5., -2.])"
      ]
     },
     "execution_count": 66,
     "metadata": {},
     "output_type": "execute_result"
    }
   ],
   "source": [
    "np.mean(a, axis = 1)"
   ]
  },
  {
   "cell_type": "markdown",
   "metadata": {
    "id": "H_gSDAOvUPOO"
   },
   "source": [
    "<p><a name=\"enm\"></a></p>\n",
    "\n",
    "## **Enmascaramiento**\n",
    "\n",
    "El enmascaramiento aparece cuando deseamos extraer, modificar, o manipular valores en un arreglo de acuerdo con algún criterio.\n",
    "\n",
    "Ya vimos cómo utilizar ufuncs para operaciones aritméticas básicas y otro tipo de operaciones más complejas. NumPy implementa también operadores de comparación como ufuncs:"
   ]
  },
  {
   "cell_type": "code",
   "execution_count": 67,
   "metadata": {
    "colab": {
     "base_uri": "https://localhost:8080/"
    },
    "executionInfo": {
     "elapsed": 1762,
     "status": "ok",
     "timestamp": 1613432645808,
     "user": {
      "displayName": "TOMAS ATEHORTUA GARCES",
      "photoUrl": "https://lh3.googleusercontent.com/a-/AOh14GirRCNcB5b8d4b9XScppMxMItAIFiob8mTFaMMdZN6MXrBcOaLg4_hYXiQ02S6_15FkILlwHkvMCQGkke9uuxmJqolSCSsRYRql5D1jq3mPQLRunqqLX0mqJD30-e8HowzS3QXK7Js0keFfrIrEXleCX6fzcnzpi04yQEE9i-9EuY1ub2mlMKEiA49N8pHj13B1offvWkFYNeo_GHwBsDk0g-60zm97O0C5A5nmQdXkHjCngNP2muze1HfMfPiTAdRknOGX8O-GyVUKliPgj2HVEF6HwDFqiJmnvdB1ZCu_K-5DDEKGEcrewYlqA3rKPWFZi-E8HJPI82Hr6ZVhiU4SAGse5aNEsixY8yQtNehUZeVGqRI0tU2aIDbp4rytWaPM32bJ2MTckrih0ead_gdh7Zk7CfKSzaqf0qdrMzZpeikSP9v1B-Jfk1rGc1jzA4J8-7Lf_kmKdJJXRn3gclxcPtkydJPco1YUwGhTKp4r8cjJN6QO5SiFXaUpq6sYJrixdvTyqIhcuxhM80rJb6kVuTiRzGJCBLSpAqjuxybLh5O42yGiDhg189veP9jd2tQTYwYkNTTaqVgKrfkZmLLvDZlegqCxQNYWHgOPrDNbSDCgHxq0XnfngmUgpuX-qCtfdwpIqtE6ojlbwq1oeM3gdadZwkT0fKSm6Ph05fB80zRk-ItD4f9v8QOJLVsCjXw6MgUmzmXabOS9ZiR-qIwktIr7US5E4yBmV4oufIrvdAZ49MrZBqcuLAWsq00S121Ae0c=s64",
      "userId": "03427284999883076130"
     },
     "user_tz": 300
    },
    "id": "VVuxGalrTvjC",
    "outputId": "8d47e208-14d7-44da-fc9c-e8478abe3d28"
   },
   "outputs": [
    {
     "data": {
      "text/plain": [
       "array([[1, 2, 3],\n",
       "       [4, 5, 6],\n",
       "       [7, 8, 9]])"
      ]
     },
     "execution_count": 67,
     "metadata": {},
     "output_type": "execute_result"
    }
   ],
   "source": [
    "x = np.arange(1, 10).reshape(3,3)\n",
    "x"
   ]
  },
  {
   "cell_type": "code",
   "execution_count": 68,
   "metadata": {
    "colab": {
     "base_uri": "https://localhost:8080/"
    },
    "executionInfo": {
     "elapsed": 1753,
     "status": "ok",
     "timestamp": 1613432645809,
     "user": {
      "displayName": "TOMAS ATEHORTUA GARCES",
      "photoUrl": "https://lh3.googleusercontent.com/a-/AOh14GirRCNcB5b8d4b9XScppMxMItAIFiob8mTFaMMdZN6MXrBcOaLg4_hYXiQ02S6_15FkILlwHkvMCQGkke9uuxmJqolSCSsRYRql5D1jq3mPQLRunqqLX0mqJD30-e8HowzS3QXK7Js0keFfrIrEXleCX6fzcnzpi04yQEE9i-9EuY1ub2mlMKEiA49N8pHj13B1offvWkFYNeo_GHwBsDk0g-60zm97O0C5A5nmQdXkHjCngNP2muze1HfMfPiTAdRknOGX8O-GyVUKliPgj2HVEF6HwDFqiJmnvdB1ZCu_K-5DDEKGEcrewYlqA3rKPWFZi-E8HJPI82Hr6ZVhiU4SAGse5aNEsixY8yQtNehUZeVGqRI0tU2aIDbp4rytWaPM32bJ2MTckrih0ead_gdh7Zk7CfKSzaqf0qdrMzZpeikSP9v1B-Jfk1rGc1jzA4J8-7Lf_kmKdJJXRn3gclxcPtkydJPco1YUwGhTKp4r8cjJN6QO5SiFXaUpq6sYJrixdvTyqIhcuxhM80rJb6kVuTiRzGJCBLSpAqjuxybLh5O42yGiDhg189veP9jd2tQTYwYkNTTaqVgKrfkZmLLvDZlegqCxQNYWHgOPrDNbSDCgHxq0XnfngmUgpuX-qCtfdwpIqtE6ojlbwq1oeM3gdadZwkT0fKSm6Ph05fB80zRk-ItD4f9v8QOJLVsCjXw6MgUmzmXabOS9ZiR-qIwktIr7US5E4yBmV4oufIrvdAZ49MrZBqcuLAWsq00S121Ae0c=s64",
      "userId": "03427284999883076130"
     },
     "user_tz": 300
    },
    "id": "sWHELIYFUaZ8",
    "outputId": "935ca9cd-0cb9-4360-ca76-92edcb9785f2"
   },
   "outputs": [
    {
     "data": {
      "text/plain": [
       "array([[ True,  True,  True],\n",
       "       [ True,  True, False],\n",
       "       [False, False, False]])"
      ]
     },
     "execution_count": 68,
     "metadata": {},
     "output_type": "execute_result"
    }
   ],
   "source": [
    "x < 6"
   ]
  },
  {
   "cell_type": "markdown",
   "metadata": {
    "id": "vXHEYVLkUeBa"
   },
   "source": [
    "El resultado es un arreglo booleano. Dado un arreglo booleano, hay una serie de operaciones útiles que podemos implementar.\n",
    "\n",
    "Podemos utilizar la función `np.sum` junto con los operadores de comparación para realizar conteos dentro del arreglo:"
   ]
  },
  {
   "cell_type": "code",
   "execution_count": 69,
   "metadata": {
    "colab": {
     "base_uri": "https://localhost:8080/"
    },
    "executionInfo": {
     "elapsed": 1745,
     "status": "ok",
     "timestamp": 1613432645810,
     "user": {
      "displayName": "TOMAS ATEHORTUA GARCES",
      "photoUrl": "https://lh3.googleusercontent.com/a-/AOh14GirRCNcB5b8d4b9XScppMxMItAIFiob8mTFaMMdZN6MXrBcOaLg4_hYXiQ02S6_15FkILlwHkvMCQGkke9uuxmJqolSCSsRYRql5D1jq3mPQLRunqqLX0mqJD30-e8HowzS3QXK7Js0keFfrIrEXleCX6fzcnzpi04yQEE9i-9EuY1ub2mlMKEiA49N8pHj13B1offvWkFYNeo_GHwBsDk0g-60zm97O0C5A5nmQdXkHjCngNP2muze1HfMfPiTAdRknOGX8O-GyVUKliPgj2HVEF6HwDFqiJmnvdB1ZCu_K-5DDEKGEcrewYlqA3rKPWFZi-E8HJPI82Hr6ZVhiU4SAGse5aNEsixY8yQtNehUZeVGqRI0tU2aIDbp4rytWaPM32bJ2MTckrih0ead_gdh7Zk7CfKSzaqf0qdrMzZpeikSP9v1B-Jfk1rGc1jzA4J8-7Lf_kmKdJJXRn3gclxcPtkydJPco1YUwGhTKp4r8cjJN6QO5SiFXaUpq6sYJrixdvTyqIhcuxhM80rJb6kVuTiRzGJCBLSpAqjuxybLh5O42yGiDhg189veP9jd2tQTYwYkNTTaqVgKrfkZmLLvDZlegqCxQNYWHgOPrDNbSDCgHxq0XnfngmUgpuX-qCtfdwpIqtE6ojlbwq1oeM3gdadZwkT0fKSm6Ph05fB80zRk-ItD4f9v8QOJLVsCjXw6MgUmzmXabOS9ZiR-qIwktIr7US5E4yBmV4oufIrvdAZ49MrZBqcuLAWsq00S121Ae0c=s64",
      "userId": "03427284999883076130"
     },
     "user_tz": 300
    },
    "id": "uozlXFWHUcdX",
    "outputId": "53097593-ef4b-46f4-f474-6e0827d6732b"
   },
   "outputs": [
    {
     "data": {
      "text/plain": [
       "5"
      ]
     },
     "execution_count": 69,
     "metadata": {},
     "output_type": "execute_result"
    }
   ],
   "source": [
    "# numero de elementos menores a 6\n",
    "np.sum(x < 6)"
   ]
  },
  {
   "cell_type": "markdown",
   "metadata": {
    "id": "oVPqEJ-JUhso"
   },
   "source": [
    "Con `np.sum` podemos realizar este tipo de conteos a lo largo de las filas o columnas, utilizando el argumento por palabra clave `axis`:"
   ]
  },
  {
   "cell_type": "code",
   "execution_count": 70,
   "metadata": {
    "colab": {
     "base_uri": "https://localhost:8080/"
    },
    "executionInfo": {
     "elapsed": 2103,
     "status": "ok",
     "timestamp": 1613432646179,
     "user": {
      "displayName": "TOMAS ATEHORTUA GARCES",
      "photoUrl": "https://lh3.googleusercontent.com/a-/AOh14GirRCNcB5b8d4b9XScppMxMItAIFiob8mTFaMMdZN6MXrBcOaLg4_hYXiQ02S6_15FkILlwHkvMCQGkke9uuxmJqolSCSsRYRql5D1jq3mPQLRunqqLX0mqJD30-e8HowzS3QXK7Js0keFfrIrEXleCX6fzcnzpi04yQEE9i-9EuY1ub2mlMKEiA49N8pHj13B1offvWkFYNeo_GHwBsDk0g-60zm97O0C5A5nmQdXkHjCngNP2muze1HfMfPiTAdRknOGX8O-GyVUKliPgj2HVEF6HwDFqiJmnvdB1ZCu_K-5DDEKGEcrewYlqA3rKPWFZi-E8HJPI82Hr6ZVhiU4SAGse5aNEsixY8yQtNehUZeVGqRI0tU2aIDbp4rytWaPM32bJ2MTckrih0ead_gdh7Zk7CfKSzaqf0qdrMzZpeikSP9v1B-Jfk1rGc1jzA4J8-7Lf_kmKdJJXRn3gclxcPtkydJPco1YUwGhTKp4r8cjJN6QO5SiFXaUpq6sYJrixdvTyqIhcuxhM80rJb6kVuTiRzGJCBLSpAqjuxybLh5O42yGiDhg189veP9jd2tQTYwYkNTTaqVgKrfkZmLLvDZlegqCxQNYWHgOPrDNbSDCgHxq0XnfngmUgpuX-qCtfdwpIqtE6ojlbwq1oeM3gdadZwkT0fKSm6Ph05fB80zRk-ItD4f9v8QOJLVsCjXw6MgUmzmXabOS9ZiR-qIwktIr7US5E4yBmV4oufIrvdAZ49MrZBqcuLAWsq00S121Ae0c=s64",
      "userId": "03427284999883076130"
     },
     "user_tz": 300
    },
    "id": "04aIRcFfUhQX",
    "outputId": "dfc8633a-1b96-47cb-f505-40aaa46ed3db"
   },
   "outputs": [
    {
     "data": {
      "text/plain": [
       "array([2, 2, 1])"
      ]
     },
     "execution_count": 70,
     "metadata": {},
     "output_type": "execute_result"
    }
   ],
   "source": [
    "# numero de elementos menores a 6 por columna\n",
    "np.sum(x < 6, axis = 0)"
   ]
  },
  {
   "cell_type": "code",
   "execution_count": 71,
   "metadata": {
    "colab": {
     "base_uri": "https://localhost:8080/"
    },
    "executionInfo": {
     "elapsed": 2095,
     "status": "ok",
     "timestamp": 1613432646180,
     "user": {
      "displayName": "TOMAS ATEHORTUA GARCES",
      "photoUrl": "https://lh3.googleusercontent.com/a-/AOh14GirRCNcB5b8d4b9XScppMxMItAIFiob8mTFaMMdZN6MXrBcOaLg4_hYXiQ02S6_15FkILlwHkvMCQGkke9uuxmJqolSCSsRYRql5D1jq3mPQLRunqqLX0mqJD30-e8HowzS3QXK7Js0keFfrIrEXleCX6fzcnzpi04yQEE9i-9EuY1ub2mlMKEiA49N8pHj13B1offvWkFYNeo_GHwBsDk0g-60zm97O0C5A5nmQdXkHjCngNP2muze1HfMfPiTAdRknOGX8O-GyVUKliPgj2HVEF6HwDFqiJmnvdB1ZCu_K-5DDEKGEcrewYlqA3rKPWFZi-E8HJPI82Hr6ZVhiU4SAGse5aNEsixY8yQtNehUZeVGqRI0tU2aIDbp4rytWaPM32bJ2MTckrih0ead_gdh7Zk7CfKSzaqf0qdrMzZpeikSP9v1B-Jfk1rGc1jzA4J8-7Lf_kmKdJJXRn3gclxcPtkydJPco1YUwGhTKp4r8cjJN6QO5SiFXaUpq6sYJrixdvTyqIhcuxhM80rJb6kVuTiRzGJCBLSpAqjuxybLh5O42yGiDhg189veP9jd2tQTYwYkNTTaqVgKrfkZmLLvDZlegqCxQNYWHgOPrDNbSDCgHxq0XnfngmUgpuX-qCtfdwpIqtE6ojlbwq1oeM3gdadZwkT0fKSm6Ph05fB80zRk-ItD4f9v8QOJLVsCjXw6MgUmzmXabOS9ZiR-qIwktIr7US5E4yBmV4oufIrvdAZ49MrZBqcuLAWsq00S121Ae0c=s64",
      "userId": "03427284999883076130"
     },
     "user_tz": 300
    },
    "id": "QHUMFUXRUjnx",
    "outputId": "c69426c6-2c19-40d4-e596-f056ec4df5b2"
   },
   "outputs": [
    {
     "data": {
      "text/plain": [
       "array([3, 2, 0])"
      ]
     },
     "execution_count": 71,
     "metadata": {},
     "output_type": "execute_result"
    }
   ],
   "source": [
    "# numero de elementos menores a 6 por fila\n",
    "np.sum(x < 6, axis = 1)"
   ]
  },
  {
   "cell_type": "markdown",
   "metadata": {
    "id": "C-t07HoyUl_p"
   },
   "source": [
    "Podemos también tener múltiples condiciones en un conteo, utilizando los operadores lógicos `&` (and) y `|` (or)"
   ]
  },
  {
   "cell_type": "code",
   "execution_count": 75,
   "metadata": {
    "colab": {
     "base_uri": "https://localhost:8080/"
    },
    "executionInfo": {
     "elapsed": 2086,
     "status": "ok",
     "timestamp": 1613432646182,
     "user": {
      "displayName": "TOMAS ATEHORTUA GARCES",
      "photoUrl": "https://lh3.googleusercontent.com/a-/AOh14GirRCNcB5b8d4b9XScppMxMItAIFiob8mTFaMMdZN6MXrBcOaLg4_hYXiQ02S6_15FkILlwHkvMCQGkke9uuxmJqolSCSsRYRql5D1jq3mPQLRunqqLX0mqJD30-e8HowzS3QXK7Js0keFfrIrEXleCX6fzcnzpi04yQEE9i-9EuY1ub2mlMKEiA49N8pHj13B1offvWkFYNeo_GHwBsDk0g-60zm97O0C5A5nmQdXkHjCngNP2muze1HfMfPiTAdRknOGX8O-GyVUKliPgj2HVEF6HwDFqiJmnvdB1ZCu_K-5DDEKGEcrewYlqA3rKPWFZi-E8HJPI82Hr6ZVhiU4SAGse5aNEsixY8yQtNehUZeVGqRI0tU2aIDbp4rytWaPM32bJ2MTckrih0ead_gdh7Zk7CfKSzaqf0qdrMzZpeikSP9v1B-Jfk1rGc1jzA4J8-7Lf_kmKdJJXRn3gclxcPtkydJPco1YUwGhTKp4r8cjJN6QO5SiFXaUpq6sYJrixdvTyqIhcuxhM80rJb6kVuTiRzGJCBLSpAqjuxybLh5O42yGiDhg189veP9jd2tQTYwYkNTTaqVgKrfkZmLLvDZlegqCxQNYWHgOPrDNbSDCgHxq0XnfngmUgpuX-qCtfdwpIqtE6ojlbwq1oeM3gdadZwkT0fKSm6Ph05fB80zRk-ItD4f9v8QOJLVsCjXw6MgUmzmXabOS9ZiR-qIwktIr7US5E4yBmV4oufIrvdAZ49MrZBqcuLAWsq00S121Ae0c=s64",
      "userId": "03427284999883076130"
     },
     "user_tz": 300
    },
    "id": "prKpmML_UkpK",
    "outputId": "769a5fcd-7e82-4be7-f6fc-cfb188a3e4c9"
   },
   "outputs": [
    {
     "name": "stdout",
     "output_type": "stream",
     "text": [
      "[[False False  True]\n",
      " [ True  True False]\n",
      " [False False False]]\n"
     ]
    },
    {
     "data": {
      "text/plain": [
       "3"
      ]
     },
     "execution_count": 75,
     "metadata": {},
     "output_type": "execute_result"
    }
   ],
   "source": [
    "# verdadero si ambos verdaderos\n",
    "print((x > 1) & (x < 6))\n",
    "np.sum((x > 1) & (x < 6))"
   ]
  },
  {
   "cell_type": "code",
   "execution_count": 77,
   "metadata": {
    "colab": {
     "base_uri": "https://localhost:8080/"
    },
    "executionInfo": {
     "elapsed": 2077,
     "status": "ok",
     "timestamp": 1613432646182,
     "user": {
      "displayName": "TOMAS ATEHORTUA GARCES",
      "photoUrl": "https://lh3.googleusercontent.com/a-/AOh14GirRCNcB5b8d4b9XScppMxMItAIFiob8mTFaMMdZN6MXrBcOaLg4_hYXiQ02S6_15FkILlwHkvMCQGkke9uuxmJqolSCSsRYRql5D1jq3mPQLRunqqLX0mqJD30-e8HowzS3QXK7Js0keFfrIrEXleCX6fzcnzpi04yQEE9i-9EuY1ub2mlMKEiA49N8pHj13B1offvWkFYNeo_GHwBsDk0g-60zm97O0C5A5nmQdXkHjCngNP2muze1HfMfPiTAdRknOGX8O-GyVUKliPgj2HVEF6HwDFqiJmnvdB1ZCu_K-5DDEKGEcrewYlqA3rKPWFZi-E8HJPI82Hr6ZVhiU4SAGse5aNEsixY8yQtNehUZeVGqRI0tU2aIDbp4rytWaPM32bJ2MTckrih0ead_gdh7Zk7CfKSzaqf0qdrMzZpeikSP9v1B-Jfk1rGc1jzA4J8-7Lf_kmKdJJXRn3gclxcPtkydJPco1YUwGhTKp4r8cjJN6QO5SiFXaUpq6sYJrixdvTyqIhcuxhM80rJb6kVuTiRzGJCBLSpAqjuxybLh5O42yGiDhg189veP9jd2tQTYwYkNTTaqVgKrfkZmLLvDZlegqCxQNYWHgOPrDNbSDCgHxq0XnfngmUgpuX-qCtfdwpIqtE6ojlbwq1oeM3gdadZwkT0fKSm6Ph05fB80zRk-ItD4f9v8QOJLVsCjXw6MgUmzmXabOS9ZiR-qIwktIr7US5E4yBmV4oufIrvdAZ49MrZBqcuLAWsq00S121Ae0c=s64",
      "userId": "03427284999883076130"
     },
     "user_tz": 300
    },
    "id": "0U2206s0UpKm",
    "outputId": "2fa4b08c-ecd6-46b2-edbb-d736ab2e0bf1"
   },
   "outputs": [
    {
     "name": "stdout",
     "output_type": "stream",
     "text": [
      "[[ True False False]\n",
      " [False False False]\n",
      " [ True  True  True]]\n"
     ]
    },
    {
     "data": {
      "text/plain": [
       "4"
      ]
     },
     "execution_count": 77,
     "metadata": {},
     "output_type": "execute_result"
    }
   ],
   "source": [
    "# verdadero en caso en que alguno de los dos sea verdadero\n",
    "print((x < 2) | (x > 6))\n",
    "np.sum((x < 2) | (x > 6))"
   ]
  },
  {
   "cell_type": "markdown",
   "metadata": {
    "id": "jjAJOIelUt2w"
   },
   "source": [
    "Una herramienta muy poderosa es usar los arreglos booleanos como máscaras, para seleccionar subconjuntos particulares de los datos mismos.\n",
    "\n",
    "Volviendo a nuestra arreglo `x` anterior, supongamos que queremos un arreglo de todos los valores en `x` que sean menores que, digamos, 5. Para seleccionar estos valores del arreglo, simplemente podemos indexar con este arreglo booleano; esto se conoce como una operación de enmascaramiento:"
   ]
  },
  {
   "cell_type": "code",
   "execution_count": 80,
   "metadata": {},
   "outputs": [
    {
     "data": {
      "text/plain": [
       "array([[ True,  True,  True],\n",
       "       [ True,  True, False],\n",
       "       [False, False, False]])"
      ]
     },
     "execution_count": 80,
     "metadata": {},
     "output_type": "execute_result"
    }
   ],
   "source": [
    "x < 6"
   ]
  },
  {
   "cell_type": "code",
   "execution_count": 83,
   "metadata": {
    "colab": {
     "base_uri": "https://localhost:8080/"
    },
    "executionInfo": {
     "elapsed": 2059,
     "status": "ok",
     "timestamp": 1613432646192,
     "user": {
      "displayName": "TOMAS ATEHORTUA GARCES",
      "photoUrl": "https://lh3.googleusercontent.com/a-/AOh14GirRCNcB5b8d4b9XScppMxMItAIFiob8mTFaMMdZN6MXrBcOaLg4_hYXiQ02S6_15FkILlwHkvMCQGkke9uuxmJqolSCSsRYRql5D1jq3mPQLRunqqLX0mqJD30-e8HowzS3QXK7Js0keFfrIrEXleCX6fzcnzpi04yQEE9i-9EuY1ub2mlMKEiA49N8pHj13B1offvWkFYNeo_GHwBsDk0g-60zm97O0C5A5nmQdXkHjCngNP2muze1HfMfPiTAdRknOGX8O-GyVUKliPgj2HVEF6HwDFqiJmnvdB1ZCu_K-5DDEKGEcrewYlqA3rKPWFZi-E8HJPI82Hr6ZVhiU4SAGse5aNEsixY8yQtNehUZeVGqRI0tU2aIDbp4rytWaPM32bJ2MTckrih0ead_gdh7Zk7CfKSzaqf0qdrMzZpeikSP9v1B-Jfk1rGc1jzA4J8-7Lf_kmKdJJXRn3gclxcPtkydJPco1YUwGhTKp4r8cjJN6QO5SiFXaUpq6sYJrixdvTyqIhcuxhM80rJb6kVuTiRzGJCBLSpAqjuxybLh5O42yGiDhg189veP9jd2tQTYwYkNTTaqVgKrfkZmLLvDZlegqCxQNYWHgOPrDNbSDCgHxq0XnfngmUgpuX-qCtfdwpIqtE6ojlbwq1oeM3gdadZwkT0fKSm6Ph05fB80zRk-ItD4f9v8QOJLVsCjXw6MgUmzmXabOS9ZiR-qIwktIr7US5E4yBmV4oufIrvdAZ49MrZBqcuLAWsq00S121Ae0c=s64",
      "userId": "03427284999883076130"
     },
     "user_tz": 300
    },
    "id": "-liexEjCUpxO",
    "outputId": "4000d72d-a05b-4bc8-a960-17fc9b50a1a7"
   },
   "outputs": [
    {
     "data": {
      "text/plain": [
       "array([1, 2, 3, 4, 5, 6])"
      ]
     },
     "execution_count": 83,
     "metadata": {},
     "output_type": "execute_result"
    }
   ],
   "source": [
    "x[ x < 7]"
   ]
  },
  {
   "cell_type": "markdown",
   "metadata": {
    "id": "nA9nv0TWUxCI"
   },
   "source": [
    "Lo que se devuelve es un arreglo unidimensional con todos los valores que cumplen la condición; en otras palabras, todos los valores en las posiciones en las que el arreglo de máscara es `True`."
   ]
  },
  {
   "cell_type": "markdown",
   "metadata": {
    "id": "CyRtn9p6n4jl"
   },
   "source": [
    "**Ejercicio 2:** Escriba una función que, dado un número entero `n`, retorne:\n",
    "\n",
    "* Un arreglo con los primeros números pares hasta `n`, incluyendo.\n",
    "* Un arreglo con los primeros números múltiplos de tres hasta `n`, incluyendo."
   ]
  },
  {
   "cell_type": "code",
   "execution_count": null,
   "metadata": {
    "colab": {
     "base_uri": "https://localhost:8080/"
    },
    "executionInfo": {
     "elapsed": 2051,
     "status": "ok",
     "timestamp": 1613432646194,
     "user": {
      "displayName": "TOMAS ATEHORTUA GARCES",
      "photoUrl": "https://lh3.googleusercontent.com/a-/AOh14GirRCNcB5b8d4b9XScppMxMItAIFiob8mTFaMMdZN6MXrBcOaLg4_hYXiQ02S6_15FkILlwHkvMCQGkke9uuxmJqolSCSsRYRql5D1jq3mPQLRunqqLX0mqJD30-e8HowzS3QXK7Js0keFfrIrEXleCX6fzcnzpi04yQEE9i-9EuY1ub2mlMKEiA49N8pHj13B1offvWkFYNeo_GHwBsDk0g-60zm97O0C5A5nmQdXkHjCngNP2muze1HfMfPiTAdRknOGX8O-GyVUKliPgj2HVEF6HwDFqiJmnvdB1ZCu_K-5DDEKGEcrewYlqA3rKPWFZi-E8HJPI82Hr6ZVhiU4SAGse5aNEsixY8yQtNehUZeVGqRI0tU2aIDbp4rytWaPM32bJ2MTckrih0ead_gdh7Zk7CfKSzaqf0qdrMzZpeikSP9v1B-Jfk1rGc1jzA4J8-7Lf_kmKdJJXRn3gclxcPtkydJPco1YUwGhTKp4r8cjJN6QO5SiFXaUpq6sYJrixdvTyqIhcuxhM80rJb6kVuTiRzGJCBLSpAqjuxybLh5O42yGiDhg189veP9jd2tQTYwYkNTTaqVgKrfkZmLLvDZlegqCxQNYWHgOPrDNbSDCgHxq0XnfngmUgpuX-qCtfdwpIqtE6ojlbwq1oeM3gdadZwkT0fKSm6Ph05fB80zRk-ItD4f9v8QOJLVsCjXw6MgUmzmXabOS9ZiR-qIwktIr7US5E4yBmV4oufIrvdAZ49MrZBqcuLAWsq00S121Ae0c=s64",
      "userId": "03427284999883076130"
     },
     "user_tz": 300
    },
    "id": "jrEWPzNZn4C3",
    "outputId": "4085af1d-3448-4ffe-9131-83181f7cd5fb"
   },
   "outputs": [],
   "source": []
  },
  {
   "cell_type": "markdown",
   "metadata": {
    "id": "hLAwh9cHWewl"
   },
   "source": [
    "<p><a name=\"sof\"></a></p>\n",
    "\n",
    "# **Indexación sofisticada**\n",
    "\n",
    "Anteriormente vimos cómo acceder y modificar porciones de arreglos usando índices simples (por ejemplo, `arr[0]`), segmentos (por ejemplo, `arr[: 5]`) y máscaras booleanas (por ejemplo, `arr[arr> 0]`). Veremos ahora otro estilo de indexación de arreglos, conocido como *indexación sofisticada*, la cual nos permite acceder y modificar muy rápidamente subconjuntos complicados de los valores de un arreglo.\n",
    "\n",
    "La indexación sofisticada es conceptualmente simple: significa pasar una lista de índices en lugar de un entero, para acceder a múltiples elementos del arreglo a la vez. Veamos un ejemplo:"
   ]
  },
  {
   "cell_type": "code",
   "execution_count": 85,
   "metadata": {
    "colab": {
     "base_uri": "https://localhost:8080/"
    },
    "executionInfo": {
     "elapsed": 639,
     "status": "ok",
     "timestamp": 1613432752256,
     "user": {
      "displayName": "TOMAS ATEHORTUA GARCES",
      "photoUrl": "https://lh3.googleusercontent.com/a-/AOh14GirRCNcB5b8d4b9XScppMxMItAIFiob8mTFaMMdZN6MXrBcOaLg4_hYXiQ02S6_15FkILlwHkvMCQGkke9uuxmJqolSCSsRYRql5D1jq3mPQLRunqqLX0mqJD30-e8HowzS3QXK7Js0keFfrIrEXleCX6fzcnzpi04yQEE9i-9EuY1ub2mlMKEiA49N8pHj13B1offvWkFYNeo_GHwBsDk0g-60zm97O0C5A5nmQdXkHjCngNP2muze1HfMfPiTAdRknOGX8O-GyVUKliPgj2HVEF6HwDFqiJmnvdB1ZCu_K-5DDEKGEcrewYlqA3rKPWFZi-E8HJPI82Hr6ZVhiU4SAGse5aNEsixY8yQtNehUZeVGqRI0tU2aIDbp4rytWaPM32bJ2MTckrih0ead_gdh7Zk7CfKSzaqf0qdrMzZpeikSP9v1B-Jfk1rGc1jzA4J8-7Lf_kmKdJJXRn3gclxcPtkydJPco1YUwGhTKp4r8cjJN6QO5SiFXaUpq6sYJrixdvTyqIhcuxhM80rJb6kVuTiRzGJCBLSpAqjuxybLh5O42yGiDhg189veP9jd2tQTYwYkNTTaqVgKrfkZmLLvDZlegqCxQNYWHgOPrDNbSDCgHxq0XnfngmUgpuX-qCtfdwpIqtE6ojlbwq1oeM3gdadZwkT0fKSm6Ph05fB80zRk-ItD4f9v8QOJLVsCjXw6MgUmzmXabOS9ZiR-qIwktIr7US5E4yBmV4oufIrvdAZ49MrZBqcuLAWsq00S121Ae0c=s64",
      "userId": "03427284999883076130"
     },
     "user_tz": 300
    },
    "id": "7jlRBNX1WoKL",
    "outputId": "c8239526-9b47-4781-a873-4e5679727504"
   },
   "outputs": [
    {
     "data": {
      "text/plain": [
       "array([10, 11, 12, 13, 14, 15, 16, 17, 18, 19, 20])"
      ]
     },
     "execution_count": 85,
     "metadata": {},
     "output_type": "execute_result"
    }
   ],
   "source": [
    "a = np.arange(10, 21)\n",
    "a"
   ]
  },
  {
   "cell_type": "code",
   "execution_count": 86,
   "metadata": {
    "colab": {
     "base_uri": "https://localhost:8080/"
    },
    "executionInfo": {
     "elapsed": 663,
     "status": "ok",
     "timestamp": 1613432755018,
     "user": {
      "displayName": "TOMAS ATEHORTUA GARCES",
      "photoUrl": "https://lh3.googleusercontent.com/a-/AOh14GirRCNcB5b8d4b9XScppMxMItAIFiob8mTFaMMdZN6MXrBcOaLg4_hYXiQ02S6_15FkILlwHkvMCQGkke9uuxmJqolSCSsRYRql5D1jq3mPQLRunqqLX0mqJD30-e8HowzS3QXK7Js0keFfrIrEXleCX6fzcnzpi04yQEE9i-9EuY1ub2mlMKEiA49N8pHj13B1offvWkFYNeo_GHwBsDk0g-60zm97O0C5A5nmQdXkHjCngNP2muze1HfMfPiTAdRknOGX8O-GyVUKliPgj2HVEF6HwDFqiJmnvdB1ZCu_K-5DDEKGEcrewYlqA3rKPWFZi-E8HJPI82Hr6ZVhiU4SAGse5aNEsixY8yQtNehUZeVGqRI0tU2aIDbp4rytWaPM32bJ2MTckrih0ead_gdh7Zk7CfKSzaqf0qdrMzZpeikSP9v1B-Jfk1rGc1jzA4J8-7Lf_kmKdJJXRn3gclxcPtkydJPco1YUwGhTKp4r8cjJN6QO5SiFXaUpq6sYJrixdvTyqIhcuxhM80rJb6kVuTiRzGJCBLSpAqjuxybLh5O42yGiDhg189veP9jd2tQTYwYkNTTaqVgKrfkZmLLvDZlegqCxQNYWHgOPrDNbSDCgHxq0XnfngmUgpuX-qCtfdwpIqtE6ojlbwq1oeM3gdadZwkT0fKSm6Ph05fB80zRk-ItD4f9v8QOJLVsCjXw6MgUmzmXabOS9ZiR-qIwktIr7US5E4yBmV4oufIrvdAZ49MrZBqcuLAWsq00S121Ae0c=s64",
      "userId": "03427284999883076130"
     },
     "user_tz": 300
    },
    "id": "6xTl6MX0Wt1a",
    "outputId": "544498ca-257f-4cf8-c54c-29307a6ba0d7"
   },
   "outputs": [
    {
     "data": {
      "text/plain": [
       "array([10, 12, 17])"
      ]
     },
     "execution_count": 86,
     "metadata": {},
     "output_type": "execute_result"
    }
   ],
   "source": [
    "np.array([a[0], a[2], a[7]])"
   ]
  },
  {
   "cell_type": "code",
   "execution_count": 87,
   "metadata": {
    "colab": {
     "base_uri": "https://localhost:8080/"
    },
    "executionInfo": {
     "elapsed": 700,
     "status": "ok",
     "timestamp": 1613432762743,
     "user": {
      "displayName": "TOMAS ATEHORTUA GARCES",
      "photoUrl": "https://lh3.googleusercontent.com/a-/AOh14GirRCNcB5b8d4b9XScppMxMItAIFiob8mTFaMMdZN6MXrBcOaLg4_hYXiQ02S6_15FkILlwHkvMCQGkke9uuxmJqolSCSsRYRql5D1jq3mPQLRunqqLX0mqJD30-e8HowzS3QXK7Js0keFfrIrEXleCX6fzcnzpi04yQEE9i-9EuY1ub2mlMKEiA49N8pHj13B1offvWkFYNeo_GHwBsDk0g-60zm97O0C5A5nmQdXkHjCngNP2muze1HfMfPiTAdRknOGX8O-GyVUKliPgj2HVEF6HwDFqiJmnvdB1ZCu_K-5DDEKGEcrewYlqA3rKPWFZi-E8HJPI82Hr6ZVhiU4SAGse5aNEsixY8yQtNehUZeVGqRI0tU2aIDbp4rytWaPM32bJ2MTckrih0ead_gdh7Zk7CfKSzaqf0qdrMzZpeikSP9v1B-Jfk1rGc1jzA4J8-7Lf_kmKdJJXRn3gclxcPtkydJPco1YUwGhTKp4r8cjJN6QO5SiFXaUpq6sYJrixdvTyqIhcuxhM80rJb6kVuTiRzGJCBLSpAqjuxybLh5O42yGiDhg189veP9jd2tQTYwYkNTTaqVgKrfkZmLLvDZlegqCxQNYWHgOPrDNbSDCgHxq0XnfngmUgpuX-qCtfdwpIqtE6ojlbwq1oeM3gdadZwkT0fKSm6Ph05fB80zRk-ItD4f9v8QOJLVsCjXw6MgUmzmXabOS9ZiR-qIwktIr7US5E4yBmV4oufIrvdAZ49MrZBqcuLAWsq00S121Ae0c=s64",
      "userId": "03427284999883076130"
     },
     "user_tz": 300
    },
    "id": "L_2zmfWBWvQ_",
    "outputId": "0d683925-5505-43dc-bfb3-928cb835d976"
   },
   "outputs": [
    {
     "data": {
      "text/plain": [
       "array([10, 12, 17])"
      ]
     },
     "execution_count": 87,
     "metadata": {},
     "output_type": "execute_result"
    }
   ],
   "source": [
    "indi = [0, 2, 7]\n",
    "\n",
    "a[indi]"
   ]
  },
  {
   "cell_type": "markdown",
   "metadata": {
    "id": "ZO2EuXhtWz7J"
   },
   "source": [
    "Con el indexado sofisticado, la forma del resultado refleja la forma del arreglo de índices más que la forma del arreglo que se está indexando:"
   ]
  },
  {
   "cell_type": "code",
   "execution_count": 89,
   "metadata": {
    "colab": {
     "base_uri": "https://localhost:8080/"
    },
    "executionInfo": {
     "elapsed": 671,
     "status": "ok",
     "timestamp": 1613432772334,
     "user": {
      "displayName": "TOMAS ATEHORTUA GARCES",
      "photoUrl": "https://lh3.googleusercontent.com/a-/AOh14GirRCNcB5b8d4b9XScppMxMItAIFiob8mTFaMMdZN6MXrBcOaLg4_hYXiQ02S6_15FkILlwHkvMCQGkke9uuxmJqolSCSsRYRql5D1jq3mPQLRunqqLX0mqJD30-e8HowzS3QXK7Js0keFfrIrEXleCX6fzcnzpi04yQEE9i-9EuY1ub2mlMKEiA49N8pHj13B1offvWkFYNeo_GHwBsDk0g-60zm97O0C5A5nmQdXkHjCngNP2muze1HfMfPiTAdRknOGX8O-GyVUKliPgj2HVEF6HwDFqiJmnvdB1ZCu_K-5DDEKGEcrewYlqA3rKPWFZi-E8HJPI82Hr6ZVhiU4SAGse5aNEsixY8yQtNehUZeVGqRI0tU2aIDbp4rytWaPM32bJ2MTckrih0ead_gdh7Zk7CfKSzaqf0qdrMzZpeikSP9v1B-Jfk1rGc1jzA4J8-7Lf_kmKdJJXRn3gclxcPtkydJPco1YUwGhTKp4r8cjJN6QO5SiFXaUpq6sYJrixdvTyqIhcuxhM80rJb6kVuTiRzGJCBLSpAqjuxybLh5O42yGiDhg189veP9jd2tQTYwYkNTTaqVgKrfkZmLLvDZlegqCxQNYWHgOPrDNbSDCgHxq0XnfngmUgpuX-qCtfdwpIqtE6ojlbwq1oeM3gdadZwkT0fKSm6Ph05fB80zRk-ItD4f9v8QOJLVsCjXw6MgUmzmXabOS9ZiR-qIwktIr7US5E4yBmV4oufIrvdAZ49MrZBqcuLAWsq00S121Ae0c=s64",
      "userId": "03427284999883076130"
     },
     "user_tz": 300
    },
    "id": "nOAWL1uxWxnA",
    "outputId": "ac3c0a0f-6f07-4a31-f08f-e72790e10002"
   },
   "outputs": [
    {
     "data": {
      "text/plain": [
       "array([ 0, 10, 20, 30, 40, 50, 60, 70, 80, 90])"
      ]
     },
     "execution_count": 89,
     "metadata": {},
     "output_type": "execute_result"
    }
   ],
   "source": [
    "a = np.arange(0, 91, 10)\n",
    "a"
   ]
  },
  {
   "cell_type": "code",
   "execution_count": 90,
   "metadata": {
    "colab": {
     "base_uri": "https://localhost:8080/"
    },
    "executionInfo": {
     "elapsed": 672,
     "status": "ok",
     "timestamp": 1613432774851,
     "user": {
      "displayName": "TOMAS ATEHORTUA GARCES",
      "photoUrl": "https://lh3.googleusercontent.com/a-/AOh14GirRCNcB5b8d4b9XScppMxMItAIFiob8mTFaMMdZN6MXrBcOaLg4_hYXiQ02S6_15FkILlwHkvMCQGkke9uuxmJqolSCSsRYRql5D1jq3mPQLRunqqLX0mqJD30-e8HowzS3QXK7Js0keFfrIrEXleCX6fzcnzpi04yQEE9i-9EuY1ub2mlMKEiA49N8pHj13B1offvWkFYNeo_GHwBsDk0g-60zm97O0C5A5nmQdXkHjCngNP2muze1HfMfPiTAdRknOGX8O-GyVUKliPgj2HVEF6HwDFqiJmnvdB1ZCu_K-5DDEKGEcrewYlqA3rKPWFZi-E8HJPI82Hr6ZVhiU4SAGse5aNEsixY8yQtNehUZeVGqRI0tU2aIDbp4rytWaPM32bJ2MTckrih0ead_gdh7Zk7CfKSzaqf0qdrMzZpeikSP9v1B-Jfk1rGc1jzA4J8-7Lf_kmKdJJXRn3gclxcPtkydJPco1YUwGhTKp4r8cjJN6QO5SiFXaUpq6sYJrixdvTyqIhcuxhM80rJb6kVuTiRzGJCBLSpAqjuxybLh5O42yGiDhg189veP9jd2tQTYwYkNTTaqVgKrfkZmLLvDZlegqCxQNYWHgOPrDNbSDCgHxq0XnfngmUgpuX-qCtfdwpIqtE6ojlbwq1oeM3gdadZwkT0fKSm6Ph05fB80zRk-ItD4f9v8QOJLVsCjXw6MgUmzmXabOS9ZiR-qIwktIr7US5E4yBmV4oufIrvdAZ49MrZBqcuLAWsq00S121Ae0c=s64",
      "userId": "03427284999883076130"
     },
     "user_tz": 300
    },
    "id": "nyPpXUySW1sX",
    "outputId": "776da4e7-9991-4ea7-f242-716f2ab2f759"
   },
   "outputs": [
    {
     "data": {
      "text/plain": [
       "array([[30, 70],\n",
       "       [50, 80]])"
      ]
     },
     "execution_count": 90,
     "metadata": {},
     "output_type": "execute_result"
    }
   ],
   "source": [
    "ind = np.array([[3, 7], [5, 8]])\n",
    "a[ind]"
   ]
  },
  {
   "cell_type": "markdown",
   "metadata": {
    "id": "xDL95LxEW9Ga"
   },
   "source": [
    "El indexado sofisticado funciona también en múltiples dimensiones. Veámoslo en el siguiente ejemplo:"
   ]
  },
  {
   "cell_type": "code",
   "execution_count": 91,
   "metadata": {
    "colab": {
     "base_uri": "https://localhost:8080/"
    },
    "executionInfo": {
     "elapsed": 651,
     "status": "ok",
     "timestamp": 1613432831178,
     "user": {
      "displayName": "TOMAS ATEHORTUA GARCES",
      "photoUrl": "https://lh3.googleusercontent.com/a-/AOh14GirRCNcB5b8d4b9XScppMxMItAIFiob8mTFaMMdZN6MXrBcOaLg4_hYXiQ02S6_15FkILlwHkvMCQGkke9uuxmJqolSCSsRYRql5D1jq3mPQLRunqqLX0mqJD30-e8HowzS3QXK7Js0keFfrIrEXleCX6fzcnzpi04yQEE9i-9EuY1ub2mlMKEiA49N8pHj13B1offvWkFYNeo_GHwBsDk0g-60zm97O0C5A5nmQdXkHjCngNP2muze1HfMfPiTAdRknOGX8O-GyVUKliPgj2HVEF6HwDFqiJmnvdB1ZCu_K-5DDEKGEcrewYlqA3rKPWFZi-E8HJPI82Hr6ZVhiU4SAGse5aNEsixY8yQtNehUZeVGqRI0tU2aIDbp4rytWaPM32bJ2MTckrih0ead_gdh7Zk7CfKSzaqf0qdrMzZpeikSP9v1B-Jfk1rGc1jzA4J8-7Lf_kmKdJJXRn3gclxcPtkydJPco1YUwGhTKp4r8cjJN6QO5SiFXaUpq6sYJrixdvTyqIhcuxhM80rJb6kVuTiRzGJCBLSpAqjuxybLh5O42yGiDhg189veP9jd2tQTYwYkNTTaqVgKrfkZmLLvDZlegqCxQNYWHgOPrDNbSDCgHxq0XnfngmUgpuX-qCtfdwpIqtE6ojlbwq1oeM3gdadZwkT0fKSm6Ph05fB80zRk-ItD4f9v8QOJLVsCjXw6MgUmzmXabOS9ZiR-qIwktIr7US5E4yBmV4oufIrvdAZ49MrZBqcuLAWsq00S121Ae0c=s64",
      "userId": "03427284999883076130"
     },
     "user_tz": 300
    },
    "id": "gxoO0ii-W3MX",
    "outputId": "00769044-7f57-4db5-97d6-1ed9c8334246"
   },
   "outputs": [
    {
     "data": {
      "text/plain": [
       "array([[ 0,  1,  2,  3],\n",
       "       [ 4,  5,  6,  7],\n",
       "       [ 8,  9, 10, 11]])"
      ]
     },
     "execution_count": 91,
     "metadata": {},
     "output_type": "execute_result"
    }
   ],
   "source": [
    "a = np.arange(12).reshape(3,4)\n",
    "a"
   ]
  },
  {
   "cell_type": "markdown",
   "metadata": {
    "id": "qjcf6cTeXEQj"
   },
   "source": [
    "Como en la indexación estándar, el primer índice hace referencia a las filas y el segundo a las columnas:"
   ]
  },
  {
   "cell_type": "code",
   "execution_count": 92,
   "metadata": {
    "colab": {
     "base_uri": "https://localhost:8080/"
    },
    "executionInfo": {
     "elapsed": 667,
     "status": "ok",
     "timestamp": 1613432848817,
     "user": {
      "displayName": "TOMAS ATEHORTUA GARCES",
      "photoUrl": "https://lh3.googleusercontent.com/a-/AOh14GirRCNcB5b8d4b9XScppMxMItAIFiob8mTFaMMdZN6MXrBcOaLg4_hYXiQ02S6_15FkILlwHkvMCQGkke9uuxmJqolSCSsRYRql5D1jq3mPQLRunqqLX0mqJD30-e8HowzS3QXK7Js0keFfrIrEXleCX6fzcnzpi04yQEE9i-9EuY1ub2mlMKEiA49N8pHj13B1offvWkFYNeo_GHwBsDk0g-60zm97O0C5A5nmQdXkHjCngNP2muze1HfMfPiTAdRknOGX8O-GyVUKliPgj2HVEF6HwDFqiJmnvdB1ZCu_K-5DDEKGEcrewYlqA3rKPWFZi-E8HJPI82Hr6ZVhiU4SAGse5aNEsixY8yQtNehUZeVGqRI0tU2aIDbp4rytWaPM32bJ2MTckrih0ead_gdh7Zk7CfKSzaqf0qdrMzZpeikSP9v1B-Jfk1rGc1jzA4J8-7Lf_kmKdJJXRn3gclxcPtkydJPco1YUwGhTKp4r8cjJN6QO5SiFXaUpq6sYJrixdvTyqIhcuxhM80rJb6kVuTiRzGJCBLSpAqjuxybLh5O42yGiDhg189veP9jd2tQTYwYkNTTaqVgKrfkZmLLvDZlegqCxQNYWHgOPrDNbSDCgHxq0XnfngmUgpuX-qCtfdwpIqtE6ojlbwq1oeM3gdadZwkT0fKSm6Ph05fB80zRk-ItD4f9v8QOJLVsCjXw6MgUmzmXabOS9ZiR-qIwktIr7US5E4yBmV4oufIrvdAZ49MrZBqcuLAWsq00S121Ae0c=s64",
      "userId": "03427284999883076130"
     },
     "user_tz": 300
    },
    "id": "pDNq6310XC3k",
    "outputId": "41a70918-d257-47d3-b03c-f15f69599cbd"
   },
   "outputs": [
    {
     "data": {
      "text/plain": [
       "array([ 2,  5, 11])"
      ]
     },
     "execution_count": 92,
     "metadata": {},
     "output_type": "execute_result"
    }
   ],
   "source": [
    "fila = [0, 1, 2]\n",
    "colu = [2, 1, 3]\n",
    "a[fila, colu]"
   ]
  },
  {
   "cell_type": "code",
   "execution_count": 94,
   "metadata": {},
   "outputs": [
    {
     "data": {
      "text/plain": [
       "array([ 2,  5, 11])"
      ]
     },
     "execution_count": 94,
     "metadata": {},
     "output_type": "execute_result"
    }
   ],
   "source": [
    "np.array([a[0,2], a[1,1], a[2, 3]])"
   ]
  },
  {
   "cell_type": "markdown",
   "metadata": {
    "id": "svQbapXQXNwa"
   },
   "source": [
    "Los valores el en arreglo corresponden a `a[0,2]`, `a[1,1]` y `a[2,3]` respectivamente."
   ]
  }
 ],
 "metadata": {
  "colab": {
   "provenance": []
  },
  "kernelspec": {
   "display_name": "Python 3 (ipykernel)",
   "language": "python",
   "name": "python3"
  },
  "language_info": {
   "codemirror_mode": {
    "name": "ipython",
    "version": 3
   },
   "file_extension": ".py",
   "mimetype": "text/x-python",
   "name": "python",
   "nbconvert_exporter": "python",
   "pygments_lexer": "ipython3",
   "version": "3.10.10"
  }
 },
 "nbformat": 4,
 "nbformat_minor": 4
}
