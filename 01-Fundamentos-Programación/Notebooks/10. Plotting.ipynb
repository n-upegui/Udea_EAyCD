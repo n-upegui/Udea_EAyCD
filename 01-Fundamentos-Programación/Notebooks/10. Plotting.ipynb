{
  "cells": [
    {
      "cell_type": "markdown",
      "metadata": {
        "id": "839EcIbNr2ns"
      },
      "source": [
        "<p><a name=\"mat\"></a></p>\n",
        "\n",
        "# **Matplotlib**\n",
        "\n",
        "Matplotlib es una herramienta para visualización de datos en Python, construida sobre arreglos de NumPy.\n",
        "\n",
        "Para todas las visualizaciones con Matplotlib, comenzamos creando una figura y un eje o conjunto de ejes. Una visualización típica es de la siguiente forma:"
      ]
    },
    {
      "cell_type": "markdown",
      "metadata": {
        "id": "hM3iZEcKvEUe"
      },
      "source": [
        "<p><img alt=\"Colaboratory logo\" height=\"300px\" src=\"https://i.imgur.com/CN4dd50.jpg\" align=\"left\" hspace=\"10px\" vspace=\"0px\"></p>"
      ]
    },
    {
      "cell_type": "markdown",
      "metadata": {
        "id": "YLacBJfrvMZf"
      },
      "source": [
        "En esta imagen vemos cómo hemos generado 4 sencillas gráficas dispuestas en una matriz de 2x2. El primero de los conceptos a tratar es el de figura (figure). Ésta es el espacio que abarca las cuatro gráficas y que, en este ejemplo, se muestra de color verdoso con un borde verde un poco más fuerte. Es decir, en la imagen anterior, la figura sería la siguiente:"
      ]
    },
    {
      "cell_type": "markdown",
      "metadata": {
        "id": "b54Qvo7uvOXB"
      },
      "source": [
        "<p><img alt=\"Colaboratory logo\" height=\"200px\" src=\"https://i.imgur.com/LzKT7CG.jpg\" align=\"left\" hspace=\"10px\" vspace=\"0px\"></p>"
      ]
    },
    {
      "cell_type": "markdown",
      "metadata": {
        "id": "KnY0JPYjvRNl"
      },
      "source": [
        "Dentro de la figura nos encontramos con las cuatro mencionadas gráficas, cada una de las cuales se ha creado sobre un *conjunto de ejes* (axes). Se muestran a continuación los cuatro conjuntos de ejes:"
      ]
    },
    {
      "cell_type": "markdown",
      "metadata": {
        "id": "jJXCD1h9vS6G"
      },
      "source": [
        "<p><img alt=\"Colaboratory logo\" height=\"300px\" src=\"https://i.imgur.com/9WmCGDP.jpg\" align=\"left\" hspace=\"10px\" vspace=\"0px\"></p>"
      ]
    },
    {
      "cell_type": "markdown",
      "metadata": {
        "id": "aO0N23nFvUsm"
      },
      "source": [
        "Vemos que del concepto \"ejes\" representa características como el título de la gráfica, las marcas en los ejes (lo que en matplotlib se denominan ticks), etc.\n",
        "\n",
        "Por último, dentro de cada conjunto de ejes encontramos lo llamamos gráfica (plot). Estas serían las cuatro gráficas generadas:"
      ]
    },
    {
      "cell_type": "markdown",
      "metadata": {
        "id": "fWUn9bgpvWMO"
      },
      "source": [
        "<p><img alt=\"Colaboratory logo\" height=\"300px\" src=\"https://i.imgur.com/kfaMZLp.jpg\" align=\"left\" hspace=\"10px\" vspace=\"0px\"></p>"
      ]
    },
    {
      "cell_type": "markdown",
      "metadata": {
        "id": "ZImTvi2qvX8m"
      },
      "source": [
        "En resumen, la *figura* puede considerarse como un contenedor único que contiene todos los objetos que representan los ejes, gráficos y etiquetas. Por otra parte, el *conjunto de ejes* es un cuadro delimitador con marcas y etiquetas, que eventualmente contendrá los elementos del gráfico que componen nuestra visualización.\n"
      ]
    },
    {
      "cell_type": "markdown",
      "metadata": {
        "id": "G3Z_y7aBvgnl"
      },
      "source": [
        "<p><a name=\"fig\"></a></p>\n",
        "\n",
        "#  **Creando figuras y ejes**\n",
        "\n",
        "Usaremos el submódulo `pyplot` de la librería para realizar nuestros gráficos:\n",
        "\n",
        "\n"
      ]
    },
    {
      "cell_type": "code",
      "execution_count": null,
      "metadata": {
        "id": "eRHOI22yrbbR"
      },
      "outputs": [],
      "source": [
        "import matplotlib.pyplot as plt\n",
        "import numpy as np"
      ]
    },
    {
      "cell_type": "markdown",
      "metadata": {
        "id": "87BuL0LKu6Ib"
      },
      "source": [
        "Existen dos formas en que podemos crear figuras y ejes. La forma más simple se conoce como *interfaz tipo Matlab*, donde la figura y los ejes se crean automáticamente: cuando utilizamos la función `plt.plot` se generan una figura y un conjunto de ejes de forma implícita"
      ]
    },
    {
      "cell_type": "code",
      "execution_count": null,
      "metadata": {
        "colab": {
          "base_uri": "https://localhost:8080/",
          "height": 1000
        },
        "id": "WOEQ4C2Ie1P7",
        "outputId": "7c3c2ffc-4370-4554-e0d8-79a119d83784"
      },
      "outputs": [
        {
          "output_type": "stream",
          "name": "stderr",
          "text": [
            "WARNING:matplotlib.font_manager:findfont: Font family 'xkcd' not found.\n",
            "WARNING:matplotlib.font_manager:findfont: Font family 'xkcd Script' not found.\n",
            "WARNING:matplotlib.font_manager:findfont: Font family 'Comic Neue' not found.\n",
            "WARNING:matplotlib.font_manager:findfont: Font family 'Comic Sans MS' not found.\n",
            "WARNING:matplotlib.font_manager:findfont: Font family 'xkcd' not found.\n",
            "WARNING:matplotlib.font_manager:findfont: Font family 'xkcd Script' not found.\n",
            "WARNING:matplotlib.font_manager:findfont: Font family 'Comic Neue' not found.\n",
            "WARNING:matplotlib.font_manager:findfont: Font family 'Comic Sans MS' not found.\n",
            "WARNING:matplotlib.font_manager:findfont: Font family 'xkcd' not found.\n",
            "WARNING:matplotlib.font_manager:findfont: Font family 'xkcd Script' not found.\n",
            "WARNING:matplotlib.font_manager:findfont: Font family 'Comic Neue' not found.\n",
            "WARNING:matplotlib.font_manager:findfont: Font family 'Comic Sans MS' not found.\n",
            "WARNING:matplotlib.font_manager:findfont: Font family 'xkcd' not found.\n",
            "WARNING:matplotlib.font_manager:findfont: Font family 'xkcd Script' not found.\n",
            "WARNING:matplotlib.font_manager:findfont: Font family 'Comic Neue' not found.\n",
            "WARNING:matplotlib.font_manager:findfont: Font family 'Comic Sans MS' not found.\n",
            "WARNING:matplotlib.font_manager:findfont: Font family 'xkcd' not found.\n",
            "WARNING:matplotlib.font_manager:findfont: Font family 'xkcd Script' not found.\n",
            "WARNING:matplotlib.font_manager:findfont: Font family 'Comic Neue' not found.\n",
            "WARNING:matplotlib.font_manager:findfont: Font family 'Comic Sans MS' not found.\n",
            "WARNING:matplotlib.font_manager:findfont: Font family 'xkcd' not found.\n",
            "WARNING:matplotlib.font_manager:findfont: Font family 'xkcd Script' not found.\n",
            "WARNING:matplotlib.font_manager:findfont: Font family 'Comic Neue' not found.\n",
            "WARNING:matplotlib.font_manager:findfont: Font family 'Comic Sans MS' not found.\n",
            "WARNING:matplotlib.font_manager:findfont: Font family 'xkcd' not found.\n",
            "WARNING:matplotlib.font_manager:findfont: Font family 'xkcd Script' not found.\n",
            "WARNING:matplotlib.font_manager:findfont: Font family 'Comic Neue' not found.\n",
            "WARNING:matplotlib.font_manager:findfont: Font family 'Comic Sans MS' not found.\n",
            "WARNING:matplotlib.font_manager:findfont: Font family 'xkcd' not found.\n",
            "WARNING:matplotlib.font_manager:findfont: Font family 'xkcd Script' not found.\n",
            "WARNING:matplotlib.font_manager:findfont: Font family 'Comic Neue' not found.\n",
            "WARNING:matplotlib.font_manager:findfont: Font family 'Comic Sans MS' not found.\n",
            "WARNING:matplotlib.font_manager:findfont: Font family 'xkcd' not found.\n",
            "WARNING:matplotlib.font_manager:findfont: Font family 'xkcd Script' not found.\n",
            "WARNING:matplotlib.font_manager:findfont: Font family 'Comic Neue' not found.\n",
            "WARNING:matplotlib.font_manager:findfont: Font family 'Comic Sans MS' not found.\n",
            "WARNING:matplotlib.font_manager:findfont: Font family 'xkcd' not found.\n",
            "WARNING:matplotlib.font_manager:findfont: Font family 'xkcd Script' not found.\n",
            "WARNING:matplotlib.font_manager:findfont: Font family 'Comic Neue' not found.\n",
            "WARNING:matplotlib.font_manager:findfont: Font family 'Comic Sans MS' not found.\n",
            "WARNING:matplotlib.font_manager:findfont: Font family 'xkcd' not found.\n",
            "WARNING:matplotlib.font_manager:findfont: Font family 'xkcd Script' not found.\n",
            "WARNING:matplotlib.font_manager:findfont: Font family 'Comic Neue' not found.\n",
            "WARNING:matplotlib.font_manager:findfont: Font family 'Comic Sans MS' not found.\n",
            "WARNING:matplotlib.font_manager:findfont: Font family 'xkcd' not found.\n",
            "WARNING:matplotlib.font_manager:findfont: Font family 'xkcd Script' not found.\n",
            "WARNING:matplotlib.font_manager:findfont: Font family 'Comic Neue' not found.\n",
            "WARNING:matplotlib.font_manager:findfont: Font family 'Comic Sans MS' not found.\n",
            "WARNING:matplotlib.font_manager:findfont: Font family 'xkcd' not found.\n",
            "WARNING:matplotlib.font_manager:findfont: Font family 'xkcd Script' not found.\n",
            "WARNING:matplotlib.font_manager:findfont: Font family 'Comic Neue' not found.\n",
            "WARNING:matplotlib.font_manager:findfont: Font family 'Comic Sans MS' not found.\n",
            "WARNING:matplotlib.font_manager:findfont: Font family 'xkcd' not found.\n",
            "WARNING:matplotlib.font_manager:findfont: Font family 'xkcd Script' not found.\n",
            "WARNING:matplotlib.font_manager:findfont: Font family 'Comic Neue' not found.\n",
            "WARNING:matplotlib.font_manager:findfont: Font family 'Comic Sans MS' not found.\n",
            "WARNING:matplotlib.font_manager:findfont: Font family 'xkcd' not found.\n",
            "WARNING:matplotlib.font_manager:findfont: Font family 'xkcd Script' not found.\n",
            "WARNING:matplotlib.font_manager:findfont: Font family 'Comic Neue' not found.\n",
            "WARNING:matplotlib.font_manager:findfont: Font family 'Comic Sans MS' not found.\n",
            "WARNING:matplotlib.font_manager:findfont: Font family 'xkcd' not found.\n",
            "WARNING:matplotlib.font_manager:findfont: Font family 'xkcd Script' not found.\n",
            "WARNING:matplotlib.font_manager:findfont: Font family 'Comic Neue' not found.\n",
            "WARNING:matplotlib.font_manager:findfont: Font family 'Comic Sans MS' not found.\n",
            "WARNING:matplotlib.font_manager:findfont: Font family 'xkcd' not found.\n",
            "WARNING:matplotlib.font_manager:findfont: Font family 'xkcd Script' not found.\n",
            "WARNING:matplotlib.font_manager:findfont: Font family 'Comic Neue' not found.\n",
            "WARNING:matplotlib.font_manager:findfont: Font family 'Comic Sans MS' not found.\n",
            "WARNING:matplotlib.font_manager:findfont: Font family 'xkcd' not found.\n",
            "WARNING:matplotlib.font_manager:findfont: Font family 'xkcd Script' not found.\n",
            "WARNING:matplotlib.font_manager:findfont: Font family 'Comic Neue' not found.\n",
            "WARNING:matplotlib.font_manager:findfont: Font family 'Comic Sans MS' not found.\n",
            "WARNING:matplotlib.font_manager:findfont: Font family 'xkcd' not found.\n",
            "WARNING:matplotlib.font_manager:findfont: Font family 'xkcd Script' not found.\n",
            "WARNING:matplotlib.font_manager:findfont: Font family 'Comic Neue' not found.\n",
            "WARNING:matplotlib.font_manager:findfont: Font family 'Comic Sans MS' not found.\n",
            "WARNING:matplotlib.font_manager:findfont: Font family 'xkcd' not found.\n",
            "WARNING:matplotlib.font_manager:findfont: Font family 'xkcd Script' not found.\n",
            "WARNING:matplotlib.font_manager:findfont: Font family 'Comic Neue' not found.\n",
            "WARNING:matplotlib.font_manager:findfont: Font family 'Comic Sans MS' not found.\n",
            "WARNING:matplotlib.font_manager:findfont: Font family 'xkcd' not found.\n",
            "WARNING:matplotlib.font_manager:findfont: Font family 'xkcd Script' not found.\n",
            "WARNING:matplotlib.font_manager:findfont: Font family 'Comic Neue' not found.\n",
            "WARNING:matplotlib.font_manager:findfont: Font family 'Comic Sans MS' not found.\n",
            "WARNING:matplotlib.font_manager:findfont: Font family 'xkcd' not found.\n",
            "WARNING:matplotlib.font_manager:findfont: Font family 'xkcd Script' not found.\n",
            "WARNING:matplotlib.font_manager:findfont: Font family 'Comic Neue' not found.\n",
            "WARNING:matplotlib.font_manager:findfont: Font family 'Comic Sans MS' not found.\n",
            "WARNING:matplotlib.font_manager:findfont: Font family 'xkcd' not found.\n",
            "WARNING:matplotlib.font_manager:findfont: Font family 'xkcd Script' not found.\n",
            "WARNING:matplotlib.font_manager:findfont: Font family 'Comic Neue' not found.\n",
            "WARNING:matplotlib.font_manager:findfont: Font family 'Comic Sans MS' not found.\n",
            "WARNING:matplotlib.font_manager:findfont: Font family 'xkcd' not found.\n",
            "WARNING:matplotlib.font_manager:findfont: Font family 'xkcd Script' not found.\n",
            "WARNING:matplotlib.font_manager:findfont: Font family 'Comic Neue' not found.\n",
            "WARNING:matplotlib.font_manager:findfont: Font family 'Comic Sans MS' not found.\n",
            "WARNING:matplotlib.font_manager:findfont: Font family 'xkcd' not found.\n",
            "WARNING:matplotlib.font_manager:findfont: Font family 'xkcd Script' not found.\n",
            "WARNING:matplotlib.font_manager:findfont: Font family 'Comic Neue' not found.\n",
            "WARNING:matplotlib.font_manager:findfont: Font family 'Comic Sans MS' not found.\n",
            "WARNING:matplotlib.font_manager:findfont: Font family 'xkcd' not found.\n",
            "WARNING:matplotlib.font_manager:findfont: Font family 'xkcd Script' not found.\n",
            "WARNING:matplotlib.font_manager:findfont: Font family 'Comic Neue' not found.\n",
            "WARNING:matplotlib.font_manager:findfont: Font family 'Comic Sans MS' not found.\n",
            "WARNING:matplotlib.font_manager:findfont: Font family 'xkcd' not found.\n",
            "WARNING:matplotlib.font_manager:findfont: Font family 'xkcd Script' not found.\n",
            "WARNING:matplotlib.font_manager:findfont: Font family 'Comic Neue' not found.\n",
            "WARNING:matplotlib.font_manager:findfont: Font family 'Comic Sans MS' not found.\n",
            "WARNING:matplotlib.font_manager:findfont: Font family 'xkcd' not found.\n",
            "WARNING:matplotlib.font_manager:findfont: Font family 'xkcd Script' not found.\n",
            "WARNING:matplotlib.font_manager:findfont: Font family 'Comic Neue' not found.\n",
            "WARNING:matplotlib.font_manager:findfont: Font family 'Comic Sans MS' not found.\n",
            "WARNING:matplotlib.font_manager:findfont: Font family 'xkcd' not found.\n",
            "WARNING:matplotlib.font_manager:findfont: Font family 'xkcd Script' not found.\n",
            "WARNING:matplotlib.font_manager:findfont: Font family 'Comic Neue' not found.\n",
            "WARNING:matplotlib.font_manager:findfont: Font family 'Comic Sans MS' not found.\n",
            "WARNING:matplotlib.font_manager:findfont: Font family 'xkcd' not found.\n",
            "WARNING:matplotlib.font_manager:findfont: Font family 'xkcd Script' not found.\n",
            "WARNING:matplotlib.font_manager:findfont: Font family 'Comic Neue' not found.\n",
            "WARNING:matplotlib.font_manager:findfont: Font family 'Comic Sans MS' not found.\n",
            "WARNING:matplotlib.font_manager:findfont: Font family 'xkcd' not found.\n",
            "WARNING:matplotlib.font_manager:findfont: Font family 'xkcd Script' not found.\n",
            "WARNING:matplotlib.font_manager:findfont: Font family 'Comic Neue' not found.\n",
            "WARNING:matplotlib.font_manager:findfont: Font family 'Comic Sans MS' not found.\n",
            "WARNING:matplotlib.font_manager:findfont: Font family 'xkcd' not found.\n",
            "WARNING:matplotlib.font_manager:findfont: Font family 'xkcd Script' not found.\n",
            "WARNING:matplotlib.font_manager:findfont: Font family 'Comic Neue' not found.\n",
            "WARNING:matplotlib.font_manager:findfont: Font family 'Comic Sans MS' not found.\n",
            "WARNING:matplotlib.font_manager:findfont: Font family 'xkcd' not found.\n",
            "WARNING:matplotlib.font_manager:findfont: Font family 'xkcd Script' not found.\n",
            "WARNING:matplotlib.font_manager:findfont: Font family 'Comic Neue' not found.\n",
            "WARNING:matplotlib.font_manager:findfont: Font family 'Comic Sans MS' not found.\n",
            "WARNING:matplotlib.font_manager:findfont: Font family 'xkcd' not found.\n",
            "WARNING:matplotlib.font_manager:findfont: Font family 'xkcd Script' not found.\n",
            "WARNING:matplotlib.font_manager:findfont: Font family 'Comic Neue' not found.\n",
            "WARNING:matplotlib.font_manager:findfont: Font family 'Comic Sans MS' not found.\n",
            "WARNING:matplotlib.font_manager:findfont: Font family 'xkcd' not found.\n",
            "WARNING:matplotlib.font_manager:findfont: Font family 'xkcd Script' not found.\n",
            "WARNING:matplotlib.font_manager:findfont: Font family 'Comic Neue' not found.\n",
            "WARNING:matplotlib.font_manager:findfont: Font family 'Comic Sans MS' not found.\n",
            "WARNING:matplotlib.font_manager:findfont: Font family 'xkcd' not found.\n",
            "WARNING:matplotlib.font_manager:findfont: Font family 'xkcd Script' not found.\n",
            "WARNING:matplotlib.font_manager:findfont: Font family 'Comic Neue' not found.\n",
            "WARNING:matplotlib.font_manager:findfont: Font family 'Comic Sans MS' not found.\n",
            "WARNING:matplotlib.font_manager:findfont: Font family 'xkcd' not found.\n",
            "WARNING:matplotlib.font_manager:findfont: Font family 'xkcd Script' not found.\n",
            "WARNING:matplotlib.font_manager:findfont: Font family 'Comic Neue' not found.\n",
            "WARNING:matplotlib.font_manager:findfont: Font family 'Comic Sans MS' not found.\n",
            "WARNING:matplotlib.font_manager:findfont: Font family 'xkcd' not found.\n",
            "WARNING:matplotlib.font_manager:findfont: Font family 'xkcd Script' not found.\n",
            "WARNING:matplotlib.font_manager:findfont: Font family 'Comic Neue' not found.\n",
            "WARNING:matplotlib.font_manager:findfont: Font family 'Comic Sans MS' not found.\n",
            "WARNING:matplotlib.font_manager:findfont: Font family 'xkcd' not found.\n",
            "WARNING:matplotlib.font_manager:findfont: Font family 'xkcd Script' not found.\n",
            "WARNING:matplotlib.font_manager:findfont: Font family 'Comic Neue' not found.\n",
            "WARNING:matplotlib.font_manager:findfont: Font family 'Comic Sans MS' not found.\n",
            "WARNING:matplotlib.font_manager:findfont: Font family 'xkcd' not found.\n",
            "WARNING:matplotlib.font_manager:findfont: Font family 'xkcd Script' not found.\n",
            "WARNING:matplotlib.font_manager:findfont: Font family 'Comic Neue' not found.\n",
            "WARNING:matplotlib.font_manager:findfont: Font family 'Comic Sans MS' not found.\n",
            "WARNING:matplotlib.font_manager:findfont: Font family 'xkcd' not found.\n",
            "WARNING:matplotlib.font_manager:findfont: Font family 'xkcd Script' not found.\n",
            "WARNING:matplotlib.font_manager:findfont: Font family 'Comic Neue' not found.\n",
            "WARNING:matplotlib.font_manager:findfont: Font family 'Comic Sans MS' not found.\n",
            "WARNING:matplotlib.font_manager:findfont: Font family 'xkcd' not found.\n",
            "WARNING:matplotlib.font_manager:findfont: Font family 'xkcd Script' not found.\n",
            "WARNING:matplotlib.font_manager:findfont: Font family 'Comic Neue' not found.\n",
            "WARNING:matplotlib.font_manager:findfont: Font family 'Comic Sans MS' not found.\n",
            "WARNING:matplotlib.font_manager:findfont: Font family 'xkcd' not found.\n",
            "WARNING:matplotlib.font_manager:findfont: Font family 'xkcd Script' not found.\n",
            "WARNING:matplotlib.font_manager:findfont: Font family 'Comic Neue' not found.\n",
            "WARNING:matplotlib.font_manager:findfont: Font family 'Comic Sans MS' not found.\n",
            "WARNING:matplotlib.font_manager:findfont: Font family 'xkcd' not found.\n",
            "WARNING:matplotlib.font_manager:findfont: Font family 'xkcd Script' not found.\n",
            "WARNING:matplotlib.font_manager:findfont: Font family 'Comic Neue' not found.\n",
            "WARNING:matplotlib.font_manager:findfont: Font family 'Comic Sans MS' not found.\n",
            "WARNING:matplotlib.font_manager:findfont: Font family 'xkcd' not found.\n",
            "WARNING:matplotlib.font_manager:findfont: Font family 'xkcd Script' not found.\n",
            "WARNING:matplotlib.font_manager:findfont: Font family 'Comic Neue' not found.\n",
            "WARNING:matplotlib.font_manager:findfont: Font family 'Comic Sans MS' not found.\n",
            "WARNING:matplotlib.font_manager:findfont: Font family 'xkcd' not found.\n",
            "WARNING:matplotlib.font_manager:findfont: Font family 'xkcd Script' not found.\n",
            "WARNING:matplotlib.font_manager:findfont: Font family 'Comic Neue' not found.\n",
            "WARNING:matplotlib.font_manager:findfont: Font family 'Comic Sans MS' not found.\n",
            "WARNING:matplotlib.font_manager:findfont: Font family 'xkcd' not found.\n",
            "WARNING:matplotlib.font_manager:findfont: Font family 'xkcd Script' not found.\n",
            "WARNING:matplotlib.font_manager:findfont: Font family 'Comic Neue' not found.\n",
            "WARNING:matplotlib.font_manager:findfont: Font family 'Comic Sans MS' not found.\n",
            "WARNING:matplotlib.font_manager:findfont: Font family 'xkcd' not found.\n",
            "WARNING:matplotlib.font_manager:findfont: Font family 'xkcd Script' not found.\n",
            "WARNING:matplotlib.font_manager:findfont: Font family 'Comic Neue' not found.\n",
            "WARNING:matplotlib.font_manager:findfont: Font family 'Comic Sans MS' not found.\n",
            "WARNING:matplotlib.font_manager:findfont: Font family 'xkcd' not found.\n",
            "WARNING:matplotlib.font_manager:findfont: Font family 'xkcd Script' not found.\n",
            "WARNING:matplotlib.font_manager:findfont: Font family 'Comic Neue' not found.\n",
            "WARNING:matplotlib.font_manager:findfont: Font family 'Comic Sans MS' not found.\n",
            "WARNING:matplotlib.font_manager:findfont: Font family 'xkcd' not found.\n",
            "WARNING:matplotlib.font_manager:findfont: Font family 'xkcd Script' not found.\n",
            "WARNING:matplotlib.font_manager:findfont: Font family 'Comic Neue' not found.\n",
            "WARNING:matplotlib.font_manager:findfont: Font family 'Comic Sans MS' not found.\n",
            "WARNING:matplotlib.font_manager:findfont: Font family 'xkcd' not found.\n",
            "WARNING:matplotlib.font_manager:findfont: Font family 'xkcd Script' not found.\n",
            "WARNING:matplotlib.font_manager:findfont: Font family 'Comic Neue' not found.\n",
            "WARNING:matplotlib.font_manager:findfont: Font family 'Comic Sans MS' not found.\n",
            "WARNING:matplotlib.font_manager:findfont: Font family 'xkcd' not found.\n",
            "WARNING:matplotlib.font_manager:findfont: Font family 'xkcd Script' not found.\n",
            "WARNING:matplotlib.font_manager:findfont: Font family 'Comic Neue' not found.\n",
            "WARNING:matplotlib.font_manager:findfont: Font family 'Comic Sans MS' not found.\n",
            "WARNING:matplotlib.font_manager:findfont: Font family 'xkcd' not found.\n",
            "WARNING:matplotlib.font_manager:findfont: Font family 'xkcd Script' not found.\n",
            "WARNING:matplotlib.font_manager:findfont: Font family 'Comic Neue' not found.\n",
            "WARNING:matplotlib.font_manager:findfont: Font family 'Comic Sans MS' not found.\n",
            "WARNING:matplotlib.font_manager:findfont: Font family 'xkcd' not found.\n",
            "WARNING:matplotlib.font_manager:findfont: Font family 'xkcd Script' not found.\n",
            "WARNING:matplotlib.font_manager:findfont: Font family 'Comic Neue' not found.\n",
            "WARNING:matplotlib.font_manager:findfont: Font family 'Comic Sans MS' not found.\n",
            "WARNING:matplotlib.font_manager:findfont: Font family 'xkcd' not found.\n",
            "WARNING:matplotlib.font_manager:findfont: Font family 'xkcd Script' not found.\n",
            "WARNING:matplotlib.font_manager:findfont: Font family 'Comic Neue' not found.\n",
            "WARNING:matplotlib.font_manager:findfont: Font family 'Comic Sans MS' not found.\n",
            "WARNING:matplotlib.font_manager:findfont: Font family 'xkcd' not found.\n",
            "WARNING:matplotlib.font_manager:findfont: Font family 'xkcd Script' not found.\n",
            "WARNING:matplotlib.font_manager:findfont: Font family 'Comic Neue' not found.\n",
            "WARNING:matplotlib.font_manager:findfont: Font family 'Comic Sans MS' not found.\n",
            "WARNING:matplotlib.font_manager:findfont: Font family 'xkcd' not found.\n",
            "WARNING:matplotlib.font_manager:findfont: Font family 'xkcd Script' not found.\n",
            "WARNING:matplotlib.font_manager:findfont: Font family 'Comic Neue' not found.\n",
            "WARNING:matplotlib.font_manager:findfont: Font family 'Comic Sans MS' not found.\n",
            "WARNING:matplotlib.font_manager:findfont: Font family 'xkcd' not found.\n",
            "WARNING:matplotlib.font_manager:findfont: Font family 'xkcd Script' not found.\n",
            "WARNING:matplotlib.font_manager:findfont: Font family 'Comic Neue' not found.\n",
            "WARNING:matplotlib.font_manager:findfont: Font family 'Comic Sans MS' not found.\n",
            "WARNING:matplotlib.font_manager:findfont: Font family 'xkcd' not found.\n",
            "WARNING:matplotlib.font_manager:findfont: Font family 'xkcd Script' not found.\n",
            "WARNING:matplotlib.font_manager:findfont: Font family 'Comic Neue' not found.\n",
            "WARNING:matplotlib.font_manager:findfont: Font family 'Comic Sans MS' not found.\n",
            "WARNING:matplotlib.font_manager:findfont: Font family 'xkcd' not found.\n",
            "WARNING:matplotlib.font_manager:findfont: Font family 'xkcd Script' not found.\n",
            "WARNING:matplotlib.font_manager:findfont: Font family 'Comic Neue' not found.\n",
            "WARNING:matplotlib.font_manager:findfont: Font family 'Comic Sans MS' not found.\n",
            "WARNING:matplotlib.font_manager:findfont: Font family 'xkcd' not found.\n",
            "WARNING:matplotlib.font_manager:findfont: Font family 'xkcd Script' not found.\n",
            "WARNING:matplotlib.font_manager:findfont: Font family 'Comic Neue' not found.\n",
            "WARNING:matplotlib.font_manager:findfont: Font family 'Comic Sans MS' not found.\n",
            "WARNING:matplotlib.font_manager:findfont: Font family 'xkcd' not found.\n",
            "WARNING:matplotlib.font_manager:findfont: Font family 'xkcd Script' not found.\n",
            "WARNING:matplotlib.font_manager:findfont: Font family 'Comic Neue' not found.\n",
            "WARNING:matplotlib.font_manager:findfont: Font family 'Comic Sans MS' not found.\n",
            "WARNING:matplotlib.font_manager:findfont: Font family 'xkcd' not found.\n",
            "WARNING:matplotlib.font_manager:findfont: Font family 'xkcd Script' not found.\n",
            "WARNING:matplotlib.font_manager:findfont: Font family 'Comic Neue' not found.\n",
            "WARNING:matplotlib.font_manager:findfont: Font family 'Comic Sans MS' not found.\n",
            "WARNING:matplotlib.font_manager:findfont: Font family 'xkcd' not found.\n",
            "WARNING:matplotlib.font_manager:findfont: Font family 'xkcd Script' not found.\n",
            "WARNING:matplotlib.font_manager:findfont: Font family 'Comic Neue' not found.\n",
            "WARNING:matplotlib.font_manager:findfont: Font family 'Comic Sans MS' not found.\n",
            "WARNING:matplotlib.font_manager:findfont: Font family 'xkcd' not found.\n",
            "WARNING:matplotlib.font_manager:findfont: Font family 'xkcd Script' not found.\n",
            "WARNING:matplotlib.font_manager:findfont: Font family 'Comic Neue' not found.\n",
            "WARNING:matplotlib.font_manager:findfont: Font family 'Comic Sans MS' not found.\n",
            "WARNING:matplotlib.font_manager:findfont: Font family 'xkcd' not found.\n",
            "WARNING:matplotlib.font_manager:findfont: Font family 'xkcd Script' not found.\n",
            "WARNING:matplotlib.font_manager:findfont: Font family 'Comic Neue' not found.\n",
            "WARNING:matplotlib.font_manager:findfont: Font family 'Comic Sans MS' not found.\n",
            "WARNING:matplotlib.font_manager:findfont: Font family 'xkcd' not found.\n",
            "WARNING:matplotlib.font_manager:findfont: Font family 'xkcd Script' not found.\n",
            "WARNING:matplotlib.font_manager:findfont: Font family 'Comic Neue' not found.\n",
            "WARNING:matplotlib.font_manager:findfont: Font family 'Comic Sans MS' not found.\n",
            "WARNING:matplotlib.font_manager:findfont: Font family 'xkcd' not found.\n",
            "WARNING:matplotlib.font_manager:findfont: Font family 'xkcd Script' not found.\n",
            "WARNING:matplotlib.font_manager:findfont: Font family 'Comic Neue' not found.\n",
            "WARNING:matplotlib.font_manager:findfont: Font family 'Comic Sans MS' not found.\n",
            "WARNING:matplotlib.font_manager:findfont: Font family 'xkcd' not found.\n",
            "WARNING:matplotlib.font_manager:findfont: Font family 'xkcd Script' not found.\n",
            "WARNING:matplotlib.font_manager:findfont: Font family 'Comic Neue' not found.\n",
            "WARNING:matplotlib.font_manager:findfont: Font family 'Comic Sans MS' not found.\n",
            "WARNING:matplotlib.font_manager:findfont: Font family 'xkcd' not found.\n",
            "WARNING:matplotlib.font_manager:findfont: Font family 'xkcd Script' not found.\n",
            "WARNING:matplotlib.font_manager:findfont: Font family 'Comic Neue' not found.\n",
            "WARNING:matplotlib.font_manager:findfont: Font family 'Comic Sans MS' not found.\n",
            "WARNING:matplotlib.font_manager:findfont: Font family 'xkcd' not found.\n",
            "WARNING:matplotlib.font_manager:findfont: Font family 'xkcd Script' not found.\n",
            "WARNING:matplotlib.font_manager:findfont: Font family 'Comic Neue' not found.\n",
            "WARNING:matplotlib.font_manager:findfont: Font family 'Comic Sans MS' not found.\n",
            "WARNING:matplotlib.font_manager:findfont: Font family 'xkcd' not found.\n",
            "WARNING:matplotlib.font_manager:findfont: Font family 'xkcd Script' not found.\n",
            "WARNING:matplotlib.font_manager:findfont: Font family 'Comic Neue' not found.\n",
            "WARNING:matplotlib.font_manager:findfont: Font family 'Comic Sans MS' not found.\n",
            "WARNING:matplotlib.font_manager:findfont: Font family 'xkcd' not found.\n",
            "WARNING:matplotlib.font_manager:findfont: Font family 'xkcd Script' not found.\n",
            "WARNING:matplotlib.font_manager:findfont: Font family 'Comic Neue' not found.\n",
            "WARNING:matplotlib.font_manager:findfont: Font family 'Comic Sans MS' not found.\n",
            "WARNING:matplotlib.font_manager:findfont: Font family 'xkcd' not found.\n",
            "WARNING:matplotlib.font_manager:findfont: Font family 'xkcd Script' not found.\n",
            "WARNING:matplotlib.font_manager:findfont: Font family 'Comic Neue' not found.\n",
            "WARNING:matplotlib.font_manager:findfont: Font family 'Comic Sans MS' not found.\n",
            "WARNING:matplotlib.font_manager:findfont: Font family 'xkcd' not found.\n",
            "WARNING:matplotlib.font_manager:findfont: Font family 'xkcd Script' not found.\n",
            "WARNING:matplotlib.font_manager:findfont: Font family 'Comic Neue' not found.\n",
            "WARNING:matplotlib.font_manager:findfont: Font family 'Comic Sans MS' not found.\n",
            "WARNING:matplotlib.font_manager:findfont: Font family 'xkcd' not found.\n",
            "WARNING:matplotlib.font_manager:findfont: Font family 'xkcd Script' not found.\n",
            "WARNING:matplotlib.font_manager:findfont: Font family 'Comic Neue' not found.\n",
            "WARNING:matplotlib.font_manager:findfont: Font family 'Comic Sans MS' not found.\n",
            "WARNING:matplotlib.font_manager:findfont: Font family 'xkcd' not found.\n",
            "WARNING:matplotlib.font_manager:findfont: Font family 'xkcd Script' not found.\n",
            "WARNING:matplotlib.font_manager:findfont: Font family 'Comic Neue' not found.\n",
            "WARNING:matplotlib.font_manager:findfont: Font family 'Comic Sans MS' not found.\n",
            "WARNING:matplotlib.font_manager:findfont: Font family 'xkcd' not found.\n",
            "WARNING:matplotlib.font_manager:findfont: Font family 'xkcd Script' not found.\n",
            "WARNING:matplotlib.font_manager:findfont: Font family 'Comic Neue' not found.\n",
            "WARNING:matplotlib.font_manager:findfont: Font family 'Comic Sans MS' not found.\n",
            "WARNING:matplotlib.font_manager:findfont: Font family 'xkcd' not found.\n",
            "WARNING:matplotlib.font_manager:findfont: Font family 'xkcd Script' not found.\n",
            "WARNING:matplotlib.font_manager:findfont: Font family 'Comic Neue' not found.\n",
            "WARNING:matplotlib.font_manager:findfont: Font family 'Comic Sans MS' not found.\n",
            "WARNING:matplotlib.font_manager:findfont: Font family 'xkcd' not found.\n",
            "WARNING:matplotlib.font_manager:findfont: Font family 'xkcd Script' not found.\n",
            "WARNING:matplotlib.font_manager:findfont: Font family 'Comic Neue' not found.\n",
            "WARNING:matplotlib.font_manager:findfont: Font family 'Comic Sans MS' not found.\n",
            "WARNING:matplotlib.font_manager:findfont: Font family 'xkcd' not found.\n",
            "WARNING:matplotlib.font_manager:findfont: Font family 'xkcd Script' not found.\n",
            "WARNING:matplotlib.font_manager:findfont: Font family 'Comic Neue' not found.\n",
            "WARNING:matplotlib.font_manager:findfont: Font family 'Comic Sans MS' not found.\n",
            "WARNING:matplotlib.font_manager:findfont: Font family 'xkcd' not found.\n",
            "WARNING:matplotlib.font_manager:findfont: Font family 'xkcd Script' not found.\n",
            "WARNING:matplotlib.font_manager:findfont: Font family 'Comic Neue' not found.\n",
            "WARNING:matplotlib.font_manager:findfont: Font family 'Comic Sans MS' not found.\n"
          ]
        },
        {
          "output_type": "display_data",
          "data": {
            "text/plain": [
              "<Figure size 640x480 with 1 Axes>"
            ],
            "image/png": "[encoded data removed]"
          },
          "metadata": {}
        }
      ],
      "source": [
        "x = np.linspace(-2 * np.pi, 2 * np.pi, 100)\n",
        "plt.xkcd()\n",
        "plt.plot(x, np.sin(x));"
      ]
    },
    {
      "cell_type": "markdown",
      "metadata": {
        "id": "CEayzY8Aw6GS"
      },
      "source": [
        "La segunda forma utiliza un estilo de programación orientado a objetos: referenciamos la figura y los ejes mediante las variables `fig` y `ax` respectivamente, y serán métodos y atributos de estas variables los que nos permitan personalizar la visualización.\n",
        "\n",
        "Una primera opción para crear la figura y los ejes es utilizar las funciones `plt.figure` y `plt.axes`, que nos devuelven una referencia de la figura y conjunto de ejes utilizados."
      ]
    },
    {
      "cell_type": "code",
      "execution_count": null,
      "metadata": {
        "id": "QxsLSJDfwzgc"
      },
      "outputs": [],
      "source": [
        "# se crean la figura y los ejes\n",
        "fig = plt.figure()\n",
        "ax = plt.axes();"
      ]
    },
    {
      "cell_type": "markdown",
      "metadata": {
        "id": "2INvpY5AxIEQ"
      },
      "source": [
        "Una vez tenemos la referencia al conjunto de ejes `ax` podemos crear una gráfica ejecutando el método `plot` sobre `ax`:"
      ]
    },
    {
      "cell_type": "code",
      "execution_count": null,
      "metadata": {
        "id": "YSPIyQvQxFzO"
      },
      "outputs": [],
      "source": [
        "# se crean la figura y los ejes\n",
        "fig = plt.figure()\n",
        "ax = plt.axes()\n",
        "\n",
        "y = np.sin(x)\n",
        "\n",
        "ax.plot(x, y);"
      ]
    },
    {
      "cell_type": "code",
      "execution_count": null,
      "metadata": {
        "id": "hBGlP3AN9qmc"
      },
      "outputs": [],
      "source": [
        "fig"
      ]
    },
    {
      "cell_type": "markdown",
      "metadata": {
        "id": "kHeI9NijxN5f"
      },
      "source": [
        "Podemos utilizar alternativamente la función `subplots` para crear la figura y el conjunto de ejes:"
      ]
    },
    {
      "cell_type": "code",
      "execution_count": null,
      "metadata": {
        "id": "Q8_eWztKxJvP"
      },
      "outputs": [],
      "source": [
        "# se crean la figura y los ejes\n",
        "fig , axs = plt.subplots()\n",
        "\n",
        "y = np.sin(x)\n",
        "\n",
        "axs.plot(x, y);"
      ]
    },
    {
      "cell_type": "markdown",
      "metadata": {
        "id": "gr93WshfxVe3"
      },
      "source": [
        "<p><a name=\"per\"></a></p>\n",
        "\n",
        "# **Personalización básica del gráfico**\n",
        "\n",
        "* **Estilo MATLAB**\n",
        "\n",
        "La función `plt.plot` realiza por defecto un gráfico de línea. Podemos personalizar el color, el estilo y el marcador de la línea mediante los argumentos por palabra clave `color`, `linestyle` y `marker`, respectivamente. E\n"
      ]
    },
    {
      "cell_type": "code",
      "execution_count": null,
      "metadata": {
        "id": "THaLh9NwxPi2"
      },
      "outputs": [],
      "source": [
        "x = np.linspace(-2 * np.pi, 2 * np.pi, 20)\n",
        "plt.plot(x, np.sin(x), color = 'green', linestyle = 'dashed', marker = 'o');"
      ]
    },
    {
      "cell_type": "markdown",
      "metadata": {
        "id": "57Id29Fix7Kl"
      },
      "source": [
        "En el caso del color, podemos pasar este de forma completa o abreviada:\n",
        "\n",
        ">\n",
        "    COM       ABR\n",
        "    blue ---- b\n",
        "    green --- g\n",
        "    red ----- r\n",
        "    cyan ---- c\n",
        "    magenta - m\n",
        "    yellow -- y  \n",
        "    black --- k\n",
        "    white --- w\n",
        "\n",
        "De forma similar, podemos pasar el estilo de la línea de forma completa o abreviada:\n",
        ">\n",
        "    COM        ABR      DESCRIPCIÓN\n",
        "    solid ---- \"-\" ---- línea sólida\n",
        "    dashed --- \"--\" --- línea discontinua\n",
        "    dashdot -- \"-.\" --- línea discontinua+punto\n",
        "    dotted --- \":\" ---- línea punteada  \n",
        "\n",
        "Y finalmente, para el marcador, algunas opciones son:\n",
        ">   \n",
        "\n",
        "    \"o\" ------ círculo\n",
        "    \"^\" ------ triángulo\n",
        "    \"p\" ------ pentágono\n",
        "    \"h\" ------ hexágono\n",
        "    \"s\" ------ cuadrado\n",
        "    \"|\" ------ línea vertical\n",
        "    \"_\" ------ línea horizontal\n",
        "    \"+\" ------ más\n",
        "    \"x\" ------ equis\n",
        "\n"
      ]
    },
    {
      "cell_type": "markdown",
      "metadata": {
        "id": "uLxLj8ZGyXzt"
      },
      "source": [
        "Podemos reducir estos tres argumentos a un solo `string` donde se indique (sin importar el orden) los tres caracteres correspondientes a los argumentos. Por ejemplo, con el string `\"go:\"`, se generará una línea de color verde, discontinua y con marcadores circulares:"
      ]
    },
    {
      "cell_type": "code",
      "execution_count": null,
      "metadata": {
        "id": "nPe-zlOyyZyF"
      },
      "outputs": [],
      "source": [
        "x = np.linspace(-2 * np.pi, 2 * np.pi, 100)\n",
        "y = np.sin(x)\n",
        "plt.plot(x, y, 'go--');"
      ]
    },
    {
      "cell_type": "markdown",
      "metadata": {
        "id": "2XFi5oAFyiF6"
      },
      "source": [
        "Podemos agregar al gráfico un título y etiquetas para los ejes $x$ y $y$, con los métodos `plt.title`, `plt.xlabel` y `plt.ylabel`, respectivamente:"
      ]
    },
    {
      "cell_type": "code",
      "execution_count": null,
      "metadata": {
        "id": "S6D06nKfyfGM"
      },
      "outputs": [],
      "source": [
        "# interfaz MATLAB\n",
        "x = np.linspace(-2 * np.pi, 2 * np.pi, 100)\n",
        "y = np.sin(x)\n",
        "plt.plot(x, y, 'go--')\n",
        "\n",
        "plt.title('Gráfica Trigonométrica')\n",
        "plt.xlabel(r'$x$')\n",
        "plt.ylabel('$\\sin(x)$');"
      ]
    },
    {
      "cell_type": "markdown",
      "metadata": {
        "id": "3LSZhKuxy87E"
      },
      "source": [
        "Ahora, para definir los límites de los ejes tenemos dos opciones. La primera es utilizando los métodos `plt.xlim` y `plt.ylim`. Alternativamente, el método `plt.axis`, con el cual podemos especificar los límites de los ejes pasando una lista que contiene como elementos los límites de la siguiente manera:\n",
        ">\n",
        "    plt.axis([xmin, xmax, ymin, ymax])"
      ]
    },
    {
      "cell_type": "code",
      "execution_count": null,
      "metadata": {
        "id": "L9xcyW-iyoFp"
      },
      "outputs": [],
      "source": [
        "# interfaz MATLAB\n",
        "x = np.linspace(-2 * np.pi, 2 * np.pi, 100)\n",
        "y = np.sin(x)\n",
        "plt.plot(x, y, 'go--')\n",
        "\n",
        "plt.title('Gráfica Trigonométrica')\n",
        "plt.xlabel(r'$x$')\n",
        "plt.ylabel('$\\sin(x)$')\n",
        "plt.axis([-2 * np.pi-0.1, 2 * np.pi + 0.1, -1.01, 1.01]);"
      ]
    },
    {
      "cell_type": "markdown",
      "metadata": {
        "id": "6avtg1GbzZ-h"
      },
      "source": [
        "Con las palabras clave `tight` y `equal`, podemos definir los ejes de manera \"ajustada\" en el primer caso, y ejes iguales en el segundo caso:"
      ]
    },
    {
      "cell_type": "code",
      "execution_count": null,
      "metadata": {
        "id": "MlDzKtp8zW61"
      },
      "outputs": [],
      "source": [
        "# interfaz MATLAB\n",
        "x = np.linspace(-2 * np.pi, 2 * np.pi, 100)\n",
        "y = np.sin(x)\n",
        "plt.plot(x, y, 'go--')\n",
        "\n",
        "plt.title('Gráfica Trigonométrica')\n",
        "plt.xlabel(r'$x$')\n",
        "plt.ylabel('$\\sin(x)$')\n",
        "plt.xticks(np.arange(-7,8))\n",
        "plt.axis('equal');"
      ]
    },
    {
      "cell_type": "markdown",
      "metadata": {
        "id": "xqMh50mezp1A"
      },
      "source": [
        "Para agregar una leyenda de la función, podemos pasar una lista con la(s) leyenda(s) a la función `plt.legend`, o utilizando el argumento por palabra clave ``label`` dentro de la función ``plt.plot()``"
      ]
    },
    {
      "cell_type": "code",
      "execution_count": null,
      "metadata": {
        "id": "cfNQFxbiziGW"
      },
      "outputs": [],
      "source": [
        "# interfaz MATLAB\n",
        "x = np.linspace(-2 * np.pi, 2 * np.pi, 100)\n",
        "y1 = np.sin(x)\n",
        "y2 = np.cos(x)\n",
        "plt.plot(x, y1, 'go--', label = '$\\sin(x)$')\n",
        "plt.plot(x, y2, 'b^:', label = '$\\cos(x)$')\n",
        "\n",
        "plt.title('Gráfica Trigonométrica')\n",
        "plt.xlabel(r'$x$')\n",
        "plt.ylabel('$f(x)$')\n",
        "plt.legend();"
      ]
    },
    {
      "cell_type": "code",
      "execution_count": null,
      "metadata": {
        "id": "4-NOaLN7jZBO"
      },
      "outputs": [],
      "source": [
        "# interfaz MATLAB\n",
        "x = np.linspace(-2 * np.pi, 2 * np.pi, 100)\n",
        "y1 = np.sin(x)\n",
        "y2 = np.cos(x)\n",
        "plt.plot(x, y1, 'go--', label = '$\\sin(x)$')\n",
        "plt.plot(x, y2, 'b^:', label = '$\\cos(x)$')\n",
        "\n",
        "plt.title('Gráfica Trigonométrica')\n",
        "plt.xlabel(r'$x$')\n",
        "plt.ylabel('$f(x)$')\n",
        "plt.legend(loc = 'best');"
      ]
    },
    {
      "cell_type": "markdown",
      "metadata": {
        "id": "t6h8dYbwz5xh"
      },
      "source": [
        "Nótese que debemos incluir ``plt.legend()`` para que se genere la leyenda. Además, podemos mostrar el título, los ejes y la leyenda, en un formato matemático encerrando la expresión entre los símbolos peso `\"$\"`\n",
        "\n",
        "Podemos además especificar, mediante el argumento por palabra clave `loc`, la posición de la leyenda dentro del gráfico. Por defecto, se utiliza la \"mejor\" posición (best). Las opciones disponibles son:\n",
        ">\n",
        "    POSICIÓN        DESCRIPCIÓN\n",
        "    best ---------- mejor\n",
        "    upper right --- sup der\n",
        "    upper left ---- sup izq\n",
        "    lower left ---- inf izq\n",
        "    lower right --- inf der\n",
        "    right --------- der\n",
        "    center left --- centro izq\n",
        "    center right -- cento der\n",
        "    lower center -- inf central\n",
        "    upper center -- sup central\n",
        "    center -------- central"
      ]
    },
    {
      "cell_type": "code",
      "execution_count": null,
      "metadata": {
        "id": "zWTCa1XTmAYX"
      },
      "outputs": [],
      "source": [
        "# interfaz MATLAB\n",
        "x = np.linspace(-2 * np.pi, 2 * np.pi, 100)\n",
        "y1 = np.sin(x)\n",
        "y2 = np.cos(x)\n",
        "plt.plot(x, y1, 'go--', label = '$\\sin(x)$')\n",
        "plt.plot(x, y2, 'b^:', label = '$\\cos(x)$')\n",
        "\n",
        "plt.title('Gráfica Trigonométrica')\n",
        "plt.xlabel(r'$x$')\n",
        "plt.ylabel('$f(x)$')\n",
        "plt.legend(loc = 'center');"
      ]
    },
    {
      "cell_type": "code",
      "execution_count": null,
      "metadata": {
        "id": "5WwHe5Tj9qmd"
      },
      "outputs": [],
      "source": [
        "# interfaz MATLAB\n",
        "x = np.linspace(-2 * np.pi, 2 * np.pi, 100)\n",
        "y1 = np.sin(x)\n",
        "y2 = np.cos(x)\n",
        "plt.plot(x, y1, 'go--', label = '$\\sin(x)$')\n",
        "plt.plot(x, y2, 'b^:', label = '$\\cos(x)$')\n",
        "\n",
        "plt.title('Gráfica Trigonométrica')\n",
        "plt.xlabel(r'$x$')\n",
        "plt.ylabel('$f(x)$')\n",
        "plt.legend(loc = 'center')\n",
        "plt.savefig('trigo.pdf');"
      ]
    },
    {
      "cell_type": "markdown",
      "metadata": {
        "id": "fTQnFDNmz_eN"
      },
      "source": [
        "* **Estilo orientado a objetos**\n",
        "\n",
        "Si bien la mayoría de las funciones en `plt` se traducen directamente a métodos `ax` (como `plt.plot()` → `ax.plot()`, `plt.legend()` → `ax.legend()`, etc.), este no es el caso para todos los comandos. En particular, las funciones para establecer límites, etiquetas y títulos se modifican ligeramente. Para realizar la transición entre las funciones de estilo MATLAB y los métodos orientados a objetos, realizamos los siguientes cambios (Puede consultar todos los atributos y métodos de la clase `axes` en este [link](https://matplotlib.org/3.1.1/api/axes_api.html#array)):\n",
        "\n",
        "* `plt.plot()`   → `ax.plot()`\n",
        "* `plt.legend()` → `ax.legend()`\n",
        "* `plt.axis()`   → `ax.axis()`\n",
        "\n",
        "* `plt.xlabel()` → `ax.set_xlabel()`\n",
        "* `plt.ylabel()` → `ax.set_ylabel()`\n",
        "* `plt.xlim()`   → `ax.set_xlim()`\n",
        "* `plt.ylim()`   → `ax.set_ylim()`\n",
        "* `plt.title()`  → `ax.set_title()`\n",
        "\n"
      ]
    },
    {
      "cell_type": "markdown",
      "metadata": {
        "id": "TFLKOuIc0G2f"
      },
      "source": [
        "Realicemos la misma gráfica anterior en el estilo orientado a objetos:"
      ]
    },
    {
      "cell_type": "code",
      "execution_count": null,
      "metadata": {
        "id": "_180gqCbz0dl"
      },
      "outputs": [],
      "source": [
        "fig, ax = plt.subplots()\n",
        "ax.plot(x, y1, 'go--', label = '$\\sin(x)$')\n",
        "ax.plot(x, y2, 'b^:', label = '$\\cos(x)$')\n",
        "\n",
        "ax.set_title('Gráfica Trigonométrica')\n",
        "ax.set_xlabel(r'$x$')\n",
        "ax.set_ylabel('$f(x)$')\n",
        "ax.legend(loc = 'best');"
      ]
    },
    {
      "cell_type": "markdown",
      "metadata": {
        "id": "5fSllZfm0PQu"
      },
      "source": [
        "En el estilo orientado a objetos, en lugar de llamar estas funciones individualmente, es más conveniente usar el método `ax.set()` para establecer todas estas propiedades a la vez:"
      ]
    },
    {
      "cell_type": "code",
      "execution_count": null,
      "metadata": {
        "id": "mKQCNhEj0Mcb"
      },
      "outputs": [],
      "source": [
        "fig, ax = plt.subplots()\n",
        "ax.plot(x, y1, 'go--', label = '$\\sin(x)$')\n",
        "ax.plot(x, y2, 'b^:', label = '$\\cos(x)$')\n",
        "\n",
        "ax.set(title = 'Gráfica Trigonométrica',\n",
        "       xlabel = r'$x$',\n",
        "       ylabel = '$f(x)$')\n",
        "ax.legend(loc = 'best');"
      ]
    },
    {
      "cell_type": "markdown",
      "metadata": {
        "id": "H3KxBuXY0enc"
      },
      "source": [
        "<p><a name=\"sty\"></a></p>\n",
        "\n",
        "# **Cambiando el estilo de graficación**\n",
        "\n",
        "Ya vimos el estilo de graficación estándar que se tiene en `matplotlib.pyplot`.\n",
        "\n",
        "Una personalización del fondo (y otras características del gráfico) requiere la especificación de la figura. Sin embargo, podemos utilizar la directiva `plt.style` para elegir diferentes estilos para nuestras figuras.\n",
        "\n",
        "Mediante el atributo `plt.style.available` podemos acceder a los diferentes estilos disponibles:"
      ]
    },
    {
      "cell_type": "code",
      "execution_count": null,
      "metadata": {
        "id": "kOEXDOTk0UCb"
      },
      "outputs": [],
      "source": [
        "plt.style.available"
      ]
    },
    {
      "cell_type": "markdown",
      "metadata": {
        "id": "birrxME50r2e"
      },
      "source": [
        "Podemos elegir alguno de estos estilos utilizando el método `plt.style.use`:"
      ]
    },
    {
      "cell_type": "code",
      "execution_count": null,
      "metadata": {
        "id": "M9zkt7lD0qVR"
      },
      "outputs": [],
      "source": [
        "# elegimos el estilo seaborn\n",
        "plt.style.use('seaborn-v0_8')"
      ]
    },
    {
      "cell_type": "code",
      "execution_count": null,
      "metadata": {
        "id": "KJGVWTZX9qmj"
      },
      "outputs": [],
      "source": [
        "fig, ax = plt.subplots()\n",
        "ax.plot(x, y1, 'go--', label = '$\\sin(x)$')\n",
        "ax.plot(x, y2, 'b^:', label = '$\\cos(x)$')\n",
        "\n",
        "ax.set(title = 'Gráfica Trigonométrica',\n",
        "       xlabel = r'$x$',\n",
        "       ylabel = '$f(x)$')\n",
        "ax.legend(loc = 'best');"
      ]
    },
    {
      "cell_type": "markdown",
      "metadata": {
        "id": "UK7oyMiS1W-4"
      },
      "source": [
        "<p><a name=\"mul\"></a></p>\n",
        "\n",
        "# **Creando mútiples gráficos**\n",
        "\n",
        "Para la generación de la figura y de uno o más conjuntos de ejes podemos recurrir a la función `plt.subplots`, la cual crea estos objetos y devuelve una referencia a la figura y al conjunto de ejes (si solo se ha creado uno) o a una lista de referencias a los conjuntos de ejes (si se han creado dos o más).\n",
        "\n",
        "Como ya vimos, la función `plt.subplots` crea por defecto una figura y un solo eje. Para tener dos gráficos en el mismo eje utilizamos la función `ax.plot` reiteradamente:"
      ]
    },
    {
      "cell_type": "code",
      "execution_count": null,
      "metadata": {
        "id": "-Ih0Wcu_0wjZ"
      },
      "outputs": [],
      "source": [
        "# elegimos el estilo seaborn\n",
        "fig, ax = plt.subplots()\n",
        "ax.plot(x, y1, 'go--', label = '$\\sin(x)$')\n",
        "ax.plot(x, y2, 'b^:', label = '$\\cos(x)$')\n",
        "\n",
        "ax.set(title = 'Gráfica Trigonométrica',\n",
        "       xlabel = r'$x$',\n",
        "       ylabel = '$f(x)$')\n",
        "ax.legend(loc = 'best');"
      ]
    },
    {
      "cell_type": "markdown",
      "metadata": {
        "id": "w1dyRpX81-Hx"
      },
      "source": [
        "Si queremos especificar el número de ejes a usar, debemos hacerlo explícitamente en la función `plt.subplots`. Sus dos primeros argumentos representan el número de filas y columnas a utilizar, solo que en este caso la referencia a las figuras se hace mediante `ax`:"
      ]
    },
    {
      "cell_type": "code",
      "execution_count": null,
      "metadata": {
        "id": "csURbIgp16p0"
      },
      "outputs": [],
      "source": [
        "fig, axs = plt.subplots(2, 2)\n",
        "print(f\"Tipo de axs: {type(axs)}\")"
      ]
    },
    {
      "cell_type": "markdown",
      "metadata": {
        "id": "qFZ9YWoH2C7y"
      },
      "source": [
        "Note que `ax` es un arreglo de NumPy, en este caso de forma `(2,2)`, donde cada una de las entradas contiene un conjunto de ejes. Para pintar una gráfica en alguno de estos conjuntos de ejer simplemente debemos referenciar el eje mediante el elemento de `ax` correspondiente:"
      ]
    },
    {
      "cell_type": "code",
      "execution_count": null,
      "metadata": {
        "id": "5R6g_FH99qmk"
      },
      "outputs": [],
      "source": [
        "yy = (np.sin(x))^2 + (np.cos(x))^2"
      ]
    },
    {
      "cell_type": "code",
      "execution_count": null,
      "metadata": {
        "id": "bW8H3Uar2Aqx"
      },
      "outputs": [],
      "source": [
        "fig, axs = plt.subplots(2, 2)\n",
        "\n",
        "axs[0,0].plot(x, np.sin(x))\n",
        "axs[0,1].plot(x, np.cos(x))\n",
        "axs[1,0].plot(x, abs(np.sin(x)))\n",
        "axs[1,1].plot(x, (np.sin(x))**2 + (np.cos(x))**2)\n",
        "\n",
        "axs[0,0].set(title = 'Seno', xlabel = 'x', ylabel = 'y')\n",
        "axs[0,1].set(title = 'Coseno', xlabel = 'x', ylabel = 'y')\n",
        "axs[1,0].set(title = 'abs(Seno)', xlabel = 'x', ylabel = 'y')\n",
        "axs[1,1].set(title = 'ID. Pitag', xlabel = 'x', ylabel = 'y');"
      ]
    },
    {
      "cell_type": "markdown",
      "metadata": {
        "id": "D8VW9CLx2Ih7"
      },
      "source": [
        "Note que en este caso los ejes de las funciones `tan` y `atan` se están solapando con la etiqueta del eje $x$ del primer y segundo eje respectivamente. Para tener cada atributo de la figura en su lugar, podemos utilizar el argumento por palabra clave `constrained_layout` en la función `plt.subplots`:"
      ]
    },
    {
      "cell_type": "code",
      "execution_count": null,
      "metadata": {
        "id": "ARSI6FKS2GUE"
      },
      "outputs": [],
      "source": [
        "fig, axs = plt.subplots(2, 2, constrained_layout =True)\n",
        "\n",
        "axs[0,0].plot(x, np.sin(x))\n",
        "axs[0,1].plot(x, np.cos(x))\n",
        "axs[1,0].plot(x, abs(np.sin(x)))\n",
        "axs[1,1].plot(x, (np.sin(x))**2 + (np.cos(x))**2)\n",
        "\n",
        "axs[0,0].set(title = 'Seno', xlabel = 'x', ylabel = 'y')\n",
        "axs[0,1].set(title = 'Coseno', xlabel = 'x', ylabel = 'y')\n",
        "axs[1,0].set(title = 'abs(Seno)', xlabel = 'x', ylabel = 'y')\n",
        "axs[1,1].set(title = 'ID. Pitag', xlabel = 'x', ylabel = 'y');"
      ]
    },
    {
      "cell_type": "markdown",
      "metadata": {
        "id": "ycSMlIUZ2REG"
      },
      "source": [
        "Otros argumentos por palabra clave útiles de la función `plt.subplots`, son `sharex` y `sharey`, que nos permiten compartir los ejes $x$ y $y$, respectivamente, entre las diferentes gráficas.\n",
        "\n",
        "recuerde consultar la documentación de la función `plt.subplots` para obtener más información respecto a los argumentos disponibles de la función.\n",
        "\n",
        "Finalmente, podemos añadir un título a la figura con el método `suptitle` del objeto `fig`:"
      ]
    },
    {
      "cell_type": "code",
      "execution_count": null,
      "metadata": {
        "id": "Vrqs-hyD2KRM"
      },
      "outputs": [],
      "source": [
        "fig, axs = plt.subplots(2, 2, constrained_layout =True, sharex = True, sharey = True)\n",
        "\n",
        "axs[0,0].plot(x, np.sin(x))\n",
        "axs[0,1].plot(x, np.cos(x))\n",
        "axs[1,0].plot(x, abs(np.sin(x)))\n",
        "axs[1,1].plot(x, (np.sin(x))**2 + (np.cos(x))**2)\n",
        "\n",
        "axs[0,0].set(title = 'Seno', xlabel = 'x', ylabel = 'y')\n",
        "axs[0,1].set(title = 'Coseno', xlabel = 'x', ylabel = 'y')\n",
        "axs[1,0].set(title = 'abs(Seno)', xlabel = 'x', ylabel = 'y')\n",
        "axs[1,1].set(title = 'ID. Pitag', xlabel = 'x', ylabel = 'y');"
      ]
    },
    {
      "cell_type": "code",
      "execution_count": null,
      "metadata": {
        "id": "O-LdQzYpr7aW"
      },
      "outputs": [],
      "source": [
        "fig, axs = plt.subplots(2, 2, constrained_layout =True, sharex = True, sharey = True)\n",
        "fig.suptitle('Funciones trigonométricas')\n",
        "\n",
        "axs[0,0].plot(x, np.sin(x))\n",
        "axs[0,1].plot(x, np.cos(x))\n",
        "axs[1,0].plot(x, abs(np.sin(x)))\n",
        "axs[1,1].plot(x, (np.sin(x))**2 + (np.cos(x))**2)\n",
        "\n",
        "axs[0,0].set(title = 'Seno', xlabel = 'x', ylabel = 'y')\n",
        "axs[0,1].set(title = 'Coseno', xlabel = 'x', ylabel = 'y')\n",
        "axs[1,0].set(title = 'abs(Seno)', xlabel = 'x', ylabel = 'y')\n",
        "axs[1,1].set(title = 'ID. Pitag', xlabel = 'x', ylabel = 'y');"
      ]
    },
    {
      "cell_type": "markdown",
      "metadata": {
        "id": "ElEo-j4O2g1f"
      },
      "source": [
        "<p><a name=\"dis\"></a></p>\n",
        "\n",
        "# **Gráficos de dispersión**\n",
        "\n",
        "Los gráficos de dispersión se utilizan para comparar los valores que toman dos variables distintas, una de las cuales se representa a lo largo del eje $x$ y la otra a lo largo del eje $y$.\n",
        "\n",
        "La gráfica resultante nos permite identificar visualmente la posible correlación entre las dos variables. Para realizar este tipo de gráficos podríamos utilizar la función `plt.plot` y remover las líneas. Sin embargo, Matplotlib ofrece una función mucho más potente `plt.scatter`. Esta función acepta como primeros dos argumentos los valores $x$ y $y$ de los puntos a mostrar. Hagamos un ejemplo sencillo: generemos valores aleatorios extraídos de una distribución normal para los valores de $x$ y de $y$:"
      ]
    },
    {
      "cell_type": "code",
      "execution_count": null,
      "metadata": {
        "id": "b5lLPtgwvheD"
      },
      "outputs": [],
      "source": [
        "x = np.random.randn(40)\n",
        "y = np.random.randn(40)"
      ]
    },
    {
      "cell_type": "code",
      "execution_count": null,
      "metadata": {
        "id": "Gq2nl3t32Z7m"
      },
      "outputs": [],
      "source": [
        "plt.scatter(x, y);"
      ]
    },
    {
      "cell_type": "code",
      "execution_count": null,
      "metadata": {
        "id": "VimQgadiumBu"
      },
      "outputs": [],
      "source": [
        "dictio = {'x' : np.linspace(0,50)}\n",
        "dictio['y'] = dictio['x'] + 30* np.random.rand(50)\n",
        "dictio"
      ]
    },
    {
      "cell_type": "markdown",
      "metadata": {
        "id": "wNuIrYry2uUb"
      },
      "source": [
        "Existen casos en los que los datos se presentan en un formato que podemos acceder a variables particulares mediante una palabra clave, por ejemplo, cuando tenemos los datos almacenados en un diccionario:"
      ]
    },
    {
      "cell_type": "code",
      "execution_count": null,
      "metadata": {
        "id": "BNPKGa0s2r7r"
      },
      "outputs": [],
      "source": [
        "plt.scatter('x', 'y', data = dictio);"
      ]
    },
    {
      "cell_type": "markdown",
      "metadata": {
        "id": "BPs2VLth27M8"
      },
      "source": [
        "Este tipo de gráfica resulta más útil cuando estamos visualizando elementos de diferente clase y los mostramos en el gráfico con diferenes colores. El color de cada punto se controla mediante el argumento por palabra clave ``c``. Además, podemos cambiar el mapa de colores utilizando el argumento por palabra clave ``cmap`` y qué opaco es el color con el argumento por palabra clave ``alpha`` que va de 0 (transparente) a 1 (opaco).\n",
        "\n",
        "*Puede consultar los mapas de colores disponibles en esta [dirección](https://matplotlib.org/3.1.0/tutorials/colors/colormaps.html)*"
      ]
    },
    {
      "cell_type": "code",
      "execution_count": null,
      "metadata": {
        "id": "BAtl653r2wnh"
      },
      "outputs": [],
      "source": [
        "# generemos un arreglo para separar los datos en dos clases\n",
        "# y asociarlas al color\n",
        "color = (dictio['y'] < 40) * 1 + (dictio['y'] >= 40) * 20\n",
        "color"
      ]
    },
    {
      "cell_type": "code",
      "execution_count": null,
      "metadata": {
        "id": "B8EkwC0z3AeZ"
      },
      "outputs": [],
      "source": [
        "plt.scatter('x', 'y', data = dictio, c = color, cmap = 'coolwarm');"
      ]
    },
    {
      "cell_type": "code",
      "execution_count": null,
      "metadata": {
        "id": "k50tYj0O9qml"
      },
      "outputs": [],
      "source": [
        "plt.scatter('x', 'y', data = dictio, c = color, cmap = 'coolwarm', alpha = 0.5);"
      ]
    },
    {
      "cell_type": "markdown",
      "metadata": {
        "id": "c2M4WJ5q3JBv"
      },
      "source": [
        "Podemos además modificar el tamaño de cada uno de los puntos mediante el argumento por palabra clave ``s``:"
      ]
    },
    {
      "cell_type": "code",
      "execution_count": null,
      "metadata": {
        "id": "hreIHWC33CV5"
      },
      "outputs": [],
      "source": [
        "# el tamaño de los puntos aumenta a medida que x aumenta\n",
        "tam = np.arange(10, 60)\n",
        "\n",
        "plt.scatter('x', 'y', data = dictio, c = color, cmap = 'coolwarm', alpha = 0.5, s = tam);"
      ]
    },
    {
      "cell_type": "code",
      "execution_count": null,
      "metadata": {
        "id": "BM9_oapz3LGx"
      },
      "outputs": [],
      "source": [
        "# el tamaño de los puntos dependiendo del color\n",
        "tam = (dictio['y'] < 40) * 30 + (dictio['y'] >= 40) * 180\n",
        "\n",
        "plt.scatter('x', 'y', data = dictio, c = color, cmap = 'coolwarm', alpha = 0.5, s = tam);"
      ]
    },
    {
      "cell_type": "markdown",
      "metadata": {
        "id": "Z4TSUxWV3v9D"
      },
      "source": [
        "Vamos a trabajar ahora con datos sencillos pero reales: el conjunto de datos Iris que contiene el ancho y el largo de los pétalos y sépalos de 150 flores de tres especies de Iris (setosa, versicolor y virginica)"
      ]
    },
    {
      "cell_type": "code",
      "execution_count": null,
      "metadata": {
        "id": "FP_vuTPOPYsj"
      },
      "outputs": [],
      "source": [
        "import matplotlib.pyplot as plt\n",
        "import numpy as np\n",
        "from sklearn.datasets import load_iris\n",
        "\n",
        "# se importan los datos\n",
        "iris = load_iris()\n",
        "\n",
        "iris.keys()"
      ]
    },
    {
      "cell_type": "code",
      "execution_count": null,
      "metadata": {
        "id": "2gssaREGyUVP"
      },
      "outputs": [],
      "source": [
        "iris['target_names']"
      ]
    },
    {
      "cell_type": "code",
      "execution_count": null,
      "metadata": {
        "id": "xsX7Zynj3rmT",
        "scrolled": true
      },
      "outputs": [],
      "source": [
        "datos = iris.data\n",
        "clases = iris.target_names\n",
        "caracteristicas = iris.feature_names\n",
        "\n",
        "print(datos)\n",
        "print(clases)\n",
        "print(caracteristicas)"
      ]
    },
    {
      "cell_type": "markdown",
      "metadata": {
        "id": "aqALAzg634Rz"
      },
      "source": [
        "Vamos a cruzar las variables \"petal_length\" y \"petal_width\", información que cargaremos en las variables $x$ y $y$."
      ]
    },
    {
      "cell_type": "code",
      "execution_count": null,
      "metadata": {
        "id": "P0gZi69G3yfX"
      },
      "outputs": [],
      "source": [
        "x = datos[:,2]\n",
        "y = datos[:,3]\n",
        "colores = iris.target\n",
        "\n",
        "plt.scatter(x, y, c = colores, cmap = 'prism')\n",
        "plt.xlabel('Longitud del pétalo')\n",
        "plt.ylabel('Grosor del pétalo');"
      ]
    },
    {
      "cell_type": "markdown",
      "metadata": {
        "id": "m6C_YdZS4GNb"
      },
      "source": [
        "Es apreciable la distancia que separa el cluster representado por los puntos rojos (flores \"setosa\") de los otros dos que se muestran más mezclados. Si quisiéramos que la leyenda distinguiera entre 'setosa', 'versicolor' y 'virginica', tendríamos que crear tres gráficos de dispersión, uno para cada tipo de flor, y dar a cada uno una etiqueta diferente.\n",
        "\n"
      ]
    },
    {
      "cell_type": "markdown",
      "metadata": {
        "id": "YWaoVva74OMK"
      },
      "source": [
        "**Ejercicio**: Modifique el código de manera tal que se añada una etiqueta para cada una de las clases."
      ]
    },
    {
      "cell_type": "code",
      "execution_count": null,
      "metadata": {
        "id": "e2SKz-UceVka"
      },
      "outputs": [],
      "source": [
        "plt.scatter(x, y, c = colores, cmap = 'prism', label = iris.target)\n",
        "plt.xlabel('Longitud del pétalo')\n",
        "plt.ylabel('Grosor del pétalo')\n",
        "\n",
        "plt.legend();"
      ]
    },
    {
      "cell_type": "code",
      "execution_count": null,
      "metadata": {
        "id": "SO7torQk56QR"
      },
      "outputs": [],
      "source": [
        "# utilizamos mascaras boolenas para seleccionar\n",
        "# los datos pertenecientes a cada clase de flor\n"
      ]
    },
    {
      "cell_type": "markdown",
      "metadata": {
        "id": "Lqkmgq_CuWJY"
      },
      "source": [
        "<p><a name=\"vis\"></a></p>\n",
        "\n",
        "# **Visualización: Seaborn**\n",
        "\n",
        "[Seaborn](https://seaborn.pydata.org/) proporciona una API, además de Matplotlib, que ofrece múltiples opciones para el estilo de gráficos. Define funciones simples de alto nivel para tipos de gráficos estadísticos comunes y se integra de manera adecuada con los objetos de Pandas.\n"
      ]
    },
    {
      "cell_type": "code",
      "execution_count": null,
      "metadata": {
        "id": "CJ53gC5Qt-uV"
      },
      "outputs": [],
      "source": [
        "import pandas as pd\n",
        "import numpy as np\n",
        "import seaborn as sns\n",
        "import matplotlib.pyplot as plt\n",
        "\n",
        "sns.set()"
      ]
    },
    {
      "cell_type": "code",
      "execution_count": null,
      "metadata": {
        "colab": {
          "base_uri": "https://localhost:8080/",
          "height": 206
        },
        "id": "p0e0V0xQ9qmn",
        "outputId": "d40fdbe5-a0bb-4078-ab7d-301867f05d86"
      },
      "outputs": [
        {
          "output_type": "execute_result",
          "data": {
            "text/plain": [
              "            Name            Team  Number Position   Age Height  Weight  \\\n",
              "0  Avery Bradley  Boston Celtics     0.0       PG  25.0    6-2   180.0   \n",
              "1    Jae Crowder  Boston Celtics    99.0       SF  25.0    6-6   235.0   \n",
              "3    R.J. Hunter  Boston Celtics    28.0       SG  22.0    6-5   185.0   \n",
              "6  Jordan Mickey  Boston Celtics    55.0       PF  21.0    6-8   235.0   \n",
              "7   Kelly Olynyk  Boston Celtics    41.0        C  25.0    7-0   238.0   \n",
              "\n",
              "         College     Salary  \n",
              "0          Texas  7730337.0  \n",
              "1      Marquette  6796117.0  \n",
              "3  Georgia State  1148640.0  \n",
              "6            LSU  1170960.0  \n",
              "7        Gonzaga  2165160.0  "
            ],
            "text/html": [
              "\n",
              "  <div id=\"df-e5952de0-704f-4e63-80a2-5ea12cce5322\" class=\"colab-df-container\">\n",
              "    <div>\n",
              "<style scoped>\n",
              "    .dataframe tbody tr th:only-of-type {\n",
              "        vertical-align: middle;\n",
              "    }\n",
              "\n",
              "    .dataframe tbody tr th {\n",
              "        vertical-align: top;\n",
              "    }\n",
              "\n",
              "    .dataframe thead th {\n",
              "        text-align: right;\n",
              "    }\n",
              "</style>\n",
              "<table border=\"1\" class=\"dataframe\">\n",
              "  <thead>\n",
              "    <tr style=\"text-align: right;\">\n",
              "      <th></th>\n",
              "      <th>Name</th>\n",
              "      <th>Team</th>\n",
              "      <th>Number</th>\n",
              "      <th>Position</th>\n",
              "      <th>Age</th>\n",
              "      <th>Height</th>\n",
              "      <th>Weight</th>\n",
              "      <th>College</th>\n",
              "      <th>Salary</th>\n",
              "    </tr>\n",
              "  </thead>\n",
              "  <tbody>\n",
              "    <tr>\n",
              "      <th>0</th>\n",
              "      <td>Avery Bradley</td>\n",
              "      <td>Boston Celtics</td>\n",
              "      <td>0.0</td>\n",
              "      <td>PG</td>\n",
              "      <td>25.0</td>\n",
              "      <td>6-2</td>\n",
              "      <td>180.0</td>\n",
              "      <td>Texas</td>\n",
              "      <td>7730337.0</td>\n",
              "    </tr>\n",
              "    <tr>\n",
              "      <th>1</th>\n",
              "      <td>Jae Crowder</td>\n",
              "      <td>Boston Celtics</td>\n",
              "      <td>99.0</td>\n",
              "      <td>SF</td>\n",
              "      <td>25.0</td>\n",
              "      <td>6-6</td>\n",
              "      <td>235.0</td>\n",
              "      <td>Marquette</td>\n",
              "      <td>6796117.0</td>\n",
              "    </tr>\n",
              "    <tr>\n",
              "      <th>3</th>\n",
              "      <td>R.J. Hunter</td>\n",
              "      <td>Boston Celtics</td>\n",
              "      <td>28.0</td>\n",
              "      <td>SG</td>\n",
              "      <td>22.0</td>\n",
              "      <td>6-5</td>\n",
              "      <td>185.0</td>\n",
              "      <td>Georgia State</td>\n",
              "      <td>1148640.0</td>\n",
              "    </tr>\n",
              "    <tr>\n",
              "      <th>6</th>\n",
              "      <td>Jordan Mickey</td>\n",
              "      <td>Boston Celtics</td>\n",
              "      <td>55.0</td>\n",
              "      <td>PF</td>\n",
              "      <td>21.0</td>\n",
              "      <td>6-8</td>\n",
              "      <td>235.0</td>\n",
              "      <td>LSU</td>\n",
              "      <td>1170960.0</td>\n",
              "    </tr>\n",
              "    <tr>\n",
              "      <th>7</th>\n",
              "      <td>Kelly Olynyk</td>\n",
              "      <td>Boston Celtics</td>\n",
              "      <td>41.0</td>\n",
              "      <td>C</td>\n",
              "      <td>25.0</td>\n",
              "      <td>7-0</td>\n",
              "      <td>238.0</td>\n",
              "      <td>Gonzaga</td>\n",
              "      <td>2165160.0</td>\n",
              "    </tr>\n",
              "  </tbody>\n",
              "</table>\n",
              "</div>\n",
              "    <div class=\"colab-df-buttons\">\n",
              "\n",
              "  <div class=\"colab-df-container\">\n",
              "    <button class=\"colab-df-convert\" onclick=\"convertToInteractive('df-e5952de0-704f-4e63-80a2-5ea12cce5322')\"\n",
              "            title=\"Convert this dataframe to an interactive table.\"\n",
              "            style=\"display:none;\">\n",
              "\n",
              "  <svg xmlns=\"http://www.w3.org/2000/svg\" height=\"24px\" viewBox=\"0 -960 960 960\">\n",
              "    <path d=\"M120-120v-720h720v720H120Zm60-500h600v-160H180v160Zm220 220h160v-160H400v160Zm0 220h160v-160H400v160ZM180-400h160v-160H180v160Zm440 0h160v-160H620v160ZM180-180h160v-160H180v160Zm440 0h160v-160H620v160Z\"/>\n",
              "  </svg>\n",
              "    </button>\n",
              "\n",
              "  <style>\n",
              "    .colab-df-container {\n",
              "      display:flex;\n",
              "      gap: 12px;\n",
              "    }\n",
              "\n",
              "    .colab-df-convert {\n",
              "      background-color: #E8F0FE;\n",
              "      border: none;\n",
              "      border-radius: 50%;\n",
              "      cursor: pointer;\n",
              "      display: none;\n",
              "      fill: #1967D2;\n",
              "      height: 32px;\n",
              "      padding: 0 0 0 0;\n",
              "      width: 32px;\n",
              "    }\n",
              "\n",
              "    .colab-df-convert:hover {\n",
              "      background-color: #E2EBFA;\n",
              "      box-shadow: 0px 1px 2px rgba(60, 64, 67, 0.3), 0px 1px 3px 1px rgba(60, 64, 67, 0.15);\n",
              "      fill: #174EA6;\n",
              "    }\n",
              "\n",
              "    .colab-df-buttons div {\n",
              "      margin-bottom: 4px;\n",
              "    }\n",
              "\n",
              "    [theme=dark] .colab-df-convert {\n",
              "      background-color: #3B4455;\n",
              "      fill: #D2E3FC;\n",
              "    }\n",
              "\n",
              "    [theme=dark] .colab-df-convert:hover {\n",
              "      background-color: #434B5C;\n",
              "      box-shadow: 0px 1px 3px 1px rgba(0, 0, 0, 0.15);\n",
              "      filter: drop-shadow(0px 1px 2px rgba(0, 0, 0, 0.3));\n",
              "      fill: #FFFFFF;\n",
              "    }\n",
              "  </style>\n",
              "\n",
              "    <script>\n",
              "      const buttonEl =\n",
              "        document.querySelector('#df-e5952de0-704f-4e63-80a2-5ea12cce5322 button.colab-df-convert');\n",
              "      buttonEl.style.display =\n",
              "        google.colab.kernel.accessAllowed ? 'block' : 'none';\n",
              "\n",
              "      async function convertToInteractive(key) {\n",
              "        const element = document.querySelector('#df-e5952de0-704f-4e63-80a2-5ea12cce5322');\n",
              "        const dataTable =\n",
              "          await google.colab.kernel.invokeFunction('convertToInteractive',\n",
              "                                                    [key], {});\n",
              "        if (!dataTable) return;\n",
              "\n",
              "        const docLinkHtml = 'Like what you see? Visit the ' +\n",
              "          '<a target=\"_blank\" href=https://colab.research.google.com/notebooks/data_table.ipynb>data table notebook</a>'\n",
              "          + ' to learn more about interactive tables.';\n",
              "        element.innerHTML = '';\n",
              "        dataTable['output_type'] = 'display_data';\n",
              "        await google.colab.output.renderOutput(dataTable, element);\n",
              "        const docLink = document.createElement('div');\n",
              "        docLink.innerHTML = docLinkHtml;\n",
              "        element.appendChild(docLink);\n",
              "      }\n",
              "    </script>\n",
              "  </div>\n",
              "\n",
              "\n",
              "<div id=\"df-9894b03d-fa09-4603-b65e-8fb211559913\">\n",
              "  <button class=\"colab-df-quickchart\" onclick=\"quickchart('df-9894b03d-fa09-4603-b65e-8fb211559913')\"\n",
              "            title=\"Suggest charts\"\n",
              "            style=\"display:none;\">\n",
              "\n",
              "<svg xmlns=\"http://www.w3.org/2000/svg\" height=\"24px\"viewBox=\"0 0 24 24\"\n",
              "     width=\"24px\">\n",
              "    <g>\n",
              "        <path d=\"M19 3H5c-1.1 0-2 .9-2 2v14c0 1.1.9 2 2 2h14c1.1 0 2-.9 2-2V5c0-1.1-.9-2-2-2zM9 17H7v-7h2v7zm4 0h-2V7h2v10zm4 0h-2v-4h2v4z\"/>\n",
              "    </g>\n",
              "</svg>\n",
              "  </button>\n",
              "\n",
              "<style>\n",
              "  .colab-df-quickchart {\n",
              "      --bg-color: #E8F0FE;\n",
              "      --fill-color: #1967D2;\n",
              "      --hover-bg-color: #E2EBFA;\n",
              "      --hover-fill-color: #174EA6;\n",
              "      --disabled-fill-color: #AAA;\n",
              "      --disabled-bg-color: #DDD;\n",
              "  }\n",
              "\n",
              "  [theme=dark] .colab-df-quickchart {\n",
              "      --bg-color: #3B4455;\n",
              "      --fill-color: #D2E3FC;\n",
              "      --hover-bg-color: #434B5C;\n",
              "      --hover-fill-color: #FFFFFF;\n",
              "      --disabled-bg-color: #3B4455;\n",
              "      --disabled-fill-color: #666;\n",
              "  }\n",
              "\n",
              "  .colab-df-quickchart {\n",
              "    background-color: var(--bg-color);\n",
              "    border: none;\n",
              "    border-radius: 50%;\n",
              "    cursor: pointer;\n",
              "    display: none;\n",
              "    fill: var(--fill-color);\n",
              "    height: 32px;\n",
              "    padding: 0;\n",
              "    width: 32px;\n",
              "  }\n",
              "\n",
              "  .colab-df-quickchart:hover {\n",
              "    background-color: var(--hover-bg-color);\n",
              "    box-shadow: 0 1px 2px rgba(60, 64, 67, 0.3), 0 1px 3px 1px rgba(60, 64, 67, 0.15);\n",
              "    fill: var(--button-hover-fill-color);\n",
              "  }\n",
              "\n",
              "  .colab-df-quickchart-complete:disabled,\n",
              "  .colab-df-quickchart-complete:disabled:hover {\n",
              "    background-color: var(--disabled-bg-color);\n",
              "    fill: var(--disabled-fill-color);\n",
              "    box-shadow: none;\n",
              "  }\n",
              "\n",
              "  .colab-df-spinner {\n",
              "    border: 2px solid var(--fill-color);\n",
              "    border-color: transparent;\n",
              "    border-bottom-color: var(--fill-color);\n",
              "    animation:\n",
              "      spin 1s steps(1) infinite;\n",
              "  }\n",
              "\n",
              "  @keyframes spin {\n",
              "    0% {\n",
              "      border-color: transparent;\n",
              "      border-bottom-color: var(--fill-color);\n",
              "      border-left-color: var(--fill-color);\n",
              "    }\n",
              "    20% {\n",
              "      border-color: transparent;\n",
              "      border-left-color: var(--fill-color);\n",
              "      border-top-color: var(--fill-color);\n",
              "    }\n",
              "    30% {\n",
              "      border-color: transparent;\n",
              "      border-left-color: var(--fill-color);\n",
              "      border-top-color: var(--fill-color);\n",
              "      border-right-color: var(--fill-color);\n",
              "    }\n",
              "    40% {\n",
              "      border-color: transparent;\n",
              "      border-right-color: var(--fill-color);\n",
              "      border-top-color: var(--fill-color);\n",
              "    }\n",
              "    60% {\n",
              "      border-color: transparent;\n",
              "      border-right-color: var(--fill-color);\n",
              "    }\n",
              "    80% {\n",
              "      border-color: transparent;\n",
              "      border-right-color: var(--fill-color);\n",
              "      border-bottom-color: var(--fill-color);\n",
              "    }\n",
              "    90% {\n",
              "      border-color: transparent;\n",
              "      border-bottom-color: var(--fill-color);\n",
              "    }\n",
              "  }\n",
              "</style>\n",
              "\n",
              "  <script>\n",
              "    async function quickchart(key) {\n",
              "      const quickchartButtonEl =\n",
              "        document.querySelector('#' + key + ' button');\n",
              "      quickchartButtonEl.disabled = true;  // To prevent multiple clicks.\n",
              "      quickchartButtonEl.classList.add('colab-df-spinner');\n",
              "      try {\n",
              "        const charts = await google.colab.kernel.invokeFunction(\n",
              "            'suggestCharts', [key], {});\n",
              "      } catch (error) {\n",
              "        console.error('Error during call to suggestCharts:', error);\n",
              "      }\n",
              "      quickchartButtonEl.classList.remove('colab-df-spinner');\n",
              "      quickchartButtonEl.classList.add('colab-df-quickchart-complete');\n",
              "    }\n",
              "    (() => {\n",
              "      let quickchartButtonEl =\n",
              "        document.querySelector('#df-9894b03d-fa09-4603-b65e-8fb211559913 button');\n",
              "      quickchartButtonEl.style.display =\n",
              "        google.colab.kernel.accessAllowed ? 'block' : 'none';\n",
              "    })();\n",
              "  </script>\n",
              "</div>\n",
              "\n",
              "    </div>\n",
              "  </div>\n"
            ],
            "application/vnd.google.colaboratory.intrinsic+json": {
              "type": "dataframe",
              "variable_name": "nba",
              "summary": "{\n  \"name\": \"nba\",\n  \"rows\": 364,\n  \"fields\": [\n    {\n      \"column\": \"Name\",\n      \"properties\": {\n        \"dtype\": \"string\",\n        \"num_unique_values\": 364,\n        \"samples\": [\n          \"David Lee\",\n          \"Lance Thomas\",\n          \"Jarrett Jack\"\n        ],\n        \"semantic_type\": \"\",\n        \"description\": \"\"\n      }\n    },\n    {\n      \"column\": \"Team\",\n      \"properties\": {\n        \"dtype\": \"category\",\n        \"num_unique_values\": 30,\n        \"samples\": [\n          \"Oklahoma City Thunder\",\n          \"Dallas Mavericks\",\n          \"Orlando Magic\"\n        ],\n        \"semantic_type\": \"\",\n        \"description\": \"\"\n      }\n    },\n    {\n      \"column\": \"Number\",\n      \"properties\": {\n        \"dtype\": \"number\",\n        \"std\": 14.994162276377994,\n        \"min\": 0.0,\n        \"max\": 99.0,\n        \"num_unique_values\": 51,\n        \"samples\": [\n          26.0,\n          25.0,\n          27.0\n        ],\n        \"semantic_type\": \"\",\n        \"description\": \"\"\n      }\n    },\n    {\n      \"column\": \"Position\",\n      \"properties\": {\n        \"dtype\": \"category\",\n        \"num_unique_values\": 5,\n        \"samples\": [\n          \"SF\",\n          \"C\",\n          \"SG\"\n        ],\n        \"semantic_type\": \"\",\n        \"description\": \"\"\n      }\n    },\n    {\n      \"column\": \"Age\",\n      \"properties\": {\n        \"dtype\": \"number\",\n        \"std\": 4.23359053669338,\n        \"min\": 19.0,\n        \"max\": 40.0,\n        \"num_unique_values\": 22,\n        \"samples\": [\n          25.0,\n          31.0,\n          32.0\n        ],\n        \"semantic_type\": \"\",\n        \"description\": \"\"\n      }\n    },\n    {\n      \"column\": \"Height\",\n      \"properties\": {\n        \"dtype\": \"category\",\n        \"num_unique_values\": 17,\n        \"samples\": [\n          \"6-2\",\n          \"6-6\",\n          \"6-4\"\n        ],\n        \"semantic_type\": \"\",\n        \"description\": \"\"\n      }\n    },\n    {\n      \"column\": \"Weight\",\n      \"properties\": {\n        \"dtype\": \"number\",\n        \"std\": 24.79309897509115,\n        \"min\": 161.0,\n        \"max\": 279.0,\n        \"num_unique_values\": 76,\n        \"samples\": [\n          190.0,\n          213.0,\n          219.0\n        ],\n        \"semantic_type\": \"\",\n        \"description\": \"\"\n      }\n    },\n    {\n      \"column\": \"College\",\n      \"properties\": {\n        \"dtype\": \"category\",\n        \"num_unique_values\": 115,\n        \"samples\": [\n          \"Blinn College\",\n          \"Gonzaga\",\n          \"Davidson\"\n        ],\n        \"semantic_type\": \"\",\n        \"description\": \"\"\n      }\n    },\n    {\n      \"column\": \"Salary\",\n      \"properties\": {\n        \"dtype\": \"number\",\n        \"std\": 5119715.580210538,\n        \"min\": 55722.0,\n        \"max\": 22875000.0,\n        \"num_unique_values\": 256,\n        \"samples\": [\n          2279040.0,\n          3431040.0,\n          2127840.0\n        ],\n        \"semantic_type\": \"\",\n        \"description\": \"\"\n      }\n    }\n  ]\n}"
            }
          },
          "metadata": {},
          "execution_count": 2
        }
      ],
      "source": [
        "path = \"https://raw.githubusercontent.com/tomasate/Datos_Clases/main/Datos_1/nba.csv\"\n",
        "nba = pd.read_csv(path, index_col = 'Unnamed: 0')\n",
        "nba.dropna(inplace = True)\n",
        "nba.head()"
      ]
    },
    {
      "cell_type": "markdown",
      "metadata": {
        "id": "lMEaKOLB1vp_"
      },
      "source": [
        "Respondamos a las siguientes preguntas:"
      ]
    },
    {
      "cell_type": "markdown",
      "metadata": {
        "id": "YuFvfTqO2iZt"
      },
      "source": [
        "* ¿Cuáles son los cinco equipos que pagan los salarios mas altos? (sumando toda la nómina de sus jugadores)."
      ]
    },
    {
      "cell_type": "code",
      "execution_count": null,
      "metadata": {
        "colab": {
          "base_uri": "https://localhost:8080/",
          "height": 206
        },
        "id": "Nv1Zxzziz5G_",
        "outputId": "0fbad118-9857-41b0-b7ee-d36bb4440539"
      },
      "outputs": [
        {
          "output_type": "execute_result",
          "data": {
            "text/plain": [
              "                     Team      Salary\n",
              "12   Los Angeles Clippers  93906914.0\n",
              "20  Oklahoma City Thunder  81515298.0\n",
              "9   Golden State Warriors  80535517.0\n",
              "5     Cleveland Cavaliers  74068189.0\n",
              "4           Chicago Bulls  73265800.0"
            ],
            "text/html": [
              "\n",
              "  <div id=\"df-b77f5b7b-ff30-488e-96af-f0030313aa49\" class=\"colab-df-container\">\n",
              "    <div>\n",
              "<style scoped>\n",
              "    .dataframe tbody tr th:only-of-type {\n",
              "        vertical-align: middle;\n",
              "    }\n",
              "\n",
              "    .dataframe tbody tr th {\n",
              "        vertical-align: top;\n",
              "    }\n",
              "\n",
              "    .dataframe thead th {\n",
              "        text-align: right;\n",
              "    }\n",
              "</style>\n",
              "<table border=\"1\" class=\"dataframe\">\n",
              "  <thead>\n",
              "    <tr style=\"text-align: right;\">\n",
              "      <th></th>\n",
              "      <th>Team</th>\n",
              "      <th>Salary</th>\n",
              "    </tr>\n",
              "  </thead>\n",
              "  <tbody>\n",
              "    <tr>\n",
              "      <th>12</th>\n",
              "      <td>Los Angeles Clippers</td>\n",
              "      <td>93906914.0</td>\n",
              "    </tr>\n",
              "    <tr>\n",
              "      <th>20</th>\n",
              "      <td>Oklahoma City Thunder</td>\n",
              "      <td>81515298.0</td>\n",
              "    </tr>\n",
              "    <tr>\n",
              "      <th>9</th>\n",
              "      <td>Golden State Warriors</td>\n",
              "      <td>80535517.0</td>\n",
              "    </tr>\n",
              "    <tr>\n",
              "      <th>5</th>\n",
              "      <td>Cleveland Cavaliers</td>\n",
              "      <td>74068189.0</td>\n",
              "    </tr>\n",
              "    <tr>\n",
              "      <th>4</th>\n",
              "      <td>Chicago Bulls</td>\n",
              "      <td>73265800.0</td>\n",
              "    </tr>\n",
              "  </tbody>\n",
              "</table>\n",
              "</div>\n",
              "    <div class=\"colab-df-buttons\">\n",
              "\n",
              "  <div class=\"colab-df-container\">\n",
              "    <button class=\"colab-df-convert\" onclick=\"convertToInteractive('df-b77f5b7b-ff30-488e-96af-f0030313aa49')\"\n",
              "            title=\"Convert this dataframe to an interactive table.\"\n",
              "            style=\"display:none;\">\n",
              "\n",
              "  <svg xmlns=\"http://www.w3.org/2000/svg\" height=\"24px\" viewBox=\"0 -960 960 960\">\n",
              "    <path d=\"M120-120v-720h720v720H120Zm60-500h600v-160H180v160Zm220 220h160v-160H400v160Zm0 220h160v-160H400v160ZM180-400h160v-160H180v160Zm440 0h160v-160H620v160ZM180-180h160v-160H180v160Zm440 0h160v-160H620v160Z\"/>\n",
              "  </svg>\n",
              "    </button>\n",
              "\n",
              "  <style>\n",
              "    .colab-df-container {\n",
              "      display:flex;\n",
              "      gap: 12px;\n",
              "    }\n",
              "\n",
              "    .colab-df-convert {\n",
              "      background-color: #E8F0FE;\n",
              "      border: none;\n",
              "      border-radius: 50%;\n",
              "      cursor: pointer;\n",
              "      display: none;\n",
              "      fill: #1967D2;\n",
              "      height: 32px;\n",
              "      padding: 0 0 0 0;\n",
              "      width: 32px;\n",
              "    }\n",
              "\n",
              "    .colab-df-convert:hover {\n",
              "      background-color: #E2EBFA;\n",
              "      box-shadow: 0px 1px 2px rgba(60, 64, 67, 0.3), 0px 1px 3px 1px rgba(60, 64, 67, 0.15);\n",
              "      fill: #174EA6;\n",
              "    }\n",
              "\n",
              "    .colab-df-buttons div {\n",
              "      margin-bottom: 4px;\n",
              "    }\n",
              "\n",
              "    [theme=dark] .colab-df-convert {\n",
              "      background-color: #3B4455;\n",
              "      fill: #D2E3FC;\n",
              "    }\n",
              "\n",
              "    [theme=dark] .colab-df-convert:hover {\n",
              "      background-color: #434B5C;\n",
              "      box-shadow: 0px 1px 3px 1px rgba(0, 0, 0, 0.15);\n",
              "      filter: drop-shadow(0px 1px 2px rgba(0, 0, 0, 0.3));\n",
              "      fill: #FFFFFF;\n",
              "    }\n",
              "  </style>\n",
              "\n",
              "    <script>\n",
              "      const buttonEl =\n",
              "        document.querySelector('#df-b77f5b7b-ff30-488e-96af-f0030313aa49 button.colab-df-convert');\n",
              "      buttonEl.style.display =\n",
              "        google.colab.kernel.accessAllowed ? 'block' : 'none';\n",
              "\n",
              "      async function convertToInteractive(key) {\n",
              "        const element = document.querySelector('#df-b77f5b7b-ff30-488e-96af-f0030313aa49');\n",
              "        const dataTable =\n",
              "          await google.colab.kernel.invokeFunction('convertToInteractive',\n",
              "                                                    [key], {});\n",
              "        if (!dataTable) return;\n",
              "\n",
              "        const docLinkHtml = 'Like what you see? Visit the ' +\n",
              "          '<a target=\"_blank\" href=https://colab.research.google.com/notebooks/data_table.ipynb>data table notebook</a>'\n",
              "          + ' to learn more about interactive tables.';\n",
              "        element.innerHTML = '';\n",
              "        dataTable['output_type'] = 'display_data';\n",
              "        await google.colab.output.renderOutput(dataTable, element);\n",
              "        const docLink = document.createElement('div');\n",
              "        docLink.innerHTML = docLinkHtml;\n",
              "        element.appendChild(docLink);\n",
              "      }\n",
              "    </script>\n",
              "  </div>\n",
              "\n",
              "\n",
              "<div id=\"df-e885d9da-f217-4048-9549-1d1fc9357419\">\n",
              "  <button class=\"colab-df-quickchart\" onclick=\"quickchart('df-e885d9da-f217-4048-9549-1d1fc9357419')\"\n",
              "            title=\"Suggest charts\"\n",
              "            style=\"display:none;\">\n",
              "\n",
              "<svg xmlns=\"http://www.w3.org/2000/svg\" height=\"24px\"viewBox=\"0 0 24 24\"\n",
              "     width=\"24px\">\n",
              "    <g>\n",
              "        <path d=\"M19 3H5c-1.1 0-2 .9-2 2v14c0 1.1.9 2 2 2h14c1.1 0 2-.9 2-2V5c0-1.1-.9-2-2-2zM9 17H7v-7h2v7zm4 0h-2V7h2v10zm4 0h-2v-4h2v4z\"/>\n",
              "    </g>\n",
              "</svg>\n",
              "  </button>\n",
              "\n",
              "<style>\n",
              "  .colab-df-quickchart {\n",
              "      --bg-color: #E8F0FE;\n",
              "      --fill-color: #1967D2;\n",
              "      --hover-bg-color: #E2EBFA;\n",
              "      --hover-fill-color: #174EA6;\n",
              "      --disabled-fill-color: #AAA;\n",
              "      --disabled-bg-color: #DDD;\n",
              "  }\n",
              "\n",
              "  [theme=dark] .colab-df-quickchart {\n",
              "      --bg-color: #3B4455;\n",
              "      --fill-color: #D2E3FC;\n",
              "      --hover-bg-color: #434B5C;\n",
              "      --hover-fill-color: #FFFFFF;\n",
              "      --disabled-bg-color: #3B4455;\n",
              "      --disabled-fill-color: #666;\n",
              "  }\n",
              "\n",
              "  .colab-df-quickchart {\n",
              "    background-color: var(--bg-color);\n",
              "    border: none;\n",
              "    border-radius: 50%;\n",
              "    cursor: pointer;\n",
              "    display: none;\n",
              "    fill: var(--fill-color);\n",
              "    height: 32px;\n",
              "    padding: 0;\n",
              "    width: 32px;\n",
              "  }\n",
              "\n",
              "  .colab-df-quickchart:hover {\n",
              "    background-color: var(--hover-bg-color);\n",
              "    box-shadow: 0 1px 2px rgba(60, 64, 67, 0.3), 0 1px 3px 1px rgba(60, 64, 67, 0.15);\n",
              "    fill: var(--button-hover-fill-color);\n",
              "  }\n",
              "\n",
              "  .colab-df-quickchart-complete:disabled,\n",
              "  .colab-df-quickchart-complete:disabled:hover {\n",
              "    background-color: var(--disabled-bg-color);\n",
              "    fill: var(--disabled-fill-color);\n",
              "    box-shadow: none;\n",
              "  }\n",
              "\n",
              "  .colab-df-spinner {\n",
              "    border: 2px solid var(--fill-color);\n",
              "    border-color: transparent;\n",
              "    border-bottom-color: var(--fill-color);\n",
              "    animation:\n",
              "      spin 1s steps(1) infinite;\n",
              "  }\n",
              "\n",
              "  @keyframes spin {\n",
              "    0% {\n",
              "      border-color: transparent;\n",
              "      border-bottom-color: var(--fill-color);\n",
              "      border-left-color: var(--fill-color);\n",
              "    }\n",
              "    20% {\n",
              "      border-color: transparent;\n",
              "      border-left-color: var(--fill-color);\n",
              "      border-top-color: var(--fill-color);\n",
              "    }\n",
              "    30% {\n",
              "      border-color: transparent;\n",
              "      border-left-color: var(--fill-color);\n",
              "      border-top-color: var(--fill-color);\n",
              "      border-right-color: var(--fill-color);\n",
              "    }\n",
              "    40% {\n",
              "      border-color: transparent;\n",
              "      border-right-color: var(--fill-color);\n",
              "      border-top-color: var(--fill-color);\n",
              "    }\n",
              "    60% {\n",
              "      border-color: transparent;\n",
              "      border-right-color: var(--fill-color);\n",
              "    }\n",
              "    80% {\n",
              "      border-color: transparent;\n",
              "      border-right-color: var(--fill-color);\n",
              "      border-bottom-color: var(--fill-color);\n",
              "    }\n",
              "    90% {\n",
              "      border-color: transparent;\n",
              "      border-bottom-color: var(--fill-color);\n",
              "    }\n",
              "  }\n",
              "</style>\n",
              "\n",
              "  <script>\n",
              "    async function quickchart(key) {\n",
              "      const quickchartButtonEl =\n",
              "        document.querySelector('#' + key + ' button');\n",
              "      quickchartButtonEl.disabled = true;  // To prevent multiple clicks.\n",
              "      quickchartButtonEl.classList.add('colab-df-spinner');\n",
              "      try {\n",
              "        const charts = await google.colab.kernel.invokeFunction(\n",
              "            'suggestCharts', [key], {});\n",
              "      } catch (error) {\n",
              "        console.error('Error during call to suggestCharts:', error);\n",
              "      }\n",
              "      quickchartButtonEl.classList.remove('colab-df-spinner');\n",
              "      quickchartButtonEl.classList.add('colab-df-quickchart-complete');\n",
              "    }\n",
              "    (() => {\n",
              "      let quickchartButtonEl =\n",
              "        document.querySelector('#df-e885d9da-f217-4048-9549-1d1fc9357419 button');\n",
              "      quickchartButtonEl.style.display =\n",
              "        google.colab.kernel.accessAllowed ? 'block' : 'none';\n",
              "    })();\n",
              "  </script>\n",
              "</div>\n",
              "\n",
              "  <div id=\"id_d67898fd-8d80-4eb9-a5c2-9074b431302a\">\n",
              "    <style>\n",
              "      .colab-df-generate {\n",
              "        background-color: #E8F0FE;\n",
              "        border: none;\n",
              "        border-radius: 50%;\n",
              "        cursor: pointer;\n",
              "        display: none;\n",
              "        fill: #1967D2;\n",
              "        height: 32px;\n",
              "        padding: 0 0 0 0;\n",
              "        width: 32px;\n",
              "      }\n",
              "\n",
              "      .colab-df-generate:hover {\n",
              "        background-color: #E2EBFA;\n",
              "        box-shadow: 0px 1px 2px rgba(60, 64, 67, 0.3), 0px 1px 3px 1px rgba(60, 64, 67, 0.15);\n",
              "        fill: #174EA6;\n",
              "      }\n",
              "\n",
              "      [theme=dark] .colab-df-generate {\n",
              "        background-color: #3B4455;\n",
              "        fill: #D2E3FC;\n",
              "      }\n",
              "\n",
              "      [theme=dark] .colab-df-generate:hover {\n",
              "        background-color: #434B5C;\n",
              "        box-shadow: 0px 1px 3px 1px rgba(0, 0, 0, 0.15);\n",
              "        filter: drop-shadow(0px 1px 2px rgba(0, 0, 0, 0.3));\n",
              "        fill: #FFFFFF;\n",
              "      }\n",
              "    </style>\n",
              "    <button class=\"colab-df-generate\" onclick=\"generateWithVariable('team_salary')\"\n",
              "            title=\"Generate code using this dataframe.\"\n",
              "            style=\"display:none;\">\n",
              "\n",
              "  <svg xmlns=\"http://www.w3.org/2000/svg\" height=\"24px\"viewBox=\"0 0 24 24\"\n",
              "       width=\"24px\">\n",
              "    <path d=\"M7,19H8.4L18.45,9,17,7.55,7,17.6ZM5,21V16.75L18.45,3.32a2,2,0,0,1,2.83,0l1.4,1.43a1.91,1.91,0,0,1,.58,1.4,1.91,1.91,0,0,1-.58,1.4L9.25,21ZM18.45,9,17,7.55Zm-12,3A5.31,5.31,0,0,0,4.9,8.1,5.31,5.31,0,0,0,1,6.5,5.31,5.31,0,0,0,4.9,4.9,5.31,5.31,0,0,0,6.5,1,5.31,5.31,0,0,0,8.1,4.9,5.31,5.31,0,0,0,12,6.5,5.46,5.46,0,0,0,6.5,12Z\"/>\n",
              "  </svg>\n",
              "    </button>\n",
              "    <script>\n",
              "      (() => {\n",
              "      const buttonEl =\n",
              "        document.querySelector('#id_d67898fd-8d80-4eb9-a5c2-9074b431302a button.colab-df-generate');\n",
              "      buttonEl.style.display =\n",
              "        google.colab.kernel.accessAllowed ? 'block' : 'none';\n",
              "\n",
              "      buttonEl.onclick = () => {\n",
              "        google.colab.notebook.generateWithVariable('team_salary');\n",
              "      }\n",
              "      })();\n",
              "    </script>\n",
              "  </div>\n",
              "\n",
              "    </div>\n",
              "  </div>\n"
            ],
            "application/vnd.google.colaboratory.intrinsic+json": {
              "type": "dataframe",
              "variable_name": "team_salary",
              "summary": "{\n  \"name\": \"team_salary\",\n  \"rows\": 5,\n  \"fields\": [\n    {\n      \"column\": \"Team\",\n      \"properties\": {\n        \"dtype\": \"string\",\n        \"num_unique_values\": 5,\n        \"samples\": [\n          \"Oklahoma City Thunder\",\n          \"Chicago Bulls\",\n          \"Golden State Warriors\"\n        ],\n        \"semantic_type\": \"\",\n        \"description\": \"\"\n      }\n    },\n    {\n      \"column\": \"Salary\",\n      \"properties\": {\n        \"dtype\": \"number\",\n        \"std\": 8281816.126172224,\n        \"min\": 73265800.0,\n        \"max\": 93906914.0,\n        \"num_unique_values\": 5,\n        \"samples\": [\n          81515298.0,\n          73265800.0,\n          80535517.0\n        ],\n        \"semantic_type\": \"\",\n        \"description\": \"\"\n      }\n    }\n  ]\n}"
            }
          },
          "metadata": {},
          "execution_count": 3
        }
      ],
      "source": [
        "team_salary = nba.groupby('Team', as_index=False)['Salary'].sum().sort_values(by = 'Salary', ascending = False)[:5]\n",
        "team_salary"
      ]
    },
    {
      "cell_type": "code",
      "execution_count": null,
      "metadata": {
        "colab": {
          "base_uri": "https://localhost:8080/",
          "height": 667
        },
        "id": "vsmwgErP1Dlj",
        "outputId": "1468c4e4-d053-4f44-ecc2-085c86929d3c"
      },
      "outputs": [
        {
          "output_type": "display_data",
          "data": {
            "text/plain": [
              "<Figure size 500x500 with 1 Axes>"
            ],
            "image/png": "[encoded data removed]"
          },
          "metadata": {}
        }
      ],
      "source": [
        "g = sns.catplot(x =\"Team\", y = 'Salary', kind='bar', data = team_salary, hue = 'Team')\n",
        "plt.xticks(rotation= 90);"
      ]
    },
    {
      "cell_type": "markdown",
      "metadata": {
        "id": "G5WrmQQy5EuU"
      },
      "source": [
        "* Separe la variable *Age* en tres grupos y cree una nueva columna llamada *Age-Group* con esta información. Muestre un gráfico de barras con el número de jugadores por grupo de edad diferenciando en esta (mediante un código de color) la posición."
      ]
    },
    {
      "cell_type": "code",
      "execution_count": null,
      "metadata": {
        "id": "bqTkcy4OeMvf",
        "colab": {
          "base_uri": "https://localhost:8080/",
          "height": 501
        },
        "outputId": "178538bb-d408-4985-be73-1493ee95d057"
      },
      "outputs": [
        {
          "output_type": "display_data",
          "data": {
            "text/plain": [
              "<Figure size 576.972x500 with 1 Axes>"
            ],
            "image/png": "[encoded data removed]"
          },
          "metadata": {}
        }
      ],
      "source": [
        "nba['Age_Group'] = pd.cut(nba.Age, 3, labels=['baja', 'media', 'alta'])\n",
        "\n",
        "sns.catplot(data = nba, x = 'Age_Group', kind = 'count', hue = 'Position');"
      ]
    },
    {
      "cell_type": "markdown",
      "metadata": {
        "id": "6XXJycQb9v7n"
      },
      "source": [
        "* Construya dos gráficos de caja en los que se muestren los salarios vs las posiciones de los jugadores y salarios vs grupo de edad en la misma figura, de manera que compartan el eje del salario. ¿Cuál característica es más importante a la hora de definir el salario?"
      ]
    },
    {
      "cell_type": "code",
      "execution_count": null,
      "metadata": {
        "colab": {
          "base_uri": "https://localhost:8080/",
          "height": 500
        },
        "id": "pwygCkoEBIXH",
        "outputId": "c29c88c5-2a7b-4230-9d20-38d9978e707f"
      },
      "outputs": [
        {
          "output_type": "display_data",
          "data": {
            "text/plain": [
              "<Figure size 500x500 with 1 Axes>"
            ],
            "image/png": "[encoded data removed]"
          },
          "metadata": {}
        }
      ],
      "source": [
        "sns.catplot(data = nba, x = 'Position', y = 'Salary', kind = 'box', hue = 'Position');"
      ]
    },
    {
      "cell_type": "code",
      "execution_count": null,
      "metadata": {
        "colab": {
          "base_uri": "https://localhost:8080/",
          "height": 500
        },
        "id": "WrUnAqsU9MPs",
        "outputId": "904cbced-7213-4f4c-baed-f64ca6568d95"
      },
      "outputs": [
        {
          "output_type": "display_data",
          "data": {
            "text/plain": [
              "<Figure size 500x500 with 1 Axes>"
            ],
            "image/png": "[encoded data removed]"
          },
          "metadata": {}
        }
      ],
      "source": [
        "sns.catplot(data = nba, x = 'Age_Group', y = 'Salary', kind = 'box', hue = 'Age_Group');"
      ]
    },
    {
      "cell_type": "code",
      "execution_count": null,
      "metadata": {
        "colab": {
          "base_uri": "https://localhost:8080/",
          "height": 489
        },
        "id": "fj0kFA_O-xqC",
        "outputId": "c35e8239-ff6d-402c-d605-7b8f17d31a68"
      },
      "outputs": [
        {
          "output_type": "display_data",
          "data": {
            "text/plain": [
              "<Figure size 900x500 with 2 Axes>"
            ],
            "image/png": "[encoded data removed]"
          },
          "metadata": {}
        }
      ],
      "source": [
        "fig, axs = plt.subplots(1, 2, sharey= True, figsize = (9, 5))\n",
        "\n",
        "sns.boxplot(data = nba, x = 'Position', y = 'Salary', hue = 'Position', ax = axs[0])\n",
        "sns.boxplot(data = nba, x = 'Age_Group', y = 'Salary', hue = 'Age_Group',  ax = axs[1]);"
      ]
    },
    {
      "cell_type": "markdown",
      "metadata": {
        "id": "-wwA7VpID-oU"
      },
      "source": [
        "Los gráfico de cajas nos permiten observar:\n",
        "\n",
        "* Distribucion\n",
        "* puntos aislados\n",
        "* Asimetria\n"
      ]
    },
    {
      "cell_type": "markdown",
      "metadata": {
        "id": "zo302HSQDDxw"
      },
      "source": [
        "* Construya una tabla dinámica que muestre el salario promedio de los jugadores por equipo y posición para para los cinco equipos que pagan mejores salarios. Visualice este resultado mediante un mapa de calor."
      ]
    },
    {
      "cell_type": "code",
      "execution_count": null,
      "metadata": {
        "colab": {
          "base_uri": "https://localhost:8080/",
          "height": 237
        },
        "id": "aZFe7IDu_jrV",
        "outputId": "edf4d461-1873-4ed6-b4e0-a2fb356f2232"
      },
      "outputs": [
        {
          "output_type": "execute_result",
          "data": {
            "text/plain": [
              "Position                          C            PF            PG            SF  \\\n",
              "Team                                                                            \n",
              "Chicago Bulls          1.340000e+07  3.578740e+06  1.117153e+07  1.958160e+06   \n",
              "Cleveland Cavaliers    7.768435e+06  1.394101e+07  6.551592e+06  9.472760e+05   \n",
              "Golden State Warriors  6.541249e+06  1.426087e+07  1.137079e+07  3.766367e+06   \n",
              "Los Angeles Clippers   1.039480e+07  6.655482e+06  1.228975e+07  3.662924e+06   \n",
              "Oklahoma City Thunder  6.303143e+06  2.606520e+06  9.382869e+06  8.599621e+06   \n",
              "\n",
              "Position                         SG  \n",
              "Team                                 \n",
              "Chicago Bulls          5.717549e+06  \n",
              "Cleveland Cavaliers    3.349079e+06  \n",
              "Golden State Warriors  8.224138e+06  \n",
              "Los Angeles Clippers   4.639893e+06  \n",
              "Oklahoma City Thunder  3.207058e+06  "
            ],
            "text/html": [
              "\n",
              "  <div id=\"df-0a263570-6870-4a21-823b-d3b5396734a7\" class=\"colab-df-container\">\n",
              "    <div>\n",
              "<style scoped>\n",
              "    .dataframe tbody tr th:only-of-type {\n",
              "        vertical-align: middle;\n",
              "    }\n",
              "\n",
              "    .dataframe tbody tr th {\n",
              "        vertical-align: top;\n",
              "    }\n",
              "\n",
              "    .dataframe thead th {\n",
              "        text-align: right;\n",
              "    }\n",
              "</style>\n",
              "<table border=\"1\" class=\"dataframe\">\n",
              "  <thead>\n",
              "    <tr style=\"text-align: right;\">\n",
              "      <th>Position</th>\n",
              "      <th>C</th>\n",
              "      <th>PF</th>\n",
              "      <th>PG</th>\n",
              "      <th>SF</th>\n",
              "      <th>SG</th>\n",
              "    </tr>\n",
              "    <tr>\n",
              "      <th>Team</th>\n",
              "      <th></th>\n",
              "      <th></th>\n",
              "      <th></th>\n",
              "      <th></th>\n",
              "      <th></th>\n",
              "    </tr>\n",
              "  </thead>\n",
              "  <tbody>\n",
              "    <tr>\n",
              "      <th>Chicago Bulls</th>\n",
              "      <td>1.340000e+07</td>\n",
              "      <td>3.578740e+06</td>\n",
              "      <td>1.117153e+07</td>\n",
              "      <td>1.958160e+06</td>\n",
              "      <td>5.717549e+06</td>\n",
              "    </tr>\n",
              "    <tr>\n",
              "      <th>Cleveland Cavaliers</th>\n",
              "      <td>7.768435e+06</td>\n",
              "      <td>1.394101e+07</td>\n",
              "      <td>6.551592e+06</td>\n",
              "      <td>9.472760e+05</td>\n",
              "      <td>3.349079e+06</td>\n",
              "    </tr>\n",
              "    <tr>\n",
              "      <th>Golden State Warriors</th>\n",
              "      <td>6.541249e+06</td>\n",
              "      <td>1.426087e+07</td>\n",
              "      <td>1.137079e+07</td>\n",
              "      <td>3.766367e+06</td>\n",
              "      <td>8.224138e+06</td>\n",
              "    </tr>\n",
              "    <tr>\n",
              "      <th>Los Angeles Clippers</th>\n",
              "      <td>1.039480e+07</td>\n",
              "      <td>6.655482e+06</td>\n",
              "      <td>1.228975e+07</td>\n",
              "      <td>3.662924e+06</td>\n",
              "      <td>4.639893e+06</td>\n",
              "    </tr>\n",
              "    <tr>\n",
              "      <th>Oklahoma City Thunder</th>\n",
              "      <td>6.303143e+06</td>\n",
              "      <td>2.606520e+06</td>\n",
              "      <td>9.382869e+06</td>\n",
              "      <td>8.599621e+06</td>\n",
              "      <td>3.207058e+06</td>\n",
              "    </tr>\n",
              "  </tbody>\n",
              "</table>\n",
              "</div>\n",
              "    <div class=\"colab-df-buttons\">\n",
              "\n",
              "  <div class=\"colab-df-container\">\n",
              "    <button class=\"colab-df-convert\" onclick=\"convertToInteractive('df-0a263570-6870-4a21-823b-d3b5396734a7')\"\n",
              "            title=\"Convert this dataframe to an interactive table.\"\n",
              "            style=\"display:none;\">\n",
              "\n",
              "  <svg xmlns=\"http://www.w3.org/2000/svg\" height=\"24px\" viewBox=\"0 -960 960 960\">\n",
              "    <path d=\"M120-120v-720h720v720H120Zm60-500h600v-160H180v160Zm220 220h160v-160H400v160Zm0 220h160v-160H400v160ZM180-400h160v-160H180v160Zm440 0h160v-160H620v160ZM180-180h160v-160H180v160Zm440 0h160v-160H620v160Z\"/>\n",
              "  </svg>\n",
              "    </button>\n",
              "\n",
              "  <style>\n",
              "    .colab-df-container {\n",
              "      display:flex;\n",
              "      gap: 12px;\n",
              "    }\n",
              "\n",
              "    .colab-df-convert {\n",
              "      background-color: #E8F0FE;\n",
              "      border: none;\n",
              "      border-radius: 50%;\n",
              "      cursor: pointer;\n",
              "      display: none;\n",
              "      fill: #1967D2;\n",
              "      height: 32px;\n",
              "      padding: 0 0 0 0;\n",
              "      width: 32px;\n",
              "    }\n",
              "\n",
              "    .colab-df-convert:hover {\n",
              "      background-color: #E2EBFA;\n",
              "      box-shadow: 0px 1px 2px rgba(60, 64, 67, 0.3), 0px 1px 3px 1px rgba(60, 64, 67, 0.15);\n",
              "      fill: #174EA6;\n",
              "    }\n",
              "\n",
              "    .colab-df-buttons div {\n",
              "      margin-bottom: 4px;\n",
              "    }\n",
              "\n",
              "    [theme=dark] .colab-df-convert {\n",
              "      background-color: #3B4455;\n",
              "      fill: #D2E3FC;\n",
              "    }\n",
              "\n",
              "    [theme=dark] .colab-df-convert:hover {\n",
              "      background-color: #434B5C;\n",
              "      box-shadow: 0px 1px 3px 1px rgba(0, 0, 0, 0.15);\n",
              "      filter: drop-shadow(0px 1px 2px rgba(0, 0, 0, 0.3));\n",
              "      fill: #FFFFFF;\n",
              "    }\n",
              "  </style>\n",
              "\n",
              "    <script>\n",
              "      const buttonEl =\n",
              "        document.querySelector('#df-0a263570-6870-4a21-823b-d3b5396734a7 button.colab-df-convert');\n",
              "      buttonEl.style.display =\n",
              "        google.colab.kernel.accessAllowed ? 'block' : 'none';\n",
              "\n",
              "      async function convertToInteractive(key) {\n",
              "        const element = document.querySelector('#df-0a263570-6870-4a21-823b-d3b5396734a7');\n",
              "        const dataTable =\n",
              "          await google.colab.kernel.invokeFunction('convertToInteractive',\n",
              "                                                    [key], {});\n",
              "        if (!dataTable) return;\n",
              "\n",
              "        const docLinkHtml = 'Like what you see? Visit the ' +\n",
              "          '<a target=\"_blank\" href=https://colab.research.google.com/notebooks/data_table.ipynb>data table notebook</a>'\n",
              "          + ' to learn more about interactive tables.';\n",
              "        element.innerHTML = '';\n",
              "        dataTable['output_type'] = 'display_data';\n",
              "        await google.colab.output.renderOutput(dataTable, element);\n",
              "        const docLink = document.createElement('div');\n",
              "        docLink.innerHTML = docLinkHtml;\n",
              "        element.appendChild(docLink);\n",
              "      }\n",
              "    </script>\n",
              "  </div>\n",
              "\n",
              "\n",
              "<div id=\"df-403fb844-eae0-498c-a7dd-e1d71fe8842e\">\n",
              "  <button class=\"colab-df-quickchart\" onclick=\"quickchart('df-403fb844-eae0-498c-a7dd-e1d71fe8842e')\"\n",
              "            title=\"Suggest charts\"\n",
              "            style=\"display:none;\">\n",
              "\n",
              "<svg xmlns=\"http://www.w3.org/2000/svg\" height=\"24px\"viewBox=\"0 0 24 24\"\n",
              "     width=\"24px\">\n",
              "    <g>\n",
              "        <path d=\"M19 3H5c-1.1 0-2 .9-2 2v14c0 1.1.9 2 2 2h14c1.1 0 2-.9 2-2V5c0-1.1-.9-2-2-2zM9 17H7v-7h2v7zm4 0h-2V7h2v10zm4 0h-2v-4h2v4z\"/>\n",
              "    </g>\n",
              "</svg>\n",
              "  </button>\n",
              "\n",
              "<style>\n",
              "  .colab-df-quickchart {\n",
              "      --bg-color: #E8F0FE;\n",
              "      --fill-color: #1967D2;\n",
              "      --hover-bg-color: #E2EBFA;\n",
              "      --hover-fill-color: #174EA6;\n",
              "      --disabled-fill-color: #AAA;\n",
              "      --disabled-bg-color: #DDD;\n",
              "  }\n",
              "\n",
              "  [theme=dark] .colab-df-quickchart {\n",
              "      --bg-color: #3B4455;\n",
              "      --fill-color: #D2E3FC;\n",
              "      --hover-bg-color: #434B5C;\n",
              "      --hover-fill-color: #FFFFFF;\n",
              "      --disabled-bg-color: #3B4455;\n",
              "      --disabled-fill-color: #666;\n",
              "  }\n",
              "\n",
              "  .colab-df-quickchart {\n",
              "    background-color: var(--bg-color);\n",
              "    border: none;\n",
              "    border-radius: 50%;\n",
              "    cursor: pointer;\n",
              "    display: none;\n",
              "    fill: var(--fill-color);\n",
              "    height: 32px;\n",
              "    padding: 0;\n",
              "    width: 32px;\n",
              "  }\n",
              "\n",
              "  .colab-df-quickchart:hover {\n",
              "    background-color: var(--hover-bg-color);\n",
              "    box-shadow: 0 1px 2px rgba(60, 64, 67, 0.3), 0 1px 3px 1px rgba(60, 64, 67, 0.15);\n",
              "    fill: var(--button-hover-fill-color);\n",
              "  }\n",
              "\n",
              "  .colab-df-quickchart-complete:disabled,\n",
              "  .colab-df-quickchart-complete:disabled:hover {\n",
              "    background-color: var(--disabled-bg-color);\n",
              "    fill: var(--disabled-fill-color);\n",
              "    box-shadow: none;\n",
              "  }\n",
              "\n",
              "  .colab-df-spinner {\n",
              "    border: 2px solid var(--fill-color);\n",
              "    border-color: transparent;\n",
              "    border-bottom-color: var(--fill-color);\n",
              "    animation:\n",
              "      spin 1s steps(1) infinite;\n",
              "  }\n",
              "\n",
              "  @keyframes spin {\n",
              "    0% {\n",
              "      border-color: transparent;\n",
              "      border-bottom-color: var(--fill-color);\n",
              "      border-left-color: var(--fill-color);\n",
              "    }\n",
              "    20% {\n",
              "      border-color: transparent;\n",
              "      border-left-color: var(--fill-color);\n",
              "      border-top-color: var(--fill-color);\n",
              "    }\n",
              "    30% {\n",
              "      border-color: transparent;\n",
              "      border-left-color: var(--fill-color);\n",
              "      border-top-color: var(--fill-color);\n",
              "      border-right-color: var(--fill-color);\n",
              "    }\n",
              "    40% {\n",
              "      border-color: transparent;\n",
              "      border-right-color: var(--fill-color);\n",
              "      border-top-color: var(--fill-color);\n",
              "    }\n",
              "    60% {\n",
              "      border-color: transparent;\n",
              "      border-right-color: var(--fill-color);\n",
              "    }\n",
              "    80% {\n",
              "      border-color: transparent;\n",
              "      border-right-color: var(--fill-color);\n",
              "      border-bottom-color: var(--fill-color);\n",
              "    }\n",
              "    90% {\n",
              "      border-color: transparent;\n",
              "      border-bottom-color: var(--fill-color);\n",
              "    }\n",
              "  }\n",
              "</style>\n",
              "\n",
              "  <script>\n",
              "    async function quickchart(key) {\n",
              "      const quickchartButtonEl =\n",
              "        document.querySelector('#' + key + ' button');\n",
              "      quickchartButtonEl.disabled = true;  // To prevent multiple clicks.\n",
              "      quickchartButtonEl.classList.add('colab-df-spinner');\n",
              "      try {\n",
              "        const charts = await google.colab.kernel.invokeFunction(\n",
              "            'suggestCharts', [key], {});\n",
              "      } catch (error) {\n",
              "        console.error('Error during call to suggestCharts:', error);\n",
              "      }\n",
              "      quickchartButtonEl.classList.remove('colab-df-spinner');\n",
              "      quickchartButtonEl.classList.add('colab-df-quickchart-complete');\n",
              "    }\n",
              "    (() => {\n",
              "      let quickchartButtonEl =\n",
              "        document.querySelector('#df-403fb844-eae0-498c-a7dd-e1d71fe8842e button');\n",
              "      quickchartButtonEl.style.display =\n",
              "        google.colab.kernel.accessAllowed ? 'block' : 'none';\n",
              "    })();\n",
              "  </script>\n",
              "</div>\n",
              "\n",
              "  <div id=\"id_02fb0200-7878-4610-87bc-3119a5293ca9\">\n",
              "    <style>\n",
              "      .colab-df-generate {\n",
              "        background-color: #E8F0FE;\n",
              "        border: none;\n",
              "        border-radius: 50%;\n",
              "        cursor: pointer;\n",
              "        display: none;\n",
              "        fill: #1967D2;\n",
              "        height: 32px;\n",
              "        padding: 0 0 0 0;\n",
              "        width: 32px;\n",
              "      }\n",
              "\n",
              "      .colab-df-generate:hover {\n",
              "        background-color: #E2EBFA;\n",
              "        box-shadow: 0px 1px 2px rgba(60, 64, 67, 0.3), 0px 1px 3px 1px rgba(60, 64, 67, 0.15);\n",
              "        fill: #174EA6;\n",
              "      }\n",
              "\n",
              "      [theme=dark] .colab-df-generate {\n",
              "        background-color: #3B4455;\n",
              "        fill: #D2E3FC;\n",
              "      }\n",
              "\n",
              "      [theme=dark] .colab-df-generate:hover {\n",
              "        background-color: #434B5C;\n",
              "        box-shadow: 0px 1px 3px 1px rgba(0, 0, 0, 0.15);\n",
              "        filter: drop-shadow(0px 1px 2px rgba(0, 0, 0, 0.3));\n",
              "        fill: #FFFFFF;\n",
              "      }\n",
              "    </style>\n",
              "    <button class=\"colab-df-generate\" onclick=\"generateWithVariable('table')\"\n",
              "            title=\"Generate code using this dataframe.\"\n",
              "            style=\"display:none;\">\n",
              "\n",
              "  <svg xmlns=\"http://www.w3.org/2000/svg\" height=\"24px\"viewBox=\"0 0 24 24\"\n",
              "       width=\"24px\">\n",
              "    <path d=\"M7,19H8.4L18.45,9,17,7.55,7,17.6ZM5,21V16.75L18.45,3.32a2,2,0,0,1,2.83,0l1.4,1.43a1.91,1.91,0,0,1,.58,1.4,1.91,1.91,0,0,1-.58,1.4L9.25,21ZM18.45,9,17,7.55Zm-12,3A5.31,5.31,0,0,0,4.9,8.1,5.31,5.31,0,0,0,1,6.5,5.31,5.31,0,0,0,4.9,4.9,5.31,5.31,0,0,0,6.5,1,5.31,5.31,0,0,0,8.1,4.9,5.31,5.31,0,0,0,12,6.5,5.46,5.46,0,0,0,6.5,12Z\"/>\n",
              "  </svg>\n",
              "    </button>\n",
              "    <script>\n",
              "      (() => {\n",
              "      const buttonEl =\n",
              "        document.querySelector('#id_02fb0200-7878-4610-87bc-3119a5293ca9 button.colab-df-generate');\n",
              "      buttonEl.style.display =\n",
              "        google.colab.kernel.accessAllowed ? 'block' : 'none';\n",
              "\n",
              "      buttonEl.onclick = () => {\n",
              "        google.colab.notebook.generateWithVariable('table');\n",
              "      }\n",
              "      })();\n",
              "    </script>\n",
              "  </div>\n",
              "\n",
              "    </div>\n",
              "  </div>\n"
            ],
            "application/vnd.google.colaboratory.intrinsic+json": {
              "type": "dataframe",
              "variable_name": "table",
              "summary": "{\n  \"name\": \"table\",\n  \"rows\": 5,\n  \"fields\": [\n    {\n      \"column\": \"C\",\n      \"properties\": {\n        \"dtype\": \"number\",\n        \"std\": 3002937.5442529917,\n        \"min\": 6303142.666666667,\n        \"max\": 13400000.0,\n        \"num_unique_values\": 5,\n        \"samples\": [\n          7768435.0,\n          6303142.666666667,\n          6541249.333333333\n        ],\n        \"semantic_type\": \"\",\n        \"description\": \"\"\n      }\n    },\n    {\n      \"column\": \"PF\",\n      \"properties\": {\n        \"dtype\": \"number\",\n        \"std\": 5583941.947210264,\n        \"min\": 2606520.0,\n        \"max\": 14260870.0,\n        \"num_unique_values\": 5,\n        \"samples\": [\n          13941014.5,\n          2606520.0,\n          14260870.0\n        ],\n        \"semantic_type\": \"\",\n        \"description\": \"\"\n      }\n    },\n    {\n      \"column\": \"PG\",\n      \"properties\": {\n        \"dtype\": \"number\",\n        \"std\": 2272076.6922714864,\n        \"min\": 6551592.333333333,\n        \"max\": 12289745.5,\n        \"num_unique_values\": 5,\n        \"samples\": [\n          6551592.333333333,\n          9382869.0,\n          11370786.0\n        ],\n        \"semantic_type\": \"\",\n        \"description\": \"\"\n      }\n    },\n    {\n      \"column\": \"SF\",\n      \"properties\": {\n        \"dtype\": \"number\",\n        \"std\": 2940485.7744057914,\n        \"min\": 947276.0,\n        \"max\": 8599620.666666666,\n        \"num_unique_values\": 5,\n        \"samples\": [\n          947276.0,\n          8599620.666666666,\n          3766367.4\n        ],\n        \"semantic_type\": \"\",\n        \"description\": \"\"\n      }\n    },\n    {\n      \"column\": \"SG\",\n      \"properties\": {\n        \"dtype\": \"number\",\n        \"std\": 2060097.6516985926,\n        \"min\": 3207057.5,\n        \"max\": 8224138.0,\n        \"num_unique_values\": 5,\n        \"samples\": [\n          3349079.0,\n          3207057.5,\n          8224138.0\n        ],\n        \"semantic_type\": \"\",\n        \"description\": \"\"\n      }\n    }\n  ]\n}"
            }
          },
          "metadata": {},
          "execution_count": 24
        }
      ],
      "source": [
        "filtered_data = nba.loc[nba.Team.isin(team_salary.Team)]\n",
        "table = filtered_data.pivot_table(\"Salary\", index=\"Team\", columns=\"Position\")\n",
        "table"
      ]
    },
    {
      "cell_type": "code",
      "execution_count": null,
      "metadata": {
        "colab": {
          "base_uri": "https://localhost:8080/",
          "height": 474
        },
        "id": "qpCMgsOODJ7y",
        "outputId": "71757497-a47d-4c1b-865c-2b126edb1ee6"
      },
      "outputs": [
        {
          "output_type": "display_data",
          "data": {
            "text/plain": [
              "<Figure size 640x480 with 2 Axes>"
            ],
            "image/png": "[encoded data removed]"
          },
          "metadata": {}
        }
      ],
      "source": [
        "sns.heatmap(table, cmap = 'coolwarm', annot = True);"
      ]
    },
    {
      "cell_type": "code",
      "execution_count": null,
      "metadata": {
        "id": "xq_NbWvfDS_h"
      },
      "outputs": [],
      "source": [
        "# generamos el mapa de calor\n"
      ]
    },
    {
      "cell_type": "code",
      "execution_count": null,
      "metadata": {
        "id": "vZDq4-RWbFGR"
      },
      "outputs": [],
      "source": []
    }
  ],
  "metadata": {
    "colab": {
      "provenance": []
    },
    "kernelspec": {
      "display_name": "Python 3 (ipykernel)",
      "language": "python",
      "name": "python3"
    },
    "language_info": {
      "codemirror_mode": {
        "name": "ipython",
        "version": 3
      },
      "file_extension": ".py",
      "mimetype": "text/x-python",
      "name": "python",
      "nbconvert_exporter": "python",
      "pygments_lexer": "ipython3",
      "version": "3.10.10"
    }
  },
  "nbformat": 4,
  "nbformat_minor": 0
}