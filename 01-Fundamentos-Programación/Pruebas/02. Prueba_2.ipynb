{
  "cells": [
    {
      "cell_type": "markdown",
      "id": "47f06ccb-43e4-43a8-98f2-b7fa71ac3909",
      "metadata": {
        "id": "47f06ccb-43e4-43a8-98f2-b7fa71ac3909"
      },
      "source": [
        "# **Prueba #2**\n",
        "En la siguiente pureba se evalua de manera EXCLUSIVA lo que se solicita, cualquier otra respuesta adicional a ella será valorada, más no evaluada. Entregue la prueba en un repositorio de github antes de el domingo 18 de Febrero a las 23:59:59."
      ]
    },
    {
      "cell_type": "markdown",
      "id": "47265071-6fdd-4597-ba86-4803b2244367",
      "metadata": {
        "id": "47265071-6fdd-4597-ba86-4803b2244367"
      },
      "source": [
        "## **Ejercicio 1** (40%)\n",
        "\n",
        "Construya un DataFrame a partir del siguiente diccionario\n",
        "\n",
        "`exam_data = {'name': ['Anastasia', 'Dima', 'Katherine', 'James', 'Emily', 'Michael', 'Matthew', 'Laura', 'Kevin', 'Jonas'], 'score': [12.5, 9, 16.5, 10, 9, 20, 14.5, 12, 8, 19], 'attempts': [1, 3, 2, 3, 2, 3, 1, 1, 2, 1], 'qualify': ['yes', 'no', 'yes', 'no', 'no', 'yes', 'yes', 'no', 'no', 'yes']}`\n",
        "\n",
        "con las siguientes etiquetas para los índices\n",
        "\n",
        "`labels = ['a', 'b', 'c', 'd', 'e', 'f', 'g', 'h', 'i', 'j']`\n",
        "\n",
        "1. Seleccione solo las columnas *name* y *score*.\n",
        "  \n",
        "2. Filtre las filas donde el número de intentos (attemps) sea mayor que 2.\n",
        "\n",
        "3. Filtre las filas donde el *score* se encuentre entre 15 y 20 (incluidos)\n",
        "\n",
        "4. Cambie el *score* en la fila 'd' a 11.5\n",
        "\n",
        "5. Agregue una nueva fila con etiqueta 'k' al dataframe con un valor que usted desee para cada columna\n",
        "\n",
        "6. Borre la fila 'k' y entregue nuevamente el DataFrame original.\n",
        "\n",
        "7. Ordene el DataFrame por nombre en orden ascendente.\n",
        "\n",
        "8. Reemplace los valores de la columna *qualify* que contiene los valores *yes* y *no* por los valores booleanos True y False respectivamente."
      ]
    },
    {
      "cell_type": "code",
      "execution_count": null,
      "id": "4b9add1e-eb73-4aff-87f7-ff48606631be",
      "metadata": {
        "id": "4b9add1e-eb73-4aff-87f7-ff48606631be"
      },
      "outputs": [],
      "source": []
    },
    {
      "cell_type": "code",
      "execution_count": null,
      "id": "f25e8958-fa52-4303-a3fd-40b26338cb84",
      "metadata": {
        "id": "f25e8958-fa52-4303-a3fd-40b26338cb84"
      },
      "outputs": [],
      "source": []
    },
    {
      "cell_type": "code",
      "execution_count": null,
      "id": "3aa96f04-3725-45c0-9453-dc461484bc27",
      "metadata": {
        "id": "3aa96f04-3725-45c0-9453-dc461484bc27"
      },
      "outputs": [],
      "source": []
    },
    {
      "cell_type": "code",
      "execution_count": null,
      "id": "ada85bf3-0c13-4371-8854-b1620c755209",
      "metadata": {
        "id": "ada85bf3-0c13-4371-8854-b1620c755209"
      },
      "outputs": [],
      "source": []
    },
    {
      "cell_type": "code",
      "execution_count": null,
      "id": "efb0e2fc-9fd5-43c0-ab0c-a23d44eb98ed",
      "metadata": {
        "id": "efb0e2fc-9fd5-43c0-ab0c-a23d44eb98ed"
      },
      "outputs": [],
      "source": []
    },
    {
      "cell_type": "code",
      "execution_count": null,
      "id": "372354a5-2c9d-4fbc-bde3-facdbcb81fd1",
      "metadata": {
        "id": "372354a5-2c9d-4fbc-bde3-facdbcb81fd1"
      },
      "outputs": [],
      "source": []
    },
    {
      "cell_type": "code",
      "execution_count": null,
      "id": "1d94e894-aacb-406f-abcc-9dbafb1eef9f",
      "metadata": {
        "id": "1d94e894-aacb-406f-abcc-9dbafb1eef9f"
      },
      "outputs": [],
      "source": []
    },
    {
      "cell_type": "markdown",
      "id": "72ae5ac2-fe81-424c-8a04-b27f3ce4f7c2",
      "metadata": {
        "id": "72ae5ac2-fe81-424c-8a04-b27f3ce4f7c2"
      },
      "source": [
        "## **Ejercicio 2** (30%)\n",
        "\n",
        "Importe el dataset `athletes` del repositorio del curso y realice las siguientes tareas:\n",
        "\n",
        "1. Importarlo como nombre athletes\n",
        "2. Filtre el dataframe tal que solo se quede con los atletas que hayan ganado al menos una medalla.\n",
        "3. Calcule la masa muscular por fila con una función como\n",
        "\n",
        "$$I_{m.m.} = \\frac{Weight}{Height^2}$$\n",
        "\n",
        "4. Agrupe los datos por calculando la media por deporte para cada una del resto de características. ¿Cuál es el deporte en el que los jugadores tienen mayor peso promedio?\n",
        "\n",
        "5. ¿Cuál es el pais con más participación femenina?"
      ]
    },
    {
      "cell_type": "code",
      "execution_count": null,
      "id": "ed1937d5-3ca3-4508-bafc-c1238cae47b4",
      "metadata": {
        "id": "ed1937d5-3ca3-4508-bafc-c1238cae47b4"
      },
      "outputs": [],
      "source": []
    },
    {
      "cell_type": "code",
      "execution_count": null,
      "id": "4f940318-7146-4f99-9804-0fd439798045",
      "metadata": {
        "id": "4f940318-7146-4f99-9804-0fd439798045"
      },
      "outputs": [],
      "source": []
    },
    {
      "cell_type": "code",
      "execution_count": null,
      "id": "3d9129d9-890f-48bd-8edf-2b294a885f85",
      "metadata": {
        "id": "3d9129d9-890f-48bd-8edf-2b294a885f85"
      },
      "outputs": [],
      "source": []
    },
    {
      "cell_type": "code",
      "execution_count": null,
      "id": "36a841a7-3d80-4126-8c79-f983d1e9904e",
      "metadata": {
        "id": "36a841a7-3d80-4126-8c79-f983d1e9904e"
      },
      "outputs": [],
      "source": []
    },
    {
      "cell_type": "code",
      "execution_count": null,
      "id": "f95f0aca-cd2e-4e9b-9109-ee317d0df0fb",
      "metadata": {
        "id": "f95f0aca-cd2e-4e9b-9109-ee317d0df0fb"
      },
      "outputs": [],
      "source": []
    },
    {
      "cell_type": "markdown",
      "id": "9a96e4d8-3e1c-41fc-b588-f8422fa73932",
      "metadata": {
        "id": "9a96e4d8-3e1c-41fc-b588-f8422fa73932"
      },
      "source": [
        "## **Ejercicio 3 (30%)**\n",
        "\n",
        "Importe el dataset de nba del repositorio de clase y responda (hint: Elimine las instancias con registros faltantes):\n",
        "\n",
        "1. Cuáles son los equipos que pagan los salarios más altos (presente el resultado como un dataFrame con el nombre del equipo y la cantidad de dinero de la nómina)\n",
        "2. Separe la variable *Age* en tres grupos y cree una nueva columna llamada *Age-Group* con esta información.<\n",
        "3. Construya una tabla dinámica que muestre el salario promedio de los jugadores por equipo y posición para para los cinco equipos que pagan mejores salarios."
      ]
    },
    {
      "cell_type": "code",
      "execution_count": null,
      "id": "5bc64c89-825a-476d-90d6-dab2a260ab13",
      "metadata": {
        "id": "5bc64c89-825a-476d-90d6-dab2a260ab13"
      },
      "outputs": [],
      "source": []
    },
    {
      "cell_type": "code",
      "execution_count": null,
      "id": "4b656b61-c42a-4f95-8d9a-890941f1bb8e",
      "metadata": {
        "id": "4b656b61-c42a-4f95-8d9a-890941f1bb8e"
      },
      "outputs": [],
      "source": []
    },
    {
      "cell_type": "code",
      "execution_count": null,
      "id": "d5176a3d-c446-4d16-9754-1d8f370568c5",
      "metadata": {
        "id": "d5176a3d-c446-4d16-9754-1d8f370568c5"
      },
      "outputs": [],
      "source": []
    }
  ],
  "metadata": {
    "kernelspec": {
      "display_name": "Python 3 (ipykernel)",
      "language": "python",
      "name": "python3"
    },
    "language_info": {
      "codemirror_mode": {
        "name": "ipython",
        "version": 3
      },
      "file_extension": ".py",
      "mimetype": "text/x-python",
      "name": "python",
      "nbconvert_exporter": "python",
      "pygments_lexer": "ipython3",
      "version": "3.10.12"
    },
    "colab": {
      "provenance": []
    }
  },
  "nbformat": 4,
  "nbformat_minor": 5
}