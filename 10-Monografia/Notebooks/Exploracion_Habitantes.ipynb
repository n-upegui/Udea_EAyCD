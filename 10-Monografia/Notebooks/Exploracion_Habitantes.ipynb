import numpy as np
import pandas as pd
import matplotli.pyplot as plt
